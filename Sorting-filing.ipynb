{
 "cells": [
  {
   "cell_type": "markdown",
   "id": "1f03eb44",
   "metadata": {},
   "source": [
    "# A function is called pure function if it always returns the same result for same argument values and it has no side effects like modifying an argument (or global variable) or outputting something. The only result of calling a pure function is the return value. Examples of pure functions are strlen(), pow(), sqrt() etc. Examples of impure functions are printf(), rand(), time(), etc."
   ]
  },
  {
   "cell_type": "markdown",
   "id": "63de760d",
   "metadata": {},
   "source": [
    "# Side effects are any changes in the state of the program or the environment that are not reflected in the function's output. Side effects can make the program unpredictable, hard to test, and difficult to debug."
   ]
  },
  {
   "cell_type": "markdown",
   "id": "a11323c8",
   "metadata": {},
   "source": [
    "# A function is called Higher Order Function if it contains other functions as a parameter or returns a function as an output i.e, the functions that operate with another function are known as Higher order Functions."
   ]
  },
  {
   "cell_type": "markdown",
   "id": "6e2cd426",
   "metadata": {},
   "source": [
    "# First-Class Function: A programming language is said to have First-class functions if functions in that language are treated like other variables. So the functions can be assigned to any other variable or passed as an argument or can be returned by another function."
   ]
  },
  {
   "cell_type": "markdown",
   "id": "3c50b278",
   "metadata": {},
   "source": [
    "#  Exercise 104: Sorted Order\n",
    "\n",
    "# Write a program that reads integers from the user and stores them in a list. Your program should continue reading values until the user enters 0. Then it should display all of the values entered by the user (except for the 0) in order from smallest to largest, with one value appearing on each line. Use either the sort method or the sorted function to sort the list."
   ]
  },
  {
   "cell_type": "code",
   "execution_count": 1,
   "id": "79c15e18",
   "metadata": {},
   "outputs": [
    {
     "name": "stdout",
     "output_type": "stream",
     "text": [
      "Enter any integer: 2\n",
      "Enter any integer: 1\n",
      "Enter any integer: 9\n",
      "Enter any integer: 3\n",
      "Enter any integer: 8\n",
      "Enter any integer: 0\n",
      "1\n",
      "2\n",
      "3\n",
      "8\n",
      "9\n"
     ]
    }
   ],
   "source": [
    "integer = int(input(\"Enter any integer: \"))\n",
    "number = list()\n",
    "while integer != 0:\n",
    "    number.append(integer)\n",
    "    integer = int(input(\"Enter any integer: \"))\n",
    "    number.sort()\n",
    "for integer in number:\n",
    "    print(integer)"
   ]
  },
  {
   "cell_type": "markdown",
   "id": "a2137515",
   "metadata": {},
   "source": [
    "# Exercise 105: Reverse Order\n",
    "\n",
    "# Write a program that reads integers from the user and stores them in a list. Use 0 as a sentinel value to mark the end of the input. Once all of the values have been read your program should display them (except for the 0) in reverse order, with one value appearing on each line."
   ]
  },
  {
   "cell_type": "code",
   "execution_count": 5,
   "id": "3f14728b",
   "metadata": {},
   "outputs": [
    {
     "name": "stdout",
     "output_type": "stream",
     "text": [
      "Enter an integer: 2\n",
      "Enter an integer: 4\n",
      "Enter an integer: 6\n",
      "Enter an integer: 7\n",
      "Enter an integer: 0\n",
      "7\n",
      "6\n",
      "4\n",
      "0\n"
     ]
    }
   ],
   "source": [
    "my_list=[]\n",
    "integer = int(input(\"Enter an integer: \"))\n",
    "while (integer != 0):\n",
    "    integer = int(input(\"Enter an integer: \"))\n",
    "    my_list.append(integer)\n",
    "    my_list.sort(reverse=True)\n",
    "for integer in my_list:\n",
    "    print(integer)"
   ]
  },
  {
   "cell_type": "code",
   "execution_count": 6,
   "id": "eaa3b84d",
   "metadata": {},
   "outputs": [
    {
     "name": "stdout",
     "output_type": "stream",
     "text": [
      "Enter an integer: 3\n",
      "Enter an integer: 4\n",
      "Enter an integer: 5\n",
      "Enter an integer: 6\n",
      "Enter an integer: 0\n",
      "6 5 4 0 "
     ]
    }
   ],
   "source": [
    "my_list=[]\n",
    "integer = int(input(\"Enter an integer: \"))\n",
    "while (integer != 0):\n",
    "    integer = int(input(\"Enter an integer: \"))\n",
    "    my_list.append(integer)\n",
    "n     my_list.sort(reverse=True)\n",
    "for integer in my_list:\n",
    "    print(integer, end=' ')"
   ]
  },
  {
   "cell_type": "markdown",
   "id": "c6a6b39d",
   "metadata": {},
   "source": [
    "# Exercise 107: Avoiding Duplicates\n",
    "# In this exercise, you will create a program that reads words from the user until the user enters a blank line. After the user enters a blank line your program should display each word entered by the user exactly once. The words should be displayed in the same order that they were entered. For example, if the user enters:\n",
    "# first\n",
    "# second\n",
    "# first\n",
    "# third\n",
    "# second\n",
    "# then your program should display:\n",
    "# first\n",
    "# second\n",
    "# third"
   ]
  },
  {
   "cell_type": "code",
   "execution_count": 12,
   "id": "fa7c43c3",
   "metadata": {},
   "outputs": [
    {
     "name": "stdout",
     "output_type": "stream",
     "text": [
      "Enter a word: first\n",
      "Enter a word: second\n",
      "Enter a word: third\n",
      "Enter a word: first\n",
      "Enter a word: second\n",
      "Enter a word: third\n",
      "Enter a word: \n",
      "second\n",
      "third\n",
      "first\n",
      "second\n",
      "third\n",
      "\n"
     ]
    }
   ],
   "source": [
    "words = []\n",
    "word = input(\"Enter a word: \")\n",
    "while word != \"\":\n",
    "    word = input(\"Enter a word: \")\n",
    "    words.append(word)\n",
    "    if word not in words:\n",
    "        print(f\"check your words\")\n",
    "for word in words:\n",
    "    print(word)"
   ]
  },
  {
   "cell_type": "code",
   "execution_count": null,
   "id": "1a2c6cbe",
   "metadata": {},
   "outputs": [],
   "source": []
  },
  {
   "cell_type": "code",
   "execution_count": null,
   "id": "642f0216",
   "metadata": {},
   "outputs": [],
   "source": [
    "import random\n",
    "\n",
    "A= [1,2,3,4,5,6]\n",
    "B= [1,2,3,4,5,6]\n",
    "two= []\n",
    "three= []\n",
    "four= []\n",
    "five= []\n",
    "six= []\n",
    "seven= []\n",
    "eight= []\n",
    "nine= []\n",
    "ten= []\n",
    "eleven= []\n",
    "twelve= []\n",
    "\n",
    "for i in range(1000):\n",
    "\n",
    "    x=random.randint(1,6)\n",
    "    \n",
    "    y=random.randint(1,6)\n",
    "\n",
    "    sum= x + y\n",
    "\n",
    "    if sum==2:\n",
    "        two.append(sum)\n",
    "    elif sum==3:\n",
    "        three.append(sum)\n",
    "    elif sum==4:\n",
    "        four.append(sum)\n",
    "    elif sum==5:\n",
    "        five.append(sum)\n",
    "    elif sum==6:\n",
    "        six.append(sum)\n",
    "    elif sum==7:\n",
    "        seven.append(sum)\n",
    "    elif sum==8:\n",
    "        eight.append(sum)\n",
    "    elif sum==9:\n",
    "        nine.append(sum)\n",
    "    elif sum==10:\n",
    "        ten.append(sum)\n",
    "    elif sum==11:\n",
    "        eleven.append(sum)\n",
    "    else:\n",
    "        twelve.append(sum)\n",
    "print('')\n",
    "print('')\n",
    "print('Total', ' ' , \"Simulated Percent\")\n",
    "print('')\n",
    "print(' 2 =====>', len(two)/10)\n",
    "print('')\n",
    "print(' 3 =====>', len(three)/10)\n",
    "print('')\n",
    "print(' 4 =====>', len(four)/10)\n",
    "print('')\n",
    "print(' 5 =====>', len(five)/10)\n",
    "print('')\n",
    "print(' 6 =====>', len(six)/10)\n",
    "print('')\n",
    "print(' 7 =====>', len(seven)/10)\n",
    "print('')\n",
    "print(' 8 =====>', len(eight)/10)\n",
    "print('')\n",
    "print(' 9 =====>', len(nine)/10)\n",
    "print('')\n",
    "print('10 =====>', len(ten)/10)\n",
    "print('')\n",
    "print('11 =====>', len(eleven)/10)\n",
    "print('')\n",
    "print('12 =====>', len(twelve)/10)\n",
    "print('')"
   ]
  }
 ],
 "metadata": {
  "kernelspec": {
   "display_name": "Python 3 (ipykernel)",
   "language": "python",
   "name": "python3"
  },
  "language_info": {
   "codemirror_mode": {
    "name": "ipython",
    "version": 3
   },
   "file_extension": ".py",
   "mimetype": "text/x-python",
   "name": "python",
   "nbconvert_exporter": "python",
   "pygments_lexer": "ipython3",
   "version": "3.11.4"
  }
 },
 "nbformat": 4,
 "nbformat_minor": 5
}
