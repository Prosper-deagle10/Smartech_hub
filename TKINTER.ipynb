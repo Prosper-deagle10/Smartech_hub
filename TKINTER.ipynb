{
 "cells": [
  {
   "cell_type": "code",
   "execution_count": 5,
   "id": "2c567272",
   "metadata": {},
   "outputs": [],
   "source": [
    "#RadioButton creation\n",
    "\n",
    "import tkinter as tk\n",
    " \n",
    "master = tk.Tk()\n",
    "master.title(\" Radio Button \")\n",
    " \n",
    "var = tk.StringVar()\n",
    "radiobutton = tk.Label(master, bg='pink', text='empty')\n",
    "radiobutton.pack()\n",
    " \n",
    "def print_selection():\n",
    "    radiobutton.config(text='you have selected ' + var.get())\n",
    "r1 = tk.Radiobutton(master, text='Option A', variable=var, value='A', command=print_selection)\n",
    "r1.pack()\n",
    "r2 = tk.Radiobutton(master, text='Option B', variable=var, value='B', command=print_selection)\n",
    "r2.pack()\n",
    "r3 = tk.Radiobutton(master, text='Option C', variable=var, value='C', command=print_selection)\n",
    "r3.pack()\n",
    " \n",
    "master.mainloop()\n"
   ]
  },
  {
   "cell_type": "code",
   "execution_count": 17,
   "id": "9ef01aa2",
   "metadata": {},
   "outputs": [],
   "source": [
    "# Checkbox creation\n",
    "\n",
    "from tkinter import *\n",
    "import tkinter as tk\n",
    "master = tk.Tk()\n",
    "checkbox= tk.Label(master, bg = \"light blue\", text = \"empty\")\n",
    "checkbox.pack\n",
    "def print_selection():\n",
    "    checkbox.config(text='you have selected ' + var.get())\n",
    "var1 = IntVar()\n",
    "Checkbutton(master, text=\"Male\", variable=var1, command=print_selection).pack()\n",
    "\n",
    "var2 = IntVar()\n",
    "Checkbutton(master, text=\"Female\", variable=var2, command=print_selection).pack()\n",
    "\n",
    "var3 = IntVar()\n",
    "Checkbutton(master, text=\"Other\", variable=var3, command=print_selection).pack()\n",
    "\n",
    "master.mainloop()"
   ]
  },
  {
   "cell_type": "code",
   "execution_count": 24,
   "id": "e10d4605",
   "metadata": {},
   "outputs": [
    {
     "name": "stdout",
     "output_type": "stream",
     "text": [
      "First Name: Mike\n",
      "Last Name: Happy\n"
     ]
    }
   ],
   "source": [
    "# Pady.\n",
    "\n",
    "from tkinter import *\n",
    "def show_entry_fields():\n",
    "    print(\"First Name: %s\\nLast Name: %s\" % (e1.get(), e2.get()))\n",
    "master = Tk()\n",
    "Label(master, text=\"First Name\").grid(row=0)\n",
    "Label(master, text=\"Last Name\").grid(row=1)\n",
    "e1 = Entry(master)\n",
    "e1.grid(row=0, column=1)\n",
    "e2 = Entry(master)\n",
    "e2.grid(row=1, column=1)\n",
    "Button(master, text='Quit', command=quit).grid(row=3, column=0, pady=4)\n",
    "Button(master, text='Show', command=show_entry_fields).grid(row=3, column=1,pady=4)\n",
    "mainloop()\n"
   ]
  },
  {
   "cell_type": "code",
   "execution_count": 23,
   "id": "cbe1e3aa",
   "metadata": {},
   "outputs": [],
   "source": [
    "from tkinter import *\n",
    " \n",
    "window = Tk()\n",
    "window.title(\"Padding and font style in Tkinter\")\n",
    "window.geometry(\"500x500\")\n",
    "window.config(background = \"green\")\n",
    " \n",
    "label_1 = Label(window, text = \"font size and style\",bg = \"yellow\", fg = \"white\",font = (\"Algerian\", 30))\n",
    "label_1.pack(padx = (100, 0))\n",
    " \n",
    "window.mainloop()"
   ]
  },
  {
   "cell_type": "code",
   "execution_count": null,
   "id": "67e70167",
   "metadata": {},
   "outputs": [],
   "source": []
  }
 ],
 "metadata": {
  "kernelspec": {
   "display_name": "Python 3 (ipykernel)",
   "language": "python",
   "name": "python3"
  },
  "language_info": {
   "codemirror_mode": {
    "name": "ipython",
    "version": 3
   },
   "file_extension": ".py",
   "mimetype": "text/x-python",
   "name": "python",
   "nbconvert_exporter": "python",
   "pygments_lexer": "ipython3",
   "version": "3.11.4"
  }
 },
 "nbformat": 4,
 "nbformat_minor": 5
}
