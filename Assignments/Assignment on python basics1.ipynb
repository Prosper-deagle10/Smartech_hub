{
 "cells": [
  {
   "cell_type": "markdown",
   "id": "b6fa5f03",
   "metadata": {},
   "source": [
    "#  Exercise 104: Sorted Order\n",
    "\n",
    "# Write a program that reads integers from the user and stores them in a list. Your program should continue reading values until the user enters 0. Then it should display all of the values entered by the user (except for the 0) in order from smallest to largest, with one value appearing on each line. Use either the sort method or the sorted function to sort the list."
   ]
  },
  {
   "cell_type": "code",
   "execution_count": 1,
   "id": "b904f757",
   "metadata": {},
   "outputs": [
    {
     "name": "stdout",
     "output_type": "stream",
     "text": [
      "Enter any integer: 4\n",
      "Enter any integer: 3\n",
      "Enter any integer: 2\n",
      "Enter any integer: 4\n",
      "Enter any integer: 0\n",
      "2\n",
      "3\n",
      "4\n",
      "4\n"
     ]
    }
   ],
   "source": [
    "integer = int(input(\"Enter any integer: \"))\n",
    "number = list()\n",
    "while integer != 0:\n",
    "    number.append(integer)\n",
    "    integer = int(input(\"Enter any integer: \"))\n",
    "    number.sort()\n",
    "for integer in number:\n",
    "    print(integer)"
   ]
  },
  {
   "cell_type": "markdown",
   "id": "34a0b6eb",
   "metadata": {},
   "source": [
    "# Exercise 105: Reverse Order\n",
    "\n",
    "# Write a program that reads integers from the user and stores them in a list. Use 0 as a sentinel value to mark the end of the input. Once all of the values have been read your program should display them (except for the 0) in reverse order, with one value appearing on each line."
   ]
  },
  {
   "cell_type": "code",
   "execution_count": 8,
   "id": "61642e1a",
   "metadata": {},
   "outputs": [
    {
     "name": "stdout",
     "output_type": "stream",
     "text": [
      "Enter an integer: 2\n",
      "Enter an integer: 3$\n"
     ]
    },
    {
     "ename": "ValueError",
     "evalue": "invalid literal for int() with base 10: '3$'",
     "output_type": "error",
     "traceback": [
      "\u001b[1;31m---------------------------------------------------------------------------\u001b[0m",
      "\u001b[1;31mValueError\u001b[0m                                Traceback (most recent call last)",
      "Cell \u001b[1;32mIn[8], line 4\u001b[0m\n\u001b[0;32m      2\u001b[0m integer \u001b[38;5;241m=\u001b[39m \u001b[38;5;28mint\u001b[39m(\u001b[38;5;28minput\u001b[39m(\u001b[38;5;124m\"\u001b[39m\u001b[38;5;124mEnter an integer: \u001b[39m\u001b[38;5;124m\"\u001b[39m))\n\u001b[0;32m      3\u001b[0m \u001b[38;5;28;01mwhile\u001b[39;00m (integer \u001b[38;5;241m!=\u001b[39m \u001b[38;5;241m0\u001b[39m):\n\u001b[1;32m----> 4\u001b[0m     integer \u001b[38;5;241m=\u001b[39m \u001b[38;5;28mint\u001b[39m(\u001b[38;5;28minput\u001b[39m(\u001b[38;5;124m\"\u001b[39m\u001b[38;5;124mEnter an integer: \u001b[39m\u001b[38;5;124m\"\u001b[39m))\n\u001b[0;32m      5\u001b[0m     my_list\u001b[38;5;241m.\u001b[39mappend(integer)\n\u001b[0;32m      6\u001b[0m     my_list\u001b[38;5;241m.\u001b[39msort(reverse\u001b[38;5;241m=\u001b[39m\u001b[38;5;28;01mTrue\u001b[39;00m)\n",
      "\u001b[1;31mValueError\u001b[0m: invalid literal for int() with base 10: '3$'"
     ]
    }
   ],
   "source": [
    "my_list=[]\n",
    "integer = int(input(\"Enter an integer: \"))\n",
    "while (integer != 0):\n",
    "    integer = int(input(\"Enter an integer: \"))\n",
    "    my_list.append(integer)\n",
    "    my_list.sort(reverse=True)\n",
    "for i in my_list:\n",
    "    print(integer)"
   ]
  },
  {
   "cell_type": "code",
   "execution_count": null,
   "id": "c0200153",
   "metadata": {},
   "outputs": [],
   "source": [
    "num = int(input(\"User Input: \"))\n",
    "mylist = []\n",
    "while(num !=0):\n",
    "    mylist.append(num)\n",
    "\n",
    "    num = int(input(\"User Input: \"))\n",
    "\n",
    "mylist.reverse()\n",
    "\n",
    "for i in mylist:\n",
    "\n",
    "    print(i,end = ' ')"
   ]
  },
  {
   "cell_type": "markdown",
   "id": "7392655b",
   "metadata": {},
   "source": [
    "# Exercise 107: Avoiding Duplicates\n",
    "\n",
    "# In this exercise, you will create a program that reads words from the user until the user enters a blank line. After the user enters a blank line your program should display each word entered by the user exactly once. The words should be displayed in the same order that they were entered. For example, if the user enters:\n",
    "# first\n",
    "# second\n",
    "# first\n",
    "# third\n",
    "# second\n",
    "# then your program should display:\n",
    "# first\n",
    "# second\n",
    "# third"
   ]
  },
  {
   "cell_type": "code",
   "execution_count": null,
   "id": "256a9600",
   "metadata": {},
   "outputs": [],
   "source": [
    "# Read a collection of words entered by the user.\n",
    "# Display each word entered by the user only\n",
    "# once, in the same order that the words were entered.\n",
    "#\n",
    "\n",
    "# Read words from the user and store them in a list\n",
    "words  = []\n",
    "word =  input (\"Enter a word (blank line to quit):\")\n",
    "while    word   !=   \"\":\n",
    "   # Only add the word to the list if\n",
    "   # it is not already present in it\n",
    "    if  word    not   in  words:\n",
    "        words.append(word)\n",
    "   # Read the next word from the user\n",
    "   word =  input (\"Enter      a  word    (blank    line   to   quit):    \")\n",
    "# Display the unique words\n",
    "for   word   in  words:\n",
    "    print (word)\n"
   ]
  },
  {
   "cell_type": "code",
   "execution_count": null,
   "id": "cd70e9e3",
   "metadata": {},
   "outputs": [],
   "source": [
    "words = [first, second, third]\n",
    "word = input(\"Enter a word: \")\n",
    "while word != \"\":\n",
    "    word = input(\"Enter a word: \")\n",
    "    words.append(word)\n",
    "    if word not in words:\n",
    "        print(f\"check your words\")\n",
    "for word in words:\n",
    "    print(word)"
   ]
  },
  {
   "cell_type": "markdown",
   "id": "e4d79ea9",
   "metadata": {},
   "source": [
    "# Exercise 129: Two Dice Simulation\n",
    "\n",
    "# In this exercise you will simulate 1,000 rolls of two dice. Begin by writing a function that simulates rolling a pair of six-sided dice. Your function will not take any parameters. It will return the total that was rolled on two dice as its only result. Write a main program that uses your function to simulate rolling two six-sided dice 1,000 times. As your program runs, it should count the number of times that each total occurs. Then it should display a table that summarizes this data. Express the frequency for each total as a percentage of the total number of rolls. Your program should also display the percentage expected by probability theory for each total. Sample output is shown below.\n",
    "\n"
   ]
  },
  {
   "cell_type": "code",
   "execution_count": null,
   "id": "34a5acfc",
   "metadata": {},
   "outputs": [],
   "source": [
    "import random\n",
    "def two_dice_roll():\n",
    "    dice1 = random.randrange(6) +1\n",
    "    dice2 = random.randrange(6) +1\n",
    "    return dice1 + dice2\n",
    " \n",
    "def main():\n",
    "    #Create a dictionary for the results and set all values to 0\n",
    "    result_dict = {2:0, 3:0, 4:0, 5:0, 6:0, 7:0, 8:0, 9:0, 10:0, 11:0, 12:0}\n",
    "     \n",
    "    #Simulate 1000 rolls and store the result\n",
    "    for turn in range(1000):\n",
    "        result = two_dice_roll()\n",
    "        #Add one to the dict using result as the key and by increasing its value by one\n",
    "        result_dict[result] += 1\n",
    "         \n",
    "    #Now present the result\n",
    "    #First the title row.We use the rjust method on the strings to right adjust \n",
    "    #the text\n",
    "    print(\"Total\".rjust(16),\"|\", \"Simulated %\".rjust(16),\"|\", \"Expected %\".rjust(16))\n",
    "    print(\"-------------------------------------------------------\")\n",
    "    #Now print the results\n",
    "    for n in range(2,13):\n",
    "        #Calculate the simulated result and format it with 2 decimal\n",
    "        #places and convert it to a string\n",
    "        sim_result = str(\"%.2f\"%(result_dict[n]/1000*100))\n",
    "        #To calculate the expected result we need to consider\n",
    "        #That the result of 7 is the most probable one \n",
    "        if n <= 7:\n",
    "            exp_result = str(\"%.2f\"%((n-1)/36*100))\n",
    "        else: #so if n is greater than 7 we need to reduce the probability\n",
    "            exp_result = str(\"%.2f\"%((12-n+1)/36*100))\n",
    "        #Now print this row using rjust method\n",
    "        print(str(n).rjust(16),\"|\",sim_result.rjust(16),\"|\",exp_result.rjust(16))\n",
    " \n",
    "if __name__ == '__main__':\n",
    "    main()"
   ]
  },
  {
   "cell_type": "markdown",
   "id": "42d7abbe",
   "metadata": {},
   "source": [
    "# Exercise 145: Find the Longest Word in a File\n",
    "\n",
    "# In this exercise you will create a Python program that identifies the longest word(s) in a file. Your program should output an appropriate message that includes the length of the longest word, along with all of the words of that length that occurred in the file. Treat any group of non-white space characters as a word, even if it includes numbers or punctuation marks."
   ]
  },
  {
   "cell_type": "code",
   "execution_count": null,
   "id": "05d2dac5",
   "metadata": {},
   "outputs": [],
   "source": []
  }
 ],
 "metadata": {
  "kernelspec": {
   "display_name": "Python 3 (ipykernel)",
   "language": "python",
   "name": "python3"
  },
  "language_info": {
   "codemirror_mode": {
    "name": "ipython",
    "version": 3
   },
   "file_extension": ".py",
   "mimetype": "text/x-python",
   "name": "python",
   "nbconvert_exporter": "python",
   "pygments_lexer": "ipython3",
   "version": "3.11.4"
  }
 },
 "nbformat": 4,
 "nbformat_minor": 5
}
