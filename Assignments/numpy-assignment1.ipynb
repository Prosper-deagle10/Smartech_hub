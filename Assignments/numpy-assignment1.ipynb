{
 "cells": [
  {
   "cell_type": "markdown",
   "id": "9f4f204a",
   "metadata": {},
   "source": [
    "# Assignment 1 - find out how to use the enumerate() fumction"
   ]
  },
  {
   "cell_type": "code",
   "execution_count": 12,
   "id": "2caedc79",
   "metadata": {},
   "outputs": [
    {
     "name": "stdout",
     "output_type": "stream",
     "text": [
      "(0, 1)\n",
      "(1, 3)\n",
      "(2, 4)\n",
      "(3, 5)\n",
      "(4, 6)\n"
     ]
    }
   ],
   "source": [
    "# The enumerate function in pyhton.\n",
    "# The enumerate() function is a built-in function in Python that returns an enumerate object. \n",
    "# An enumerate object is a sequence of tuples where each tuple consists of an index and the corresponding \n",
    "# value from a given iterable. In other words, the enumerate() function \n",
    "# adds a counter to an iterable and returns it as an enumerate object. For example:\n",
    "\n",
    "s = [1,3,4,5,6]\n",
    "l = [5,6,8,9,3]\n",
    "\n",
    "for i in enumerate(s):\n",
    "    print(i)"
   ]
  },
  {
   "cell_type": "code",
   "execution_count": 2,
   "id": "85d7ee4c",
   "metadata": {},
   "outputs": [
    {
     "name": "stdout",
     "output_type": "stream",
     "text": [
      "(0, 1)\n",
      "(1, 3)\n",
      "(2, 4)\n",
      "(3, 5)\n",
      "(4, 6)\n",
      "(5, 5)\n",
      "(6, 6)\n",
      "(7, 8)\n",
      "(8, 9)\n",
      "(9, 3)\n"
     ]
    }
   ],
   "source": [
    "s = [1,3,4,5,6]\n",
    "l = [5,6,8,9,3]\n",
    "\n",
    "for i in enumerate(s + l):\n",
    "    print(i)"
   ]
  },
  {
   "cell_type": "markdown",
   "id": "d295c0fe",
   "metadata": {},
   "source": [
    "# Assignment 2, try how to create random numbers in numpy"
   ]
  },
  {
   "cell_type": "code",
   "execution_count": 4,
   "id": "84d3855d",
   "metadata": {},
   "outputs": [
    {
     "name": "stdout",
     "output_type": "stream",
     "text": [
      "8\n"
     ]
    }
   ],
   "source": [
    "# This is a very common way to generate random integers in NumPy. \n",
    "#The \"j\" variable will contain a NumPy array of random integers between 5 and 10. \n",
    "#The number of elements in the array will be determined by the size of the array you initialize \"j\" with. \n",
    "#For example, if you initialize \"j\" with \"j = np.random.randint(5, 10, 3)\", \n",
    "# you will get an array of 3 random integers between 5 and 10.\n",
    "import numpy as np\n",
    "j = np.random.randint(5,10)\n",
    "print(j)"
   ]
  },
  {
   "cell_type": "code",
   "execution_count": 5,
   "id": "79b4822d",
   "metadata": {},
   "outputs": [
    {
     "name": "stdout",
     "output_type": "stream",
     "text": [
      "5\n"
     ]
    }
   ],
   "source": [
    "j = np.random.randint(5,10)\n",
    "print(j)"
   ]
  },
  {
   "cell_type": "code",
   "execution_count": 6,
   "id": "30bf4ae3",
   "metadata": {},
   "outputs": [
    {
     "name": "stdout",
     "output_type": "stream",
     "text": [
      "[6 7 5]\n"
     ]
    }
   ],
   "source": [
    "j = np.random.randint(5,10,3)\n",
    "print(j)"
   ]
  },
  {
   "cell_type": "code",
   "execution_count": 7,
   "id": "96b3891b",
   "metadata": {},
   "outputs": [
    {
     "name": "stdout",
     "output_type": "stream",
     "text": [
      "[8 7 6 8]\n"
     ]
    }
   ],
   "source": [
    "j = np.random.randint(5,10,4)\n",
    "print(j)"
   ]
  },
  {
   "cell_type": "code",
   "execution_count": 8,
   "id": "53f955dd",
   "metadata": {},
   "outputs": [
    {
     "name": "stdout",
     "output_type": "stream",
     "text": [
      "[6 5]\n"
     ]
    }
   ],
   "source": [
    "j = np.random.randint(5,10,2)\n",
    "print(j)"
   ]
  },
  {
   "cell_type": "markdown",
   "id": "933d38d7",
   "metadata": {},
   "source": [
    "# Assignment 3 - Try reshaping arrays"
   ]
  },
  {
   "cell_type": "code",
   "execution_count": 9,
   "id": "20872446",
   "metadata": {},
   "outputs": [
    {
     "name": "stdout",
     "output_type": "stream",
     "text": [
      "(4,)\n",
      "4\n"
     ]
    }
   ],
   "source": [
    "# Reshaping change the position of the rows and columes as can be seen below.\n",
    "#\n",
    "\n",
    "a = np.array([2, 3, 5, 4])\n",
    "b = np.array([1, -3, 4, 9])\n",
    "\n",
    "print(a.shape)\n",
    "print(b.size)"
   ]
  },
  {
   "cell_type": "code",
   "execution_count": 10,
   "id": "5f22d56a",
   "metadata": {},
   "outputs": [
    {
     "name": "stdout",
     "output_type": "stream",
     "text": [
      "(2, 4)\n"
     ]
    }
   ],
   "source": [
    "a = np.array([[2, 3, 5, 4], [1, -3, 4, 9]])\n",
    "\n",
    "print(a.shape)"
   ]
  },
  {
   "cell_type": "code",
   "execution_count": 11,
   "id": "71a0903a",
   "metadata": {},
   "outputs": [
    {
     "data": {
      "text/plain": [
       "array([[ 2,  3],\n",
       "       [ 5,  4],\n",
       "       [ 1, -3],\n",
       "       [ 4,  9]])"
      ]
     },
     "execution_count": 11,
     "metadata": {},
     "output_type": "execute_result"
    }
   ],
   "source": [
    "a.reshape(4,2)"
   ]
  },
  {
   "cell_type": "code",
   "execution_count": null,
   "id": "d05448f9",
   "metadata": {},
   "outputs": [],
   "source": []
  }
 ],
 "metadata": {
  "kernelspec": {
   "display_name": "Python 3 (ipykernel)",
   "language": "python",
   "name": "python3"
  },
  "language_info": {
   "codemirror_mode": {
    "name": "ipython",
    "version": 3
   },
   "file_extension": ".py",
   "mimetype": "text/x-python",
   "name": "python",
   "nbconvert_exporter": "python",
   "pygments_lexer": "ipython3",
   "version": "3.11.4"
  }
 },
 "nbformat": 4,
 "nbformat_minor": 5
}
