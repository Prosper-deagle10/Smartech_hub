{
 "cells": [
  {
   "cell_type": "markdown",
   "id": "1f8f2038",
   "metadata": {},
   "source": [
    "# ASSIGNMENT - CORRECTION \n",
    "## 03-09-2023\n",
    "# Assigmnet 1: Write a program that prints the salary increment of a worker if he/her name starts with any other alphabets besides P and G"
   ]
  },
  {
   "cell_type": "code",
   "execution_count": 2,
   "id": "87dcac56",
   "metadata": {},
   "outputs": [
    {
     "name": "stdout",
     "output_type": "stream",
     "text": [
      "Enter your name: Glory\n",
      "Enter your salary: 10000\n",
      "Glory you don't have any bonus, hence you are to receive 10000.0\n"
     ]
    }
   ],
   "source": [
    "name = input(\"Enter your name: \")\n",
    "salary = float(input(\"Enter your salary: \"))\n",
    "if name.upper().startswith(\"P\") or name.upper().startswith(\"G\"):\n",
    "    print(f\"{name} you don't have any bonus, hence you are to receive {salary}\")\n",
    "else:\n",
    "    bonus=salary*0.1\n",
    "    new_salary=salary+bonus\n",
    "    print(f\"{name} your bonus is {bonus}\")\n",
    "    print(f\" Your basic salary is {salary}\")\n",
    "    print(f\" you are receiving new salary {new_salary}\")"
   ]
  },
  {
   "cell_type": "code",
   "execution_count": 4,
   "id": "1c331b49",
   "metadata": {
    "scrolled": true
   },
   "outputs": [
    {
     "name": "stdout",
     "output_type": "stream",
     "text": [
      "Enter your name: Moses\n",
      "Enter your salary: 20000\n",
      "Moses your bonus is 2000.0\n",
      " Your basic salary is 20000.0\n",
      " you are receiving new salary 22000.0\n"
     ]
    }
   ],
   "source": [
    "name = input(\"Enter your name: \")\n",
    "salary = float(input(\"Enter your salary: \"))\n",
    "if name.upper().startswith(\"P\") or name.upper().startswith(\"G\"):\n",
    "    print(f\"{name} you don't have any bonus, hence you are to receive {salary}\")\n",
    "else:\n",
    "    bonus=salary*0.1\n",
    "    new_salary=salary+bonus\n",
    "    print(f\"{name} your bonus is {bonus}\")\n",
    "    print(f\" Your basic salary is {salary}\")\n",
    "    print(f\" you are receiving new salary {new_salary}\")"
   ]
  },
  {
   "cell_type": "markdown",
   "id": "966c8944",
   "metadata": {},
   "source": [
    "# Assigmnet 2: Write a program that will determine the grade of a student if the score is entered by the user."
   ]
  },
  {
   "cell_type": "code",
   "execution_count": 6,
   "id": "d9bb7728",
   "metadata": {},
   "outputs": [
    {
     "name": "stdout",
     "output_type": "stream",
     "text": [
      "enter your score: 67\n",
      "67.0, Your grade is: B\n"
     ]
    }
   ],
   "source": [
    "score= float(input(\"enter your score: \"))\n",
    "if score in range(69,101):\n",
    "    print(f\"{score}, Your grade is: A\")\n",
    "elif score in range(59,70):\n",
    "    print(f\"{score}, Your grade is: B\")\n",
    "elif score in range(51,60):\n",
    "    print(f\"{score}, Your grade is: C\")\n",
    "elif score in range(40,50):\n",
    "    print(f\"{score}, Your grade is: D\")\n",
    "elif score in range(36,41):\n",
    "    print(f\"{score}, Your grade is: E\")\n",
    "elif score in range(30,40):\n",
    "    print(f\"{score}, Your grade is: F\")\n",
    "    "
   ]
  },
  {
   "cell_type": "code",
   "execution_count": 7,
   "id": "231e3089",
   "metadata": {},
   "outputs": [
    {
     "name": "stdout",
     "output_type": "stream",
     "text": [
      "enter your score: 34\n",
      "34.0, Your grade is: F\n"
     ]
    }
   ],
   "source": [
    "score= float(input(\"enter your score: \"))\n",
    "if score in range(69,101):\n",
    "    print(f\"{score}, Your grade is: A\")\n",
    "elif score in range(59,70):\n",
    "    print(f\"{score}, Your grade is: B\")\n",
    "elif score in range(51,60):\n",
    "    print(f\"{score}, Your grade is: C\")\n",
    "elif score in range(40,50):\n",
    "    print(f\"{score}, Your grade is: D\")\n",
    "elif score in range(36,41):\n",
    "    print(f\"{score}, Your grade is: E\")\n",
    "elif score in range(30,40):\n",
    "    print(f\"{score}, Your grade is: F\")"
   ]
  },
  {
   "cell_type": "code",
   "execution_count": 8,
   "id": "299f8573",
   "metadata": {},
   "outputs": [
    {
     "name": "stdout",
     "output_type": "stream",
     "text": [
      "enter your score: 48\n",
      "48.0, Your grade is: D\n"
     ]
    }
   ],
   "source": [
    "score= float(input(\"enter your score: \"))\n",
    "if score in range(69,101):\n",
    "    print(f\"{score}, Your grade is: A\")\n",
    "elif score in range(59,70):\n",
    "    print(f\"{score}, Your grade is: B\")\n",
    "elif score in range(51,60):\n",
    "    print(f\"{score}, Your grade is: C\")\n",
    "elif score in range(40,50):\n",
    "    print(f\"{score}, Your grade is: D\")\n",
    "elif score in range(36,41):\n",
    "    print(f\"{score}, Your grade is: E\")\n",
    "elif score in range(30,40):\n",
    "    print(f\"{score}, Your grade is: F\")"
   ]
  },
  {
   "cell_type": "markdown",
   "id": "749ded0f",
   "metadata": {},
   "source": [
    "# Assigmnet 3: Write a program that will determine if a number is even or odd."
   ]
  },
  {
   "cell_type": "code",
   "execution_count": 10,
   "id": "9b11c8bb",
   "metadata": {},
   "outputs": [
    {
     "name": "stdout",
     "output_type": "stream",
     "text": [
      "Enter a number: 2\n",
      "2.0, is an even number.\n"
     ]
    }
   ],
   "source": [
    "num = float(input(\"Enter a number: \"))\n",
    "if (num % 2)==0:\n",
    "    print(f\"{num}, is an even number.\")\n",
    "else:\n",
    "    print(f\"{num}, is an odd number.\")"
   ]
  },
  {
   "cell_type": "code",
   "execution_count": 11,
   "id": "47cf3e1d",
   "metadata": {},
   "outputs": [
    {
     "name": "stdout",
     "output_type": "stream",
     "text": [
      "Enter a number: 31\n",
      "31.0, is an odd number.\n"
     ]
    }
   ],
   "source": [
    "num = float(input(\"Enter a number: \"))\n",
    "if (num % 2)==0:\n",
    "    print(f\"{num}, is an even number.\")\n",
    "else:\n",
    "    print(f\"{num}, is an odd number.\")"
   ]
  },
  {
   "cell_type": "code",
   "execution_count": 12,
   "id": "5708fef4",
   "metadata": {},
   "outputs": [
    {
     "name": "stdout",
     "output_type": "stream",
     "text": [
      "Enter a number: 111\n",
      "111.0, is an odd number.\n"
     ]
    }
   ],
   "source": [
    "num = float(input(\"Enter a number: \"))\n",
    "if (num % 2)==0:\n",
    "    print(f\"{num}, is an even number.\")\n",
    "else:\n",
    "    print(f\"{num}, is an odd number.\")"
   ]
  },
  {
   "cell_type": "code",
   "execution_count": 13,
   "id": "bba0894f",
   "metadata": {},
   "outputs": [
    {
     "name": "stdout",
     "output_type": "stream",
     "text": [
      "Enter a number: 444\n",
      "444.0, is an even number.\n"
     ]
    }
   ],
   "source": [
    "num = float(input(\"Enter a number: \"))\n",
    "if (num % 2)==0:\n",
    "    print(f\"{num}, is an even number.\")\n",
    "else:\n",
    "    print(f\"{num}, is an odd number.\")"
   ]
  },
  {
   "cell_type": "markdown",
   "id": "1cd7f42d",
   "metadata": {},
   "source": [
    "# Assigmnet 4: Write a program that prints the name of a polygon."
   ]
  },
  {
   "cell_type": "code",
   "execution_count": 17,
   "id": "d958b2aa",
   "metadata": {},
   "outputs": [
    {
     "name": "stdout",
     "output_type": "stream",
     "text": [
      "enter a side: 7\n",
      "Polygon is an heptagon\n"
     ]
    }
   ],
   "source": [
    "sides= float(input(\"enter a side: \"))\n",
    "\n",
    "if sides==3:\n",
    "    print(\"Polygon is a triangle\")\n",
    "elif sides==4:\n",
    "    print(\"Polygon is a Quadrilateral\")\n",
    "elif sides==5:\n",
    "    print(\"Polygon is a pentangon\")\n",
    "elif sides==6:\n",
    "    print(\"Polygon is an hexagon\")\n",
    "elif sides==7:\n",
    "    print(\"Polygon is an heptagon\")\n",
    "elif sides==8:\n",
    "    print(\"Polygon is an octangon\")\n",
    "elif sides==9:\n",
    "    print(\"Polygon is a nonagon\")\n",
    "elif sides==10:\n",
    "    print(\"Polygon is a decagon\")\n",
    "else:\n",
    "    print(f\"{sides} is not in first ten polygons\")"
   ]
  },
  {
   "cell_type": "code",
   "execution_count": 18,
   "id": "5d02aa59",
   "metadata": {},
   "outputs": [
    {
     "name": "stdout",
     "output_type": "stream",
     "text": [
      "enter a side: 13\n",
      "13.0 is not in first ten polygons\n"
     ]
    }
   ],
   "source": [
    "sides= float(input(\"enter a side: \"))\n",
    "\n",
    "if sides==3:\n",
    "    print(\"Polygon is a triangle\")\n",
    "elif sides==4:\n",
    "    print(\"Polygon is a Quadrilateral\")\n",
    "elif sides==5:\n",
    "    print(\"Polygon is a pentangon\")\n",
    "elif sides==6:\n",
    "    print(\"Polygon is an hexagon\")\n",
    "elif sides==7:\n",
    "    print(\"Polygon is an heptagon\")\n",
    "elif sides==8:\n",
    "    print(\"Polygon is an octangon\")\n",
    "elif sides==9:\n",
    "    print(\"Polygon is a nonagon\")\n",
    "elif sides==10:\n",
    "    print(\"Polygon is a decagon\")\n",
    "else:\n",
    "    print(f\"{sides} is not in first ten polygons\")"
   ]
  },
  {
   "cell_type": "code",
   "execution_count": 19,
   "id": "afd061d7",
   "metadata": {},
   "outputs": [
    {
     "name": "stdout",
     "output_type": "stream",
     "text": [
      "enter a side: 4\n",
      "Polygon is a Quadrilateral\n"
     ]
    }
   ],
   "source": [
    "sides= float(input(\"enter a side: \"))\n",
    "\n",
    "if sides==3:\n",
    "    print(\"Polygon is a triangle\")\n",
    "elif sides==4:\n",
    "    print(\"Polygon is a Quadrilateral\")\n",
    "elif sides==5:\n",
    "    print(\"Polygon is a pentangon\")\n",
    "elif sides==6:\n",
    "    print(\"Polygon is an hexagon\")\n",
    "elif sides==7:\n",
    "    print(\"Polygon is an heptagon\")\n",
    "elif sides==8:\n",
    "    print(\"Polygon is an octangon\")\n",
    "elif sides==9:\n",
    "    print(\"Polygon is a nonagon\")\n",
    "elif sides==10:\n",
    "    print(\"Polygon is a decagon\")\n",
    "else:\n",
    "    print(f\"{sides} is not in first ten polygons\")"
   ]
  },
  {
   "cell_type": "code",
   "execution_count": null,
   "id": "8a1aa892",
   "metadata": {},
   "outputs": [],
   "source": []
  }
 ],
 "metadata": {
  "kernelspec": {
   "display_name": "Python 3 (ipykernel)",
   "language": "python",
   "name": "python3"
  },
  "language_info": {
   "codemirror_mode": {
    "name": "ipython",
    "version": 3
   },
   "file_extension": ".py",
   "mimetype": "text/x-python",
   "name": "python",
   "nbconvert_exporter": "python",
   "pygments_lexer": "ipython3",
   "version": "3.11.4"
  }
 },
 "nbformat": 4,
 "nbformat_minor": 5
}
