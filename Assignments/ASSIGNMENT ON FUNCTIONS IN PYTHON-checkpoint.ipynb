{
 "cells": [
  {
   "cell_type": "markdown",
   "id": "410dfe88",
   "metadata": {},
   "source": [
    "# Exercise 81. "
   ]
  },
  {
   "cell_type": "markdown",
   "id": "0ea66e75",
   "metadata": {},
   "source": [
    "### Write a function that takes the lengths of the two shorter sides of a right triangle as its parameters. Return the hypotenuse of the triangle, computed using Pythagorean theorem, as the function’s result. Include a main program that reads the lengths of the shorter sides of a right triangle from the user, uses your function to compute the length of the hypotenuse, and displays the result."
   ]
  },
  {
   "cell_type": "code",
   "execution_count": null,
   "id": "ae46bc58",
   "metadata": {},
   "outputs": [],
   "source": [
    "import math\n",
    "adj=float(input(\"Enter adjacent: \"))\n",
    "opp=float(input(\"Enter opposite: \"))\n",
    "def pyth_theorem(adj,opp):\n",
    "    hyp = math.sqrt(adj**2 + opp**2)\n",
    "    return hyp\n",
    "    \n",
    "print(pyth_theorem(2,4))"
   ]
  },
  {
   "cell_type": "markdown",
   "id": "61817432",
   "metadata": {},
   "source": [
    "# Exercise 82.\n",
    "\n",
    "### In a particular jurisdiction, taxi fares consist of a base fare of $4.00, plus $0.25 for every 140 meters traveled. Write a function that takes the distance traveled (in kilometers) as its only parameter and returns the total fare as its only result. Write a main program that demonstrates the function."
   ]
  },
  {
   "cell_type": "code",
   "execution_count": null,
   "id": "21f6b068",
   "metadata": {},
   "outputs": [],
   "source": [
    "distance_traveled = float(input(\"Enter the distance traveled: \"))\n",
    "base_fare = 4.00\n",
    "def distance(x):\n",
    "    total_fare = round(base_fare + (0.25*0.14*distance_traveled),2)\n",
    "    return total_fare\n",
    "print(distance(4))"
   ]
  },
  {
   "cell_type": "markdown",
   "id": "0630bacc",
   "metadata": {},
   "source": [
    "# Exercise 83. \n",
    "\n",
    "\n",
    "### An online retailer provides express shipping for many of its items at a rate of $10.95 for  the  first  item,  and  $2.95 for each subsequent item. Write a function that takes the number of items in the order as its only parameter. Return the shipping charge for the order as the function’s result. Include a main program that reads the number of items purchased from the user and displays the shipping charge."
   ]
  },
  {
   "cell_type": "code",
   "execution_count": null,
   "id": "38d841d0",
   "metadata": {},
   "outputs": [],
   "source": [
    "def shipping_charge(num_items):\n",
    "    if num_items <= 0:\n",
    "        return 0\n",
    "    elif num_items == 1:\n",
    "        return 10.95\n",
    "    else:\n",
    "        return 10.95 + (num_items-1) * 2.95\n",
    "    \n",
    "num_items = int(input(\"Enter the number of items purchased: \"))\n",
    "shipping_cost = shipping_charge(num_items)\n",
    "print(\"Shipping charge: $\" + str(shipping_cost))"
   ]
  },
  {
   "cell_type": "code",
   "execution_count": null,
   "id": "3c6fb235",
   "metadata": {},
   "outputs": [],
   "source": [
    "def shipping_charge(num_items):\n",
    "    if num_items <= 0:\n",
    "        return 0\n",
    "    elif num_items == 1:\n",
    "        return 10.95\n",
    "    else:\n",
    "        return round(10.95 + (num_items-1) * 2.95,2)\n",
    "    \n",
    "num_items = float(input(\"Enter the number of items purchased: \"))\n",
    "shipping_cost = shipping_charge(num_items)\n",
    "print(\"Shipping charge: $\" + str(shipping_cost))"
   ]
  },
  {
   "cell_type": "markdown",
   "id": "337ed328",
   "metadata": {},
   "source": [
    "# Exercise 94.\n",
    "\n",
    "### Write a function that generates a random password. The password should have a random length of between 7 and 10 characters. Each character should be randomly selected from positions 33 to 126 in the ASCII table. Your function will not take any parameters. It will return the randomly generated password as its only result. Display the randomly generated password in your file’s main program. Your main program should only run when your solution has not been imported into another file."
   ]
  },
  {
   "cell_type": "code",
   "execution_count": null,
   "id": "68f2cf68",
   "metadata": {},
   "outputs": [],
   "source": [
    "import random as rd\n",
    "def random_password():\n",
    "    password = rd.randint(7,11)\n",
    "    for i in range(password):\n",
    "        random_characters = chr (randint(33,127))\n",
    "        password = password + random_characters\n",
    "    return password\n",
    "\n",
    "def random_password():\n",
    "    print(\"Your random password is:\", random_password)\n",
    "if  __name__   == \"__password__\":\n",
    "   password()"
   ]
  },
  {
   "cell_type": "markdown",
   "id": "b5e2f723",
   "metadata": {},
   "source": [
    "# Exercise 95. \n",
    "\n",
    "### In a particular jurisdiction, older license plates consist of three letters followed by three numbers. When all of the license plates following that pattern had been used, the format was changed to four numbers followed by three letters. Write a function that generates a random license plate. Your function should have approximately equal odds of generating a sequence of characters for an old license plate or a new license plate. Write a main program that calls your function and displays the randomly generated license plate."
   ]
  },
  {
   "cell_type": "code",
   "execution_count": null,
   "id": "2b0f094c",
   "metadata": {},
   "outputs": [],
   "source": [
    "import random as rd\n",
    "plate_format = 4\n",
    "def plate_number(a,b=0,c=0,d=0):\n",
    "    random_license = rd.randint(3,4)\n",
    "    for i in range of (plate_number):\n",
    "        plate_number = plate_number + random_license\n",
    "    return plate_number\n",
    "\n",
    "def plate_number(a,b=0,c=0,d=0):\n",
    "    number = float(input(\"Enter a number: \")): alphanumeric()\n",
    "        if number== 0:\n",
    "            return f\"Your new plate number is {plate_number}\""
   ]
  },
  {
   "cell_type": "markdown",
   "id": "bd29392a",
   "metadata": {},
   "source": [
    "# Exercise 96.\n",
    "\n",
    "### In this exercise you will write a function that determines whether or not a password is good. We will define a good password to be a one that is at least 8 characters long and contains at least one uppercase letter, at least one lowercase letter, and at least one number. Your function should return true if the password passed to it as its only parameter is good. Otherwise it should return false. Include a main program that reads a password from the user and reports whether or not it is good. Ensure that your main program only runs when your solution has not been imported into another file."
   ]
  },
  {
   "cell_type": "code",
   "execution_count": 3,
   "id": "e4d1cde8",
   "metadata": {},
   "outputs": [],
   "source": [
    "import string\n",
    "num = [i for i in range(0,10)]\n",
    "letdown = list(string.ascii_lowercase)\n",
    "letup = list(string.ascii_uppercase)\n",
    "def good_password(password):\n",
    "    l1=[]\n",
    "    l2=[]\n",
    "    l3=[]\n",
    "    for char in password:\n",
    "          if char in num:\n",
    "              l1.append(char)\n",
    "          elif char in letdown:\n",
    "              l2.append(char)\n",
    "          elif char in letup:\n",
    "              l3.append(char)\n",
    "    if len(l1)>=1 and len(l2) >=1 and len(l3) >=1 and len(password) >=8:\n",
    "        return True\n",
    "    else:\n",
    "        return False"
   ]
  },
  {
   "cell_type": "markdown",
   "id": "9b1fbe9a",
   "metadata": {},
   "source": [
    "# CLASSWORK - MODIFICATION"
   ]
  },
  {
   "cell_type": "code",
   "execution_count": 4,
   "id": "3c94365f",
   "metadata": {},
   "outputs": [
    {
     "data": {
      "text/plain": [
       "4"
      ]
     },
     "execution_count": 4,
     "metadata": {},
     "output_type": "execute_result"
    }
   ],
   "source": [
    "def median (a,b,c):\n",
    "    if a>=b and a<=c or a<=b and a>=c:\n",
    "        return a\n",
    "    if b>=a and b<=c or b<=a and b>=c:\n",
    "        return b\n",
    "    if c>=a and c<=b or c<=a and c>=b:\n",
    "        return c\n",
    "    \n",
    "median(2,4,6)"
   ]
  },
  {
   "cell_type": "code",
   "execution_count": 7,
   "id": "ac67a77a",
   "metadata": {},
   "outputs": [
    {
     "data": {
      "text/plain": [
       "103"
      ]
     },
     "execution_count": 7,
     "metadata": {},
     "output_type": "execute_result"
    }
   ],
   "source": [
    "# Assignment: use the reduce function on this\n",
    "\n",
    "from functools import reduce\n",
    "\n",
    "numbers = [4, 5, 3, 45, 34, 12]\n",
    "\n",
    "product = reduce(lambda x, y: x + y, numbers)\n",
    "product"
   ]
  },
  {
   "cell_type": "code",
   "execution_count": 12,
   "id": "e4b3cf1b",
   "metadata": {},
   "outputs": [
    {
     "data": {
      "text/plain": [
       "<function dir>"
      ]
     },
     "execution_count": 12,
     "metadata": {},
     "output_type": "execute_result"
    }
   ],
   "source": [
    "import functools\n",
    "dir"
   ]
  },
  {
   "cell_type": "code",
   "execution_count": 13,
   "id": "2be4230f",
   "metadata": {},
   "outputs": [
    {
     "data": {
      "text/plain": [
       "['In',\n",
       " 'Out',\n",
       " '_',\n",
       " '_1',\n",
       " '_10',\n",
       " '_12',\n",
       " '_4',\n",
       " '_7',\n",
       " '__',\n",
       " '___',\n",
       " '__builtin__',\n",
       " '__builtins__',\n",
       " '__doc__',\n",
       " '__loader__',\n",
       " '__name__',\n",
       " '__package__',\n",
       " '__spec__',\n",
       " '_dh',\n",
       " '_i',\n",
       " '_i1',\n",
       " '_i10',\n",
       " '_i11',\n",
       " '_i12',\n",
       " '_i13',\n",
       " '_i2',\n",
       " '_i3',\n",
       " '_i4',\n",
       " '_i5',\n",
       " '_i6',\n",
       " '_i7',\n",
       " '_i8',\n",
       " '_i9',\n",
       " '_ih',\n",
       " '_ii',\n",
       " '_iii',\n",
       " '_oh',\n",
       " 'exit',\n",
       " 'functools',\n",
       " 'get_ipython',\n",
       " 'numbers',\n",
       " 'open',\n",
       " 'product',\n",
       " 'quit',\n",
       " 'reduce',\n",
       " 'reduced']"
      ]
     },
     "execution_count": 13,
     "metadata": {},
     "output_type": "execute_result"
    }
   ],
   "source": [
    "dir()"
   ]
  },
  {
   "cell_type": "code",
   "execution_count": 14,
   "id": "bf93bd2d",
   "metadata": {},
   "outputs": [
    {
     "data": {
      "text/plain": [
       "35"
      ]
     },
     "execution_count": 14,
     "metadata": {},
     "output_type": "execute_result"
    }
   ],
   "source": [
    "import functools\n",
    "lis=[2,3,4,5,6,7,8]\n",
    "sum_all = reduce(lambda x,y : x+y, lis)\n",
    "sum_all"
   ]
  },
  {
   "cell_type": "code",
   "execution_count": 15,
   "id": "8fa039af",
   "metadata": {},
   "outputs": [
    {
     "data": {
      "text/plain": [
       "103"
      ]
     },
     "execution_count": 15,
     "metadata": {},
     "output_type": "execute_result"
    }
   ],
   "source": [
    "numbers = [4,5,3,45,34,12]\n",
    "\n",
    "sum_of_numbers = reduce(lambda x,y:x+y,numbers)\n",
    "\n",
    "sum_of_numbers\n"
   ]
  },
  {
   "cell_type": "code",
   "execution_count": null,
   "id": "96a0224a",
   "metadata": {},
   "outputs": [],
   "source": []
  }
 ],
 "metadata": {
  "kernelspec": {
   "display_name": "Python 3 (ipykernel)",
   "language": "python",
   "name": "python3"
  },
  "language_info": {
   "codemirror_mode": {
    "name": "ipython",
    "version": 3
   },
   "file_extension": ".py",
   "mimetype": "text/x-python",
   "name": "python",
   "nbconvert_exporter": "python",
   "pygments_lexer": "ipython3",
   "version": "3.11.4"
  }
 },
 "nbformat": 4,
 "nbformat_minor": 5
}
