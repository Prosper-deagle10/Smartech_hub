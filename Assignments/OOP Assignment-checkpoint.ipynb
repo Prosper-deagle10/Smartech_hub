{
 "cells": [
  {
   "cell_type": "code",
   "execution_count": 1,
   "id": "e266906b",
   "metadata": {},
   "outputs": [],
   "source": [
    "# Completion of the example in class!\n",
    "\n",
    "class Quadratic:\n",
    "    def __init__(self,a,b,c):\n",
    "        self.a=a\n",
    "        self.b=b\n",
    "        self.c=c\n",
    "    def discriminant(self):\n",
    "        return self.b**2-4*self.a*self.c\n",
    "    \n",
    "    def get_roots(self):\n",
    "        d = self.discriminant()\n",
    "        if d<0:\n",
    "            return \"The roots are imaginary\"\n",
    "        elif d==0:\n",
    "            x= -self.b/(2*self.a)\n",
    "            return x\n",
    "        else:\n",
    "            x1= (-self.b+(d)**0.5)/(2*self.a)\n",
    "            x2= (-self.b-(d)**0.5)/(2*self.a)\n",
    "            return x1,x2\n",
    "        \n",
    "    def __add__(self,other):\n",
    "        return f\"{self.a+other.a}x^2+{self.b+other.b}x+{self.c+other.c}\"\n",
    "    \n",
    "    def __add__(self,other):\n",
    "        return f\"{self.a+other.a}x^2+{self.b+other.b}x+{self.c+other.c}\"\n",
    "\n",
    "    def __repr__(self):\n",
    "        return f\"Quadratic({self.a},{self.b},{self.c})\"\n",
    "\n",
    "    def __str__(self):\n",
    "        return f\"{self.a}x^2+{self.b}x+{self.c}\"\n",
    "\n",
    "    def __mul__(self,other):\n",
    "        return f\"{self.a*other.a}x^4 + {self.a*other.b+other.a*self.b}x^3 + {self.a*other.c+self.b*other.b+self.c*other.a}x^2 + {self.b*other.c+other.b*self.c}x + {self.c*other.c}\"\n",
    "    def __sub__(self,other):\n",
    "        return f\"{self.a-other.a}x^2+{self.b-other.b}x+{self.c-other.c}\"\n",
    "    def __pow__(self,other):\n",
    "        return f\"{(self.a+other.a)**2}x^2+{(self.b+other.b)**2}x+{(self.c+other.c)**2}\""
   ]
  },
  {
   "cell_type": "code",
   "execution_count": 2,
   "id": "ab883a99",
   "metadata": {},
   "outputs": [],
   "source": [
    "q1=Quadratic(1,5,6)\n",
    "q2=Quadratic(1,-4,4)"
   ]
  },
  {
   "cell_type": "code",
   "execution_count": 3,
   "id": "6744837e",
   "metadata": {},
   "outputs": [
    {
     "data": {
      "text/plain": [
       "'1x^4 + 1x^3 + -10x^2 + -4x + 24'"
      ]
     },
     "execution_count": 3,
     "metadata": {},
     "output_type": "execute_result"
    }
   ],
   "source": [
    "q1*q2"
   ]
  },
  {
   "cell_type": "code",
   "execution_count": 4,
   "id": "80a7fe58",
   "metadata": {},
   "outputs": [
    {
     "data": {
      "text/plain": [
       "'0x^2+9x+2'"
      ]
     },
     "execution_count": 4,
     "metadata": {},
     "output_type": "execute_result"
    }
   ],
   "source": [
    "q1-q2"
   ]
  },
  {
   "cell_type": "code",
   "execution_count": null,
   "id": "4e8cb140",
   "metadata": {},
   "outputs": [],
   "source": []
  }
 ],
 "metadata": {
  "kernelspec": {
   "display_name": "Python 3 (ipykernel)",
   "language": "python",
   "name": "python3"
  },
  "language_info": {
   "codemirror_mode": {
    "name": "ipython",
    "version": 3
   },
   "file_extension": ".py",
   "mimetype": "text/x-python",
   "name": "python",
   "nbconvert_exporter": "python",
   "pygments_lexer": "ipython3",
   "version": "3.11.4"
  }
 },
 "nbformat": 4,
 "nbformat_minor": 5
}
