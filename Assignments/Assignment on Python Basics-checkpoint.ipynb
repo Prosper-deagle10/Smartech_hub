{
 "cells": [
  {
   "cell_type": "markdown",
   "id": "26d3e147",
   "metadata": {},
   "source": [
    "# QUESTION 1"
   ]
  },
  {
   "cell_type": "code",
   "execution_count": 1,
   "id": "94e52f22",
   "metadata": {},
   "outputs": [
    {
     "name": "stdout",
     "output_type": "stream",
     "text": [
      "Enter a number: 5\n",
      "No\n",
      "Enter a number: 2\n",
      "No\n",
      "Enter a number: 11\n",
      "No\n",
      "Enter a number: 12\n",
      "Yes\n"
     ]
    }
   ],
   "source": [
    "import random as rd\n",
    "number_of_attempt = 10\n",
    "for i in range(number_of_attempt):\n",
    "    guess_number=rd.randint(1,20)\n",
    "    number = float(input(\"Enter a number: \"))\n",
    "    if guess_number==number:\n",
    "        print(\"Yes\")\n",
    "        break\n",
    "    else:\n",
    "        print(\"No\")"
   ]
  },
  {
   "cell_type": "markdown",
   "id": "b5d3f940",
   "metadata": {},
   "source": [
    "# Exercise 5: Bottle Deposits"
   ]
  },
  {
   "cell_type": "code",
   "execution_count": 2,
   "id": "b1bc7c74",
   "metadata": {},
   "outputs": [
    {
     "name": "stdout",
     "output_type": "stream",
     "text": [
      "Enter size of container: 2\n",
      "Enter size of container: 3\n",
      "Your refund is $0.95\n"
     ]
    }
   ],
   "source": [
    "more_than_one_liter = 0.10\n",
    "more_than_two_liter = 0.25\n",
    "\n",
    "liter_of_container1= float(input(\"Enter size of container: \"))\n",
    "liter_of_container2= float(input(\"Enter size of container: \"))\n",
    "refund = more_than_one_liter * liter_of_container1 + more_than_two_liter * liter_of_container2\n",
    "print(f\"Your refund is ${refund}\")"
   ]
  },
  {
   "cell_type": "code",
   "execution_count": 3,
   "id": "ee26bea4",
   "metadata": {},
   "outputs": [
    {
     "name": "stdout",
     "output_type": "stream",
     "text": [
      "Enter size of container: 4\n",
      "Enter size of container: 10\n",
      "Your refund is $2.9\n"
     ]
    }
   ],
   "source": [
    "more_than_one_liter = 0.10\n",
    "more_than_two_liter = 0.25\n",
    "\n",
    "liter_of_container1= float(input(\"Enter size of container: \"))\n",
    "liter_of_container2= float(input(\"Enter size of container: \"))\n",
    "refund = more_than_one_liter * liter_of_container1 + more_than_two_liter * liter_of_container2\n",
    "print(f\"Your refund is ${refund}\")"
   ]
  },
  {
   "cell_type": "markdown",
   "id": "897ec1dd",
   "metadata": {},
   "source": [
    "# Exercise 6: Tax and Tip"
   ]
  },
  {
   "cell_type": "code",
   "execution_count": 4,
   "id": "64ec37a9",
   "metadata": {},
   "outputs": [
    {
     "name": "stdout",
     "output_type": "stream",
     "text": [
      "Enter cost of meal: 3000\n",
      "150.0\n",
      "540.0\n",
      "690.0\n"
     ]
    }
   ],
   "source": [
    "# Nigeria tax rate = 5% (0.05)\n",
    "cost=float(input(\"Enter cost of meal: \"))\n",
    "tax = round(0.05 * cost,2)\n",
    "tip = round(0.18 * cost,2)\n",
    "total = tip + tax\n",
    "print(tax)\n",
    "print(tip)\n",
    "print(total)"
   ]
  },
  {
   "cell_type": "code",
   "execution_count": 5,
   "id": "9e4704d5",
   "metadata": {},
   "outputs": [
    {
     "name": "stdout",
     "output_type": "stream",
     "text": [
      "Enter cost of meal: 235.675\n",
      "11.78\n",
      "42.42\n",
      "54.2\n"
     ]
    }
   ],
   "source": [
    "# Nigeria tax rate = 5% (0.05)\n",
    "cost=float(input(\"Enter cost of meal: \"))\n",
    "tax = round(0.05 * cost,2)\n",
    "tip = round(0.18 * cost,2)\n",
    "total = tip + tax\n",
    "print(tax)\n",
    "print(tip)\n",
    "print(total)"
   ]
  },
  {
   "cell_type": "markdown",
   "id": "34cbbdf9",
   "metadata": {},
   "source": [
    "# Exercise 7: Sum of the First n Positive Integers"
   ]
  },
  {
   "cell_type": "code",
   "execution_count": 6,
   "id": "f8fa6678",
   "metadata": {},
   "outputs": [
    {
     "name": "stdout",
     "output_type": "stream",
     "text": [
      "Enter an integer: 4\n",
      "1 and the sum is 1.5\n",
      "2 and the sum is 4.5\n",
      "3 and the sum is 9.5\n",
      "4 and the sum is 16.5\n",
      "5 and the sum is 25.5\n",
      "6 and the sum is 36.5\n",
      "7 and the sum is 49.5\n",
      "8 and the sum is 64.5\n",
      "9 and the sum is 81.5\n"
     ]
    }
   ],
   "source": [
    "n = int(input(\"Enter an integer: \"))\n",
    "for n in range(1,10):\n",
    "    sum_of_n= n*n+1/2\n",
    "    print(f\"{n} and the sum is {sum_of_n}\")"
   ]
  },
  {
   "cell_type": "code",
   "execution_count": 7,
   "id": "fa3531fc",
   "metadata": {},
   "outputs": [
    {
     "name": "stdout",
     "output_type": "stream",
     "text": [
      "Input a number: 4\n",
      "Sum of the first 4 positive integers 10.0\n"
     ]
    }
   ],
   "source": [
    "n = int(input(\"Input a number: \"))\n",
    "sum_num = (n * (n + 1)) / 2\n",
    "print(f\"Sum of the first {n} positive integers {sum_num}\")"
   ]
  },
  {
   "cell_type": "markdown",
   "id": "808a09e7",
   "metadata": {},
   "source": [
    "# Exercise 8:Widgets and Gizmos"
   ]
  },
  {
   "cell_type": "code",
   "execution_count": 8,
   "id": "8735e7c2",
   "metadata": {},
   "outputs": [
    {
     "name": "stdout",
     "output_type": "stream",
     "text": [
      "Enter no of widgets: 4\n",
      "Enter no of gizmos: 2\n",
      "The total weights of order is 524.0 grams\n"
     ]
    }
   ],
   "source": [
    "widgets = 75\n",
    "gizmos = 112\n",
    "no_of_widgets = float(input(\"Enter no of widgets: \"))\n",
    "no_of_gizmos = float(input(\"Enter no of gizmos: \"))\n",
    "total_weights = no_of_widgets * widgets + gizmos * no_of_gizmos\n",
    "print(f\"The total weights of order is {total_weights} grams\")"
   ]
  },
  {
   "cell_type": "code",
   "execution_count": 9,
   "id": "fc3c0d9b",
   "metadata": {},
   "outputs": [
    {
     "name": "stdout",
     "output_type": "stream",
     "text": [
      "Enter no of widgets: 10\n",
      "Enter no of gizmos: 11\n",
      "The total weights of order is 1982.0 grams\n"
     ]
    }
   ],
   "source": [
    "widgets = 75\n",
    "gizmos = 112\n",
    "no_of_widgets = float(input(\"Enter no of widgets: \"))\n",
    "no_of_gizmos = float(input(\"Enter no of gizmos: \"))\n",
    "total_weights = no_of_widgets * widgets + gizmos * no_of_gizmos\n",
    "print(f\"The total weights of order is {total_weights} grams\")"
   ]
  },
  {
   "cell_type": "markdown",
   "id": "9127c30e",
   "metadata": {},
   "source": [
    "# Exercise 9: Compound Interest"
   ]
  },
  {
   "cell_type": "code",
   "execution_count": 11,
   "id": "e4a2b499",
   "metadata": {},
   "outputs": [
    {
     "name": "stdout",
     "output_type": "stream",
     "text": [
      "Enter amount of money deposited: $5000\n",
      "Your interest is $200.0\n",
      "$400.0\n",
      "$600.0\n",
      "Congrats!!!\n"
     ]
    }
   ],
   "source": [
    "amt_money = float(input(\"Enter amount of money deposited: $\"))\n",
    "interest = round(amt_money *0.04*1, 2)\n",
    "two_years_interest = round(interest*2, 2)\n",
    "three_years_interest = round(interest *3, 2)\n",
    "print(f\"Your interest is ${interest}\\n${two_years_interest}\\n${three_years_interest}\\nCongrats!!!\")"
   ]
  },
  {
   "cell_type": "code",
   "execution_count": 12,
   "id": "1b142c2c",
   "metadata": {},
   "outputs": [
    {
     "name": "stdout",
     "output_type": "stream",
     "text": [
      "Enter amount of money deposited: 10000\n",
      "Your interest is\n",
      "first_year: 400.0\n",
      "second_year: 800.0\n",
      "third_year: 1200.0\n",
      "Congrats!!!\n"
     ]
    }
   ],
   "source": [
    "amt_money = float(input(\"Enter amount of money deposited: \"))\n",
    "interest = round(amt_money *0.04*1, 2)\n",
    "two_years_interest = round(interest*2, 2)\n",
    "three_years_interest = round(interest *3, 2)\n",
    "print(f\"Your interest is\\nfirst_year: {interest}\\nsecond_year: {two_years_interest}\\nthird_year: {three_years_interest}\\nCongrats!!!\")"
   ]
  },
  {
   "cell_type": "code",
   "execution_count": 13,
   "id": "9db26fb9",
   "metadata": {},
   "outputs": [
    {
     "name": "stdout",
     "output_type": "stream",
     "text": [
      "Enter amount of money deposited: $50000\n",
      "Your interest is\n",
      "first_year: $2000.0\n",
      "second_year: $4000.0\n",
      "third_year: $6000.0\n",
      "Congrats!!!\n"
     ]
    }
   ],
   "source": [
    "amt_money = float(input(\"Enter amount of money deposited: $\"))\n",
    "interest = round(amt_money *0.04*1, 2)\n",
    "two_years_interest = round(interest*2, 2)\n",
    "three_years_interest = round(interest *3, 2)\n",
    "print(f\"Your interest is\\nfirst_year: ${interest}\\nsecond_year: ${two_years_interest}\\nthird_year: ${three_years_interest}\\nCongrats!!!\")"
   ]
  },
  {
   "cell_type": "markdown",
   "id": "8ed022f6",
   "metadata": {},
   "source": [
    "# Exercise 10: Arithmetic"
   ]
  },
  {
   "cell_type": "code",
   "execution_count": 14,
   "id": "d333beae",
   "metadata": {},
   "outputs": [
    {
     "name": "stdout",
     "output_type": "stream",
     "text": [
      "Enter a number for A: 4\n",
      "Enter a number for B: 5\n",
      "9\n",
      "1\n",
      "20\n",
      "0.8\n",
      "4\n",
      "1024\n"
     ]
    }
   ],
   "source": [
    "a = int(input(\"Enter a number for A: \"))\n",
    "b = int(input(\"Enter a number for B: \"))\n",
    "addition = a+ b\n",
    "sub = b-a\n",
    "product = a*b\n",
    "quotient = a/b\n",
    "reminder = a % b\n",
    "power = a**b\n",
    "print(f\"{addition}\\n{sub}\\n{product}\\n{quotient}\\n{reminder}\\n{power}\")"
   ]
  },
  {
   "cell_type": "markdown",
   "id": "68b49a64",
   "metadata": {},
   "source": [
    "# Exercise 63: Temperature Conversion Table"
   ]
  },
  {
   "cell_type": "code",
   "execution_count": 15,
   "id": "e51756be",
   "metadata": {},
   "outputs": [
    {
     "name": "stdout",
     "output_type": "stream",
     "text": [
      "Temperature | Fahrenheit\n",
      "10            50.0\n",
      "Temperature | Fahrenheit\n",
      "20            68.0\n",
      "Temperature | Fahrenheit\n",
      "30            86.0\n",
      "Temperature | Fahrenheit\n",
      "40            104.0\n",
      "Temperature | Fahrenheit\n",
      "50            122.0\n",
      "Temperature | Fahrenheit\n",
      "60            140.0\n",
      "Temperature | Fahrenheit\n",
      "70            158.0\n",
      "Temperature | Fahrenheit\n",
      "80            176.0\n",
      "Temperature | Fahrenheit\n",
      "90            194.0\n",
      "Temperature | Fahrenheit\n",
      "100            212.0\n"
     ]
    }
   ],
   "source": [
    "for temp in range(1,101):\n",
    "    if temp % 10 ==0:\n",
    "        F = (temp*1.8)+32\n",
    "        print(f\"Temperature | Fahrenheit\\n{temp}            {F}\")"
   ]
  },
  {
   "cell_type": "markdown",
   "id": "5ecb120f",
   "metadata": {},
   "source": [
    "# Exercise 67: Admission Price"
   ]
  },
  {
   "cell_type": "code",
   "execution_count": null,
   "id": "2be5ecf3",
   "metadata": {},
   "outputs": [],
   "source": []
  },
  {
   "cell_type": "markdown",
   "id": "a7a42c20",
   "metadata": {},
   "source": [
    "# Exercise 72: Is a String a Palindrome?"
   ]
  },
  {
   "cell_type": "code",
   "execution_count": 16,
   "id": "a2b11847",
   "metadata": {},
   "outputs": [
    {
     "name": "stdout",
     "output_type": "stream",
     "text": [
      "Enter a string: prosper\n",
      "prosper is not a palindrome.\n"
     ]
    }
   ],
   "source": [
    "string = input(\"Enter a string: \")\n",
    "palindrome = True\n",
    "for i in range(len(string)//2):\n",
    "    if string[i] != string[-i-1]:\n",
    "        palindrome = False\n",
    "        break\n",
    "if palindrome:\n",
    "    print(string, \"is a palindrome.\")\n",
    "else:\n",
    "    print(string, \"is not a palindrome.\")"
   ]
  },
  {
   "cell_type": "code",
   "execution_count": 17,
   "id": "7b1f68a8",
   "metadata": {},
   "outputs": [
    {
     "name": "stdout",
     "output_type": "stream",
     "text": [
      "Enter a string: anna\n",
      "anna is a palindrome.\n"
     ]
    }
   ],
   "source": [
    "string = input(\"Enter a string: \")\n",
    "palindrome = True\n",
    "for i in range(len(string)//2):\n",
    "    if string[i] != string[-i-1]:\n",
    "        palindrome = False\n",
    "        break\n",
    "if palindrome:\n",
    "    print(string, \"is a palindrome.\")\n",
    "else:\n",
    "    print(string, \"is not a palindrome.\")"
   ]
  },
  {
   "cell_type": "code",
   "execution_count": 18,
   "id": "366b9a00",
   "metadata": {},
   "outputs": [
    {
     "name": "stdout",
     "output_type": "stream",
     "text": [
      "Enter a string: bubble\n",
      "bubble is not a palindrome.\n"
     ]
    }
   ],
   "source": [
    "string = input(\"Enter a string: \")\n",
    "palindrome = True\n",
    "for i in range(len(string)//2):\n",
    "    if string[i] != string[-i-1]:\n",
    "        palindrome = False\n",
    "        break\n",
    "if palindrome:\n",
    "    print(string, \"is a palindrome.\")\n",
    "else:\n",
    "    print(string, \"is not a palindrome.\")"
   ]
  },
  {
   "cell_type": "markdown",
   "id": "02db97e8",
   "metadata": {},
   "source": [
    "# Exercise 73: Multiple Word Palindromes"
   ]
  },
  {
   "cell_type": "code",
   "execution_count": null,
   "id": "08ed46cf",
   "metadata": {},
   "outputs": [],
   "source": []
  }
 ],
 "metadata": {
  "kernelspec": {
   "display_name": "Python 3 (ipykernel)",
   "language": "python",
   "name": "python3"
  },
  "language_info": {
   "codemirror_mode": {
    "name": "ipython",
    "version": 3
   },
   "file_extension": ".py",
   "mimetype": "text/x-python",
   "name": "python",
   "nbconvert_exporter": "python",
   "pygments_lexer": "ipython3",
   "version": "3.11.4"
  }
 },
 "nbformat": 4,
 "nbformat_minor": 5
}
