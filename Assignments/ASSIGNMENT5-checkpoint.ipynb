{
 "cells": [
  {
   "cell_type": "markdown",
   "id": "d15cb7bc",
   "metadata": {},
   "source": [
    "# ASSIGNMENT - 06/09/2023"
   ]
  },
  {
   "cell_type": "markdown",
   "id": "a0d19ebf",
   "metadata": {},
   "source": [
    "## Question 1: The length of a month varies from 28 to 31 days. In this exercise you will create a program that reads the name of a month from the user as a string. Then your program should display the number of days in that month. Display “28 or 29 days” for February so that leap years are addressed. "
   ]
  },
  {
   "cell_type": "code",
   "execution_count": 44,
   "id": "97ac4bdd",
   "metadata": {
    "scrolled": true
   },
   "outputs": [
    {
     "name": "stdout",
     "output_type": "stream",
     "text": [
      "Input the name of Month: March\n",
      "No. of days: 31 day\n"
     ]
    }
   ],
   "source": [
    "month_name = input(\"Input the name of Month: \")\n",
    "if month_name == 'February':\n",
    "    print('No. of days: 28/29 days')\n",
    "elif month_name in ('April', 'June', 'September', 'November'):\n",
    "    print('No. of days: 30 days')\n",
    "elif month_name in ('January', 'March', 'May', 'July', 'August', 'October', 'December'):\n",
    "    print('No. of days: 31 day')\n",
    "else:\n",
    "    print('Error month name') \n",
    "    "
   ]
  },
  {
   "cell_type": "code",
   "execution_count": null,
   "id": "6fc8e08b",
   "metadata": {},
   "outputs": [],
   "source": []
  },
  {
   "cell_type": "markdown",
   "id": "6979bcf0",
   "metadata": {},
   "source": [
    "# The following table lists the sound level in decibels for several common noises.\n",
    "Noise Decibel level (dB)\n",
    "Jackhammer -- 130\n",
    "Gas lawnmower -- 106\n",
    "Alarm clock -- 70\n",
    " Quiet room -- 40\n",
    "Write a program that reads a sound level in decibels from the user. If the user enters a decibel level that matches one of the noises in the table then your programshould display a message containing only that noise. If the user enters a numberof decibels between the noises listed then your program should display a messagindicating which noises the level is between. Ensure that your program also generatesreasonable output for a value smaller than the quietest noise in the table, and for avalue larger than the loudest noise in the table."
   ]
  },
  {
   "cell_type": "code",
   "execution_count": 57,
   "id": "a2357c0f",
   "metadata": {},
   "outputs": [
    {
     "name": "stdout",
     "output_type": "stream",
     "text": [
      "Enter the number of decibels: 105\n",
      "quieter than a lawn mower.\n"
     ]
    }
   ],
   "source": [
    "decibels = float(input(\"Enter the number of decibels: \"))\n",
    "\t\n",
    "if decibels > 0 and decibels < 40:\n",
    "    print('quieter than a quiet room.')\n",
    "\t\t\n",
    "elif decibels == 40:\n",
    "    print('about the same as a quiet room.')\n",
    "\t\n",
    "elif decibels > 40 and decibels < 70:\n",
    "    print('quieter than an alarm clock.')\n",
    "elif decibels == 70:\n",
    "    print('about the same as an alarm clock.')\n",
    "\t\t\n",
    "elif decibels > 70 and decibels < 106:\n",
    "    print('quieter than a lawn mower.')\n",
    "\t\n",
    "elif decibels == 106:\n",
    "    ('about the same as a lawn mower.')\n",
    "\t\n",
    "elif decibels > 106 and decibels < 130:\n",
    "    print(\" quieter than a jackhammer.\")\n",
    "\t\t\n",
    "elif decibels == 130:\n",
    "    print('about the same as a jackhammer.')\n",
    "\t\t\n",
    "elif decibels > 130:\n",
    "    print('way too loud.')\n",
    "\t\t\n",
    "else:\n",
    "    print('Please enter a correct data value.')\n",
    "\t\t\n",
    "    print('Your sound level is')"
   ]
  },
  {
   "cell_type": "code",
   "execution_count": null,
   "id": "f0288f9f",
   "metadata": {},
   "outputs": [],
   "source": []
  },
  {
   "cell_type": "markdown",
   "id": "32fcb09c",
   "metadata": {},
   "source": [
    "# Loops Assignment"
   ]
  },
  {
   "cell_type": "markdown",
   "id": "aad7038e",
   "metadata": {},
   "source": [
    "# 1. Write a Python program that prints each item and its corresponding type from the following list. Sample List : datalist = [1452, 11.23, 1+2j, True, 'w3resource', (0, -1), [5,12], {\"class\":'V', \"section\":'A'}]"
   ]
  },
  {
   "cell_type": "code",
   "execution_count": 27,
   "id": "0cba1719",
   "metadata": {},
   "outputs": [
    {
     "name": "stdout",
     "output_type": "stream",
     "text": [
      "<class 'list'>\n"
     ]
    }
   ],
   "source": [
    "datalist = [1452, 11.23, 1+2j, True, 'w3resource', (0, -1), [5,12], {\"class\":'V', \"section\":'A'}]\n",
    "# run a loop for each item of the list\n",
    "print(type(datalist))"
   ]
  },
  {
   "cell_type": "code",
   "execution_count": 28,
   "id": "85afa0a3",
   "metadata": {},
   "outputs": [
    {
     "name": "stdout",
     "output_type": "stream",
     "text": [
      "<class 'bool'>\n"
     ]
    }
   ],
   "source": [
    "datalist = [1452, 11.23, 1+2j, True, 'w3resource', (0, -1), [5,12], {\"class\":'V', \"section\":'A'}]\n",
    "print(type(datalist[3]))"
   ]
  },
  {
   "cell_type": "code",
   "execution_count": 29,
   "id": "f7a0eae0",
   "metadata": {},
   "outputs": [
    {
     "name": "stdout",
     "output_type": "stream",
     "text": [
      "<class 'str'>\n"
     ]
    }
   ],
   "source": [
    "datalist = [1452, 11.23, 1+2j, True, 'w3resource', (0, -1), [5,12], {\"class\":'V', \"section\":'A'}]\n",
    "print(type(datalist[4]))"
   ]
  },
  {
   "cell_type": "code",
   "execution_count": 30,
   "id": "ddd185b0",
   "metadata": {
    "scrolled": true
   },
   "outputs": [
    {
     "name": "stdout",
     "output_type": "stream",
     "text": [
      "<class 'tuple'>\n"
     ]
    }
   ],
   "source": [
    "datalist = [1452, 11.23, 1+2j, True, 'w3resource', (0, -1), [5,12], {\"class\":'V', \"section\":'A'}]\n",
    "print(type(datalist[5]))"
   ]
  },
  {
   "cell_type": "code",
   "execution_count": 31,
   "id": "fdb510ff",
   "metadata": {},
   "outputs": [
    {
     "name": "stdout",
     "output_type": "stream",
     "text": [
      "<class 'dict'>\n"
     ]
    }
   ],
   "source": [
    "datalist = [1452, 11.23, 1+2j, True, 'w3resource', (0, -1), [5,12], {\"class\":'V', \"section\":'A'}]\n",
    "print(type(datalist[7]))"
   ]
  },
  {
   "cell_type": "markdown",
   "id": "1a163e13",
   "metadata": {},
   "source": [
    "# 2. Write a Python program that prints all the numbers from 0 to 6 except 3 and 6. Note : Use 'continue' statement. Expected Output : 0 1 2 4 5"
   ]
  },
  {
   "cell_type": "code",
   "execution_count": null,
   "id": "d59b1d42",
   "metadata": {},
   "outputs": [],
   "source": []
  },
  {
   "cell_type": "code",
   "execution_count": 42,
   "id": "31ffaf98",
   "metadata": {},
   "outputs": [
    {
     "name": "stdout",
     "output_type": "stream",
     "text": [
      "0\n",
      "1\n",
      "2\n",
      "4\n",
      "5\n"
     ]
    }
   ],
   "source": [
    "for x in range(0,6):\n",
    "    if x == 3 or x==6:\n",
    "        continue\n",
    "    print(x)"
   ]
  },
  {
   "cell_type": "markdown",
   "id": "f50971ef",
   "metadata": {},
   "source": [
    "# Question 3: Write a Python program which iterates the integers from 1 to 50. For multiples of three print \"Fizz\" instead of the number and for the multiples of five print \"Buzz\". For numbers which are multiples of both three and five print \"FizzBuzz\".\n",
    "### Sample Output :\n",
    "#### fizzbuzz\n",
    "#### 1\n",
    "#### 2\n",
    "#### fizz\n",
    "#### 4\n",
    "#### buzz"
   ]
  },
  {
   "cell_type": "code",
   "execution_count": 56,
   "id": "02e84cfe",
   "metadata": {},
   "outputs": [
    {
     "name": "stdout",
     "output_type": "stream",
     "text": [
      "fizz\n",
      "fizzbuzz\n",
      "fizzbuzz\n",
      "fizz\n",
      "fizzbuzz\n",
      "buzz\n",
      "fizz\n",
      "fizzbuzz\n",
      "fizzbuzz\n",
      "fizz\n",
      "buzz\n",
      "fizzbuzz\n",
      "fizz\n",
      "fizzbuzz\n",
      "fizzbuzz\n",
      "fizz\n",
      "fizzbuzz\n",
      "fizzbuzz\n",
      "fizz\n",
      "fizzbuzz\n",
      "buzz\n",
      "fizz\n",
      "fizzbuzz\n",
      "fizzbuzz\n",
      "fizz\n",
      "buzz\n",
      "fizzbuzz\n",
      "fizz\n",
      "fizzbuzz\n",
      "fizzbuzz\n",
      "fizz\n",
      "fizzbuzz\n",
      "fizzbuzz\n",
      "fizz\n",
      "fizzbuzz\n",
      "buzz\n",
      "fizz\n",
      "fizzbuzz\n",
      "fizzbuzz\n",
      "fizz\n",
      "buzz\n",
      "fizzbuzz\n",
      "fizz\n",
      "fizzbuzz\n",
      "fizzbuzz\n",
      "fizz\n",
      "fizzbuzz\n",
      "fizzbuzz\n",
      "fizz\n",
      "fizzbuzz\n",
      "buzz\n"
     ]
    }
   ],
   "source": [
    "for fizzbuzz in range(0,51):\n",
    "    if fizzbuzz % 3==0:\n",
    "        print(\"fizz\")\n",
    "        continue\n",
    "    elif fizzbuzz % 5==0:\n",
    "        print(\"buzz\")\n",
    "        continue\n",
    "    elif fizzbuzz % 5==0 and fizzbuzz % 3==0:\n",
    "        print(\"fizzbuzz\")\n",
    "        continue\n",
    "    print(\"fizzbuzz\")\n"
   ]
  },
  {
   "cell_type": "code",
   "execution_count": 53,
   "id": "919a96f1",
   "metadata": {},
   "outputs": [
    {
     "name": "stdout",
     "output_type": "stream",
     "text": [
      "fizzbuzz\n",
      "1\n",
      "2\n",
      "fizz\n",
      "4\n",
      "buzz\n",
      "fizz\n",
      "7\n",
      "8\n",
      "fizz\n",
      "buzz\n",
      "11\n",
      "fizz\n",
      "13\n",
      "14\n",
      "fizzbuzz\n",
      "16\n",
      "17\n",
      "fizz\n",
      "19\n",
      "buzz\n",
      "fizz\n",
      "22\n",
      "23\n",
      "fizz\n",
      "buzz\n",
      "26\n",
      "fizz\n",
      "28\n",
      "29\n",
      "fizzbuzz\n",
      "31\n",
      "32\n",
      "fizz\n",
      "34\n",
      "buzz\n",
      "fizz\n",
      "37\n",
      "38\n",
      "fizz\n",
      "buzz\n",
      "41\n",
      "fizz\n",
      "43\n",
      "44\n",
      "fizzbuzz\n",
      "46\n",
      "47\n",
      "fizz\n",
      "49\n",
      "buzz\n"
     ]
    }
   ],
   "source": [
    "for fizzbuzz in range(51):\n",
    "    if fizzbuzz % 3 == 0 and fizzbuzz % 5 == 0:\n",
    "        print(\"fizzbuzz\")\n",
    "        continue\n",
    "    elif fizzbuzz % 3 == 0:\n",
    "        print(\"fizz\")\n",
    "        continue\n",
    "    elif fizzbuzz % 5 == 0:\n",
    "        print(\"buzz\")\n",
    "        continue\n",
    "    print(fizzbuzz)"
   ]
  },
  {
   "cell_type": "markdown",
   "id": "7a2fa072",
   "metadata": {},
   "source": [
    "# Question 4: Write a Python program to find numbers between 100 and 400 (both included) where each digit of a number is an even number. The numbers obtained should be printed in a comma-separated sequence."
   ]
  },
  {
   "cell_type": "code",
   "execution_count": 46,
   "id": "9554ce8c",
   "metadata": {},
   "outputs": [],
   "source": [
    "for i in range(99,2,401):\n",
    "    print(i)"
   ]
  },
  {
   "cell_type": "code",
   "execution_count": 47,
   "id": "d552a7f5",
   "metadata": {},
   "outputs": [
    {
     "name": "stdout",
     "output_type": "stream",
     "text": [
      "0\n",
      "1\n",
      "2\n",
      "3\n"
     ]
    }
   ],
   "source": [
    "for i in range(4):\n",
    "    print(i)"
   ]
  },
  {
   "cell_type": "code",
   "execution_count": 50,
   "id": "ee94242a",
   "metadata": {},
   "outputs": [
    {
     "name": "stdout",
     "output_type": "stream",
     "text": [
      "100,\n",
      "102,\n",
      "104,\n",
      "106,\n",
      "108,\n",
      "110,\n",
      "112,\n",
      "114,\n",
      "116,\n",
      "118,\n",
      "120,\n",
      "122,\n",
      "124,\n",
      "126,\n",
      "128,\n",
      "130,\n",
      "132,\n",
      "134,\n",
      "136,\n",
      "138,\n",
      "140,\n",
      "142,\n",
      "144,\n",
      "146,\n",
      "148,\n",
      "150,\n",
      "152,\n",
      "154,\n",
      "156,\n",
      "158,\n",
      "160,\n",
      "162,\n",
      "164,\n",
      "166,\n",
      "168,\n",
      "170,\n",
      "172,\n",
      "174,\n",
      "176,\n",
      "178,\n",
      "180,\n",
      "182,\n",
      "184,\n",
      "186,\n",
      "188,\n",
      "190,\n",
      "192,\n",
      "194,\n",
      "196,\n",
      "198,\n",
      "200,\n",
      "202,\n",
      "204,\n",
      "206,\n",
      "208,\n",
      "210,\n",
      "212,\n",
      "214,\n",
      "216,\n",
      "218,\n",
      "220,\n",
      "222,\n",
      "224,\n",
      "226,\n",
      "228,\n",
      "230,\n",
      "232,\n",
      "234,\n",
      "236,\n",
      "238,\n",
      "240,\n",
      "242,\n",
      "244,\n",
      "246,\n",
      "248,\n",
      "250,\n",
      "252,\n",
      "254,\n",
      "256,\n",
      "258,\n",
      "260,\n",
      "262,\n",
      "264,\n",
      "266,\n",
      "268,\n",
      "270,\n",
      "272,\n",
      "274,\n",
      "276,\n",
      "278,\n",
      "280,\n",
      "282,\n",
      "284,\n",
      "286,\n",
      "288,\n",
      "290,\n",
      "292,\n",
      "294,\n",
      "296,\n",
      "298,\n",
      "300,\n",
      "302,\n",
      "304,\n",
      "306,\n",
      "308,\n",
      "310,\n",
      "312,\n",
      "314,\n",
      "316,\n",
      "318,\n",
      "320,\n",
      "322,\n",
      "324,\n",
      "326,\n",
      "328,\n",
      "330,\n",
      "332,\n",
      "334,\n",
      "336,\n",
      "338,\n",
      "340,\n",
      "342,\n",
      "344,\n",
      "346,\n",
      "348,\n",
      "350,\n",
      "352,\n",
      "354,\n",
      "356,\n",
      "358,\n",
      "360,\n",
      "362,\n",
      "364,\n",
      "366,\n",
      "368,\n",
      "370,\n",
      "372,\n",
      "374,\n",
      "376,\n",
      "378,\n",
      "380,\n",
      "382,\n",
      "384,\n",
      "386,\n",
      "388,\n",
      "390,\n",
      "392,\n",
      "394,\n",
      "396,\n",
      "398,\n",
      "400,\n"
     ]
    }
   ],
   "source": [
    "for i in range(100,401,2):\n",
    "    print(f\"{i},\")"
   ]
  },
  {
   "cell_type": "code",
   "execution_count": null,
   "id": "fa277217",
   "metadata": {},
   "outputs": [],
   "source": []
  }
 ],
 "metadata": {
  "kernelspec": {
   "display_name": "Python 3 (ipykernel)",
   "language": "python",
   "name": "python3"
  },
  "language_info": {
   "codemirror_mode": {
    "name": "ipython",
    "version": 3
   },
   "file_extension": ".py",
   "mimetype": "text/x-python",
   "name": "python",
   "nbconvert_exporter": "python",
   "pygments_lexer": "ipython3",
   "version": "3.11.4"
  }
 },
 "nbformat": 4,
 "nbformat_minor": 5
}
