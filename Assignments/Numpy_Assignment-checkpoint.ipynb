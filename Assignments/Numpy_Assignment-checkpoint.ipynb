{
 "cells": [
  {
   "cell_type": "markdown",
   "id": "444295d0",
   "metadata": {},
   "source": [
    "# Assignment 1"
   ]
  },
  {
   "cell_type": "markdown",
   "id": "fc09113a",
   "metadata": {},
   "source": [
    "## Study splitting and stacking of arrays in numpy."
   ]
  },
  {
   "cell_type": "code",
   "execution_count": 2,
   "id": "c64fa8df",
   "metadata": {},
   "outputs": [
    {
     "name": "stdout",
     "output_type": "stream",
     "text": [
      "[ 1  2  3  4  5  6  7  8  9 10]\n"
     ]
    }
   ],
   "source": [
    "# numpy.split()\n",
    "# The numpy.split() function divides an array into subarrays along a specified axis. \n",
    "# It takes three parameters: the array to split, the number of splits, and the axis along which to split.\n",
    "import numpy as np\n",
    "a = np.arange(1,11)\n",
    "print(a)"
   ]
  },
  {
   "cell_type": "code",
   "execution_count": 3,
   "id": "2a58adf3",
   "metadata": {},
   "outputs": [
    {
     "data": {
      "text/plain": [
       "[array([1, 2, 3, 4, 5]), array([ 6,  7,  8,  9, 10])]"
      ]
     },
     "execution_count": 3,
     "metadata": {},
     "output_type": "execute_result"
    }
   ],
   "source": [
    "np.split(a,2)"
   ]
  },
  {
   "cell_type": "code",
   "execution_count": 15,
   "id": "e35258fe",
   "metadata": {},
   "outputs": [
    {
     "name": "stdout",
     "output_type": "stream",
     "text": [
      "[ 1  2  3  4  5  6  7  8  9 10 11 12]\n"
     ]
    }
   ],
   "source": [
    "b = np.arange(1,13)\n",
    "\n",
    "print(b)\n"
   ]
  },
  {
   "cell_type": "code",
   "execution_count": 16,
   "id": "98405cbc",
   "metadata": {},
   "outputs": [
    {
     "data": {
      "text/plain": [
       "[array([1, 2, 3, 4]), array([5, 6, 7, 8]), array([ 9, 10, 11, 12])]"
      ]
     },
     "execution_count": 16,
     "metadata": {},
     "output_type": "execute_result"
    }
   ],
   "source": [
    "np.split(b,3)"
   ]
  },
  {
   "cell_type": "code",
   "execution_count": 17,
   "id": "27d004d2",
   "metadata": {},
   "outputs": [
    {
     "name": "stdout",
     "output_type": "stream",
     "text": [
      "Array 1: [1 2 3]\n",
      "Array 2: [4 5 6]\n",
      "Stacked Array: [[1 2 3]\n",
      " [4 5 6]]\n"
     ]
    }
   ],
   "source": [
    "# numpy.stack()\n",
    "# The numpy.stack() function joins arrays along a new axis. It takes a sequence of arrays and the axis parameter\n",
    "# (default is 0).\n",
    "\n",
    "import numpy as np\n",
    "\n",
    "# Create two arrays\n",
    "array1 = np.array([1, 2, 3])\n",
    "array2 = np.array([4, 5, 6])\n",
    "\n",
    "# Stack the arrays along a new axis (axis 0)\n",
    "stacked_array = np.stack((array1, array2))\n",
    "\n",
    "print(\"Array 1:\", array1)\n",
    "print(\"Array 2:\", array2)\n",
    "print(\"Stacked Array:\", stacked_array)\n"
   ]
  },
  {
   "cell_type": "markdown",
   "id": "81a6ffb2",
   "metadata": {},
   "source": [
    "# Assignment 2. Look at fancy indexing, boolean arrays and masking. "
   ]
  },
  {
   "cell_type": "code",
   "execution_count": 1,
   "id": "9b72f73b",
   "metadata": {},
   "outputs": [
    {
     "name": "stdout",
     "output_type": "stream",
     "text": [
      "Original Array: [1 2 3 4 5]\n",
      "Selected Elements: [2 4 5]\n"
     ]
    }
   ],
   "source": [
    " # 1. Fancy Indexing:\n",
    "# Fancy indexing involves using arrays of indices or arrays of boolean values to access specific \n",
    "# elements of an array. It provides a way to access and modify elements based on specified index arrays.\n",
    "\n",
    "# Example:\n",
    "\n",
    "import numpy as np\n",
    "\n",
    "# Create an array\n",
    "arr = np.array([1, 2, 3, 4, 5])\n",
    "\n",
    "# Fancy indexing using an array of indices\n",
    "indices = np.array([1, 3, 4])\n",
    "selected_elements = arr[indices]\n",
    "\n",
    "print(\"Original Array:\", arr)\n",
    "print(\"Selected Elements:\", selected_elements)"
   ]
  },
  {
   "cell_type": "code",
   "execution_count": 2,
   "id": "47f38521",
   "metadata": {},
   "outputs": [
    {
     "name": "stdout",
     "output_type": "stream",
     "text": [
      "[2 3 6 8]\n"
     ]
    }
   ],
   "source": [
    "import numpy as np\n",
    "\n",
    "# create a numpy array\n",
    "array1 = np.array([1, 2, 3, 4, 5, 6, 7, 8])\n",
    "\n",
    "# select elements at index 1, 2, 5, 7\n",
    "select_elements = array1[[1, 2, 5, 7]]\n",
    "\n",
    "print(select_elements)"
   ]
  },
  {
   "cell_type": "code",
   "execution_count": 3,
   "id": "f8fbca6b",
   "metadata": {},
   "outputs": [
    {
     "name": "stdout",
     "output_type": "stream",
     "text": [
      "[1 3 5 7 9]\n"
     ]
    }
   ],
   "source": [
    "# 2. Boolean Arrays:\n",
    "# Boolean arrays involve creating an array of boolean values based on a certain condition. \n",
    "# These boolean arrays can then be used for indexing or masking operations.\n",
    "\n",
    "# Example:\n",
    "import numpy as np\n",
    "\n",
    "# create an array of numbers\n",
    "array1 = np.array([1, 2, 3, 4, 5, 6, 7, 8, 9, 10])\n",
    "\n",
    "# create a boolean mask\n",
    "boolean_mask = array1 % 2 != 0\n",
    "\n",
    "# boolean indexing to filter the odd numbers\n",
    "result = array1[boolean_mask]\n",
    "\n",
    "print(result)\n"
   ]
  },
  {
   "cell_type": "code",
   "execution_count": 4,
   "id": "52645739",
   "metadata": {},
   "outputs": [
    {
     "name": "stdout",
     "output_type": "stream",
     "text": [
      "[ 2  4  6  8 10]\n"
     ]
    }
   ],
   "source": [
    "array2 = np.array([1, 2, 3, 4, 5, 6, 7, 8, 9, 10])\n",
    "\n",
    "# create a boolean mask\n",
    "boolean_mask = array2 % 2 == 0\n",
    "\n",
    "# boolean indexing to filter the odd numbers\n",
    "result = array2[boolean_mask]\n",
    "\n",
    "print(result)"
   ]
  },
  {
   "cell_type": "code",
   "execution_count": 5,
   "id": "6739b648",
   "metadata": {},
   "outputs": [
    {
     "name": "stdout",
     "output_type": "stream",
     "text": [
      "[14 19 21 25 29 35]\n"
     ]
    }
   ],
   "source": [
    "import numpy as np\n",
    "\n",
    "# create a 2D  array\n",
    "array1 = np.array([[1, 7, 9], \n",
    "                    [14, 19, 21], \n",
    "                    [25, 29, 35]])\n",
    "\n",
    "# create a boolean mask based on the condition \n",
    "# that elements are greater than 9\n",
    "boolean_mask = array1 > 9\n",
    "\n",
    "# select only the elements that satisfy the condition\n",
    "result = array1[boolean_mask]\n",
    "\n",
    "print(result)"
   ]
  },
  {
   "cell_type": "markdown",
   "id": "a3144e81",
   "metadata": {},
   "source": [
    "# Assignment 3. Write on the advantages and disadvantages of outlier."
   ]
  },
  {
   "cell_type": "markdown",
   "id": "2a8a91a0",
   "metadata": {},
   "source": [
    "# Advantages of Outliers:\n",
    "\n",
    "### 1. Identification of Anomalies: Outliers can help identify anomalies or unusual behavior in the data. \n",
    "### Detecting these unusual observations may lead to insights or discoveries that can be valuable in certain situations.\n",
    "\n",
    "### 2. Signal of Potential Issues: Outliers might indicate errors in data collection or processing. \n",
    "### Identifying and addressing these errors is crucial for maintaining data accuracy and reliability."
   ]
  },
  {
   "cell_type": "markdown",
   "id": "889a76c6",
   "metadata": {},
   "source": [
    "# Disadvantages of Outliers:\n",
    "\n",
    "### 1. Impact on Statistical Measures: Outliers can significantly affect statistical measures such as mean and \n",
    "### standard deviation. The mean, in particular, is sensitive to extreme values, and if outliers \n",
    "### are not handled properly,  they can distort the interpretation of the central tendency of the data.\n",
    "\n",
    "### 2. Skewing Data Distribution: Outliers can skew the distribution of the data, making it non-normally distributed. \n",
    "### This can affect the validity of certain statistical tests that assume a normal distribution.\n",
    "\n",
    "### 3. Influence on Machine Learning Models: Outliers may have a substantial impact on the performance of \n",
    "### some machine learning models, especially those sensitive to variations in the input data. \n",
    "### They can introduce noise and lead the model to learn patterns that don't generalize well to new data.\n",
    "\n",
    "### 4. Misinterpretation of Results: If outliers are not properly understood or addressed,they can lead to misinterpretation \n",
    "### of the results of data analyses. Conclusions drawn without considering outliers may be inaccurate or incomplete."
   ]
  },
  {
   "cell_type": "code",
   "execution_count": null,
   "id": "c464f643",
   "metadata": {},
   "outputs": [],
   "source": []
  }
 ],
 "metadata": {
  "kernelspec": {
   "display_name": "Python 3 (ipykernel)",
   "language": "python",
   "name": "python3"
  },
  "language_info": {
   "codemirror_mode": {
    "name": "ipython",
    "version": 3
   },
   "file_extension": ".py",
   "mimetype": "text/x-python",
   "name": "python",
   "nbconvert_exporter": "python",
   "pygments_lexer": "ipython3",
   "version": "3.11.4"
  }
 },
 "nbformat": 4,
 "nbformat_minor": 5
}
