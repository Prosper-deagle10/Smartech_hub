{
 "cells": [
  {
   "cell_type": "markdown",
   "id": "e23cb99e",
   "metadata": {},
   "source": [
    "# Write a function that takes the lengths of the two shorter sides of a right triangle as its parameters. Return the hypotenuse of the triangle, computed using Pythagorean theorem, as the function’s result. Include a main program that reads the lengths of the shorter sides of a right triangle from the user, uses your function to compute the length of the hypotenuse, and displays the result."
   ]
  },
  {
   "cell_type": "code",
   "execution_count": 10,
   "id": "4f764fb2",
   "metadata": {},
   "outputs": [
    {
     "name": "stdout",
     "output_type": "stream",
     "text": [
      "Enter adjacent: 3\n",
      "Enter opposite: 4\n",
      "25\n"
     ]
    }
   ],
   "source": [
    "import math\n",
    "adj=float(input(\"Enter adjacent: \"))\n",
    "opp=float(input(\"Enter opposite: \"))\n",
    "def pyth_theorem(adj,opp):\n",
    "    hyp = adj**2 + opp**2\n",
    "    return hyp\n",
    "    \n",
    "print(pyth_theorem(3,4))"
   ]
  },
  {
   "cell_type": "code",
   "execution_count": 11,
   "id": "ddcab681",
   "metadata": {},
   "outputs": [
    {
     "name": "stdout",
     "output_type": "stream",
     "text": [
      "Enter adjacent: 3\n",
      "Enter opposite: 4\n",
      "5.0\n"
     ]
    }
   ],
   "source": [
    "import math\n",
    "adj=float(input(\"Enter adjacent: \"))\n",
    "opp=float(input(\"Enter opposite: \"))\n",
    "def pyth_theorem(adj,opp):\n",
    "    hyp = math.sqrt(adj**2 + opp**2)\n",
    "    return hyp\n",
    "    \n",
    "print(pyth_theorem(3,4))"
   ]
  },
  {
   "cell_type": "code",
   "execution_count": 14,
   "id": "410db8e7",
   "metadata": {},
   "outputs": [
    {
     "name": "stdout",
     "output_type": "stream",
     "text": [
      "Enter adjacent: 3\n",
      "Enter opposite: 4\n",
      "5.0\n"
     ]
    }
   ],
   "source": [
    "import math\n",
    "adj=float(input(\"Enter adjacent: \"))\n",
    "opp=float(input(\"Enter opposite: \"))\n",
    "def pyth_theorem():\n",
    "    hyp = math.sqrt(adj**2 + opp**2)\n",
    "    return hyp\n",
    "    \n",
    "print(pyth_theorem())"
   ]
  },
  {
   "cell_type": "code",
   "execution_count": 19,
   "id": "e8ec54af",
   "metadata": {},
   "outputs": [
    {
     "name": "stdout",
     "output_type": "stream",
     "text": [
      "Enter adjacent: 6\n",
      "Enter opposite: 7\n",
      "9.22\n"
     ]
    }
   ],
   "source": [
    "import math\n",
    "adj=float(input(\"Enter adjacent: \"))\n",
    "opp=float(input(\"Enter opposite: \"))\n",
    "def pyth_theorem():\n",
    "    hyp = round(math.sqrt(adj**2 + opp**2),2)\n",
    "    return hyp\n",
    "    \n",
    "print(pyth_theorem())"
   ]
  },
  {
   "cell_type": "markdown",
   "id": "b6c540c7",
   "metadata": {},
   "source": [
    "# In a particular jurisdiction, taxi fares consist of a base fare of $4.00, plus $0.25 for every 140 meters traveled. Write a function that takes the distance traveled (in kilometers) as its only parameter and returns the total fare as its only result. Write a main program that demonstrates the function."
   ]
  },
  {
   "cell_type": "code",
   "execution_count": 15,
   "id": "6732366d",
   "metadata": {},
   "outputs": [
    {
     "name": "stdout",
     "output_type": "stream",
     "text": [
      "Enter the distance traveled: 1000\n",
      "39.0\n"
     ]
    }
   ],
   "source": [
    "distance_traveled = float(input(\"Enter the distance traveled: \"))\n",
    "base_fare = 4.00\n",
    "def distance():\n",
    "    total_fare = round(base_fare + (0.25*0.14*distance_traveled),2)\n",
    "    return total_fare\n",
    "print(distance())"
   ]
  },
  {
   "cell_type": "code",
   "execution_count": 16,
   "id": "7ddd752e",
   "metadata": {},
   "outputs": [
    {
     "name": "stdout",
     "output_type": "stream",
     "text": [
      "Enter the distance traveled: 2000\n",
      "Your total fare is $74.0\n"
     ]
    }
   ],
   "source": [
    "distance_traveled = float(input(\"Enter the distance traveled: \"))\n",
    "base_fare = 4.00\n",
    "def distance():\n",
    "    total_fare = round(base_fare + (0.25*0.14*distance_traveled),2)\n",
    "    return f\"Your total fare is ${total_fare}\"\n",
    "print(distance())"
   ]
  },
  {
   "cell_type": "markdown",
   "id": "891de2dc",
   "metadata": {},
   "source": [
    "# An online retailer provides express shipping for many of its items at a rate of $10.95 for  the  first  item,  and  $2.95 for each subsequent item. Write a function that takes the number of items in the order as its only parameter. Return the shipping charge for the order as the function’s result. Include a main program that reads the number of items purchased from the user and displays the shipping charge."
   ]
  },
  {
   "cell_type": "code",
   "execution_count": 3,
   "id": "b9351bc2",
   "metadata": {},
   "outputs": [
    {
     "name": "stdout",
     "output_type": "stream",
     "text": [
      "Enter the number of items purchased: 23\n",
      "Shipping charge: $75.85000000000001\n"
     ]
    }
   ],
   "source": [
    "def shipping_charge(num_items):\n",
    "   if num_items <= 0:\n",
    "       return 0\n",
    "   elif num_items == 1:\n",
    "       return 10.95\n",
    "   else:\n",
    "       return 10.95 + (num_items-1) * 2.95\n",
    "    \n",
    "num_items = float(input(\"Enter the number of items purchased: \"))\n",
    "shipping_cost = shipping_charge(num_items)\n",
    "print(\"Shipping charge: $\" + str(shipping_cost))"
   ]
  },
  {
   "cell_type": "code",
   "execution_count": 1,
   "id": "a5d88f23",
   "metadata": {},
   "outputs": [
    {
     "name": "stdout",
     "output_type": "stream",
     "text": [
      "Enter the number of items purchased: 21\n",
      "Shipping charge: $69.95\n"
     ]
    }
   ],
   "source": [
    "def shipping_charge(num_items):\n",
    "   if num_items <= 0:\n",
    "       return 0\n",
    "   elif num_items == 1:\n",
    "       return 10.95\n",
    "   else:\n",
    "       return round(10.95 + (num_items-1) * 2.95,2)\n",
    "    \n",
    "num_items = float(input(\"Enter the number of items purchased: \"))\n",
    "shipping_cost = shipping_charge(num_items)\n",
    "print(\"Shipping charge: $\" + str(shipping_cost))"
   ]
  },
  {
   "cell_type": "markdown",
   "id": "97395e41",
   "metadata": {},
   "source": [
    "# Write a function that generates a random password. The password should have a random length of between 7 and 10 characters. Each character should be randomly selected from positions 33 to 126 in the ASCII table. Your function will not take any parameters. It will return the randomly generated password as its only result. Display the randomly generated password in your file’s main program. Your main program should only run when your solution has not been imported into another file."
   ]
  },
  {
   "cell_type": "code",
   "execution_count": 10,
   "id": "5303ad79",
   "metadata": {},
   "outputs": [],
   "source": [
    "import random as rd\n",
    "def random_password():\n",
    "    password = rd.randint(7,11)\n",
    "    for i in range(password):\n",
    "        random_characters = chr (randint(33,127))\n",
    "        password = password + random_characters\n",
    "    return password\n",
    "\n",
    "def random_password():\n",
    "    print(\"Your random password is:\", random_password)\n",
    "if  __name__   == \"__password__\":\n",
    "   password()"
   ]
  },
  {
   "cell_type": "markdown",
   "id": "67a97e41",
   "metadata": {},
   "source": [
    "# In a particular jurisdiction, older license plates consist of three letters followed by three numbers. When all of the license plates following that pattern had been used, the format was changed to four numbers followed by three letters. Write a function that generates a random license plate. Your function should have approximately equal odds of generating a sequence of characters for an old license plate or a new license plate. Write a main program that calls your function and displays the randomly generated license plate."
   ]
  },
  {
   "cell_type": "code",
   "execution_count": null,
   "id": "3ac89332",
   "metadata": {},
   "outputs": [],
   "source": []
  },
  {
   "cell_type": "markdown",
   "id": "db19c4a4",
   "metadata": {},
   "source": [
    "# In this exercise you will write a function that determines whether or not a password is good. We will define a good password to be a one that is at least 8 characters long and contains at least one uppercase letter, at least one lowercase letter, and at least one number. Your function should return true if the password passed to it as its only parameter is good. Otherwise it should return false. Include a main program that reads a password from the user and reports whether or not it is good. Ensure that your main program only runs when your solution has not been imported into another file."
   ]
  },
  {
   "cell_type": "code",
   "execution_count": null,
   "id": "3b176356",
   "metadata": {},
   "outputs": [],
   "source": [
    "password = float(input(\"Enter a password: \"))\n",
    "def good_password():\n",
    "    if len(good_password) <=8 or (is alphanumeric()):\n",
    "        good_password = 8:\n",
    "            return good_password\n",
    "        print(\"True\")\n",
    "    elif \n",
    "    \n",
    "        "
   ]
  },
  {
   "cell_type": "code",
   "execution_count": 12,
   "id": "50f522a3",
   "metadata": {},
   "outputs": [],
   "source": [
    "import string\n",
    "num = [i for i in range(0,10)]\n",
    "letdown = list(string.ascii_lowercase)\n",
    "letup = list(string.ascii_uppercase)\n",
    "def good_password(password):\n",
    "    l1=[]\n",
    "    l2=[]\n",
    "    l3=[]\n",
    "    for char in password:\n",
    "          if char in num:\n",
    "              l1.append(char)\n",
    "          elif char in letdown:\n",
    "              l2.append(char)\n",
    "          elif char in letup:\n",
    "              l3.append(char)\n",
    "    if len(l1)>=1 and len(l2) >=1 and len(l3) >=1 and len(password) >=8:\n",
    "        return True\n",
    "    else:\n",
    "        return False"
   ]
  },
  {
   "cell_type": "code",
   "execution_count": 14,
   "id": "b7670851",
   "metadata": {},
   "outputs": [],
   "source": [
    "def good_password(password):\n",
    "    hasNum=False\n",
    "    hasUp=False\n",
    "    hasDown=False\n",
    "    for char in password:\n",
    "      if char in num:\n",
    "          hasNum = True\n",
    "      if char in letdown:\n",
    "          hasDown = True\n",
    "      if char in letup:\n",
    "          hasUp = True\n",
    "    return hasNum and hasDown and hasUp and (len(password) >= 8)\n"
   ]
  },
  {
   "cell_type": "code",
   "execution_count": null,
   "id": "c97b90f0",
   "metadata": {},
   "outputs": [],
   "source": []
  }
 ],
 "metadata": {
  "kernelspec": {
   "display_name": "Python 3 (ipykernel)",
   "language": "python",
   "name": "python3"
  },
  "language_info": {
   "codemirror_mode": {
    "name": "ipython",
    "version": 3
   },
   "file_extension": ".py",
   "mimetype": "text/x-python",
   "name": "python",
   "nbconvert_exporter": "python",
   "pygments_lexer": "ipython3",
   "version": "3.11.4"
  }
 },
 "nbformat": 4,
 "nbformat_minor": 5
}
