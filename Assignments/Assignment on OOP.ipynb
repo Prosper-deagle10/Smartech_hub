{
 "cells": [
  {
   "cell_type": "code",
   "execution_count": 4,
   "id": "b0b161ca",
   "metadata": {},
   "outputs": [],
   "source": [
    "class Vector:\n",
    "    def __init__(self,x,y,z):\n",
    "        self.x=x\n",
    "        self.y=y\n",
    "        self.z=z\n",
    "        "
   ]
  },
  {
   "cell_type": "code",
   "execution_count": 62,
   "id": "c7ca4d81",
   "metadata": {},
   "outputs": [],
   "source": [
    "magnitude = Vector(\"3\",\"2\",\"4\")\n",
    "direction = Vector(\"2\",\"3\",\"4\")"
   ]
  },
  {
   "cell_type": "code",
   "execution_count": 61,
   "id": "cd7c7dda",
   "metadata": {},
   "outputs": [],
   "source": [
    "import math as mth\n",
    "mag=mth.sqrt(3**2+2**2+4**2)\n",
    "class Vector:\n",
    "    def __init__(self,x,y,z):\n",
    "        self.x=x\n",
    "        self.y=y\n",
    "        self.z=z\n",
    "    \n",
    "    def calc_magn (self,magn):\n",
    "        print(f\"the magnitude of {magnitude.x}, {magnitude.y}, and {magnitude.z} is {mag}\")"
   ]
  },
  {
   "cell_type": "code",
   "execution_count": 15,
   "id": "3f737795",
   "metadata": {},
   "outputs": [
    {
     "data": {
      "text/plain": [
       "<__main__.Vector at 0x2473f0d2d90>"
      ]
     },
     "execution_count": 15,
     "metadata": {},
     "output_type": "execute_result"
    }
   ],
   "source": [
    "magnitude"
   ]
  },
  {
   "cell_type": "code",
   "execution_count": 16,
   "id": "9c8a0ada",
   "metadata": {},
   "outputs": [
    {
     "name": "stdout",
     "output_type": "stream",
     "text": [
      "<__main__.Vector object at 0x000002473F0D2D90>\n"
     ]
    }
   ],
   "source": [
    "print(magnitude)"
   ]
  },
  {
   "cell_type": "code",
   "execution_count": 19,
   "id": "98b2c299",
   "metadata": {},
   "outputs": [
    {
     "data": {
      "text/plain": [
       "<__main__.Vector at 0x2473f0d2d90>"
      ]
     },
     "execution_count": 19,
     "metadata": {},
     "output_type": "execute_result"
    }
   ],
   "source": [
    "magnitude"
   ]
  },
  {
   "cell_type": "code",
   "execution_count": 20,
   "id": "b783c492",
   "metadata": {},
   "outputs": [
    {
     "data": {
      "text/plain": [
       "'4'"
      ]
     },
     "execution_count": 20,
     "metadata": {},
     "output_type": "execute_result"
    }
   ],
   "source": [
    "direction.z"
   ]
  },
  {
   "cell_type": "code",
   "execution_count": 63,
   "id": "8d398ae6",
   "metadata": {},
   "outputs": [
    {
     "name": "stdout",
     "output_type": "stream",
     "text": [
      "the magnitude of 3, 2, and 4 is 5.385164807134504\n"
     ]
    }
   ],
   "source": [
    "magnitude.calc_magn(mag)"
   ]
  },
  {
   "cell_type": "markdown",
   "id": "9a5108d7",
   "metadata": {},
   "source": [
    "# Classwork"
   ]
  },
  {
   "cell_type": "code",
   "execution_count": 30,
   "id": "94351e18",
   "metadata": {},
   "outputs": [],
   "source": [
    "class Account:\n",
    "    pass\n"
   ]
  },
  {
   "cell_type": "code",
   "execution_count": 31,
   "id": "f7c0a2ef",
   "metadata": {},
   "outputs": [],
   "source": [
    "charles= Account()\n",
    "ezekiel= Account()"
   ]
  },
  {
   "cell_type": "code",
   "execution_count": 32,
   "id": "7b8db10e",
   "metadata": {},
   "outputs": [],
   "source": [
    "charles.accType =\"Current\"\n",
    "ezekiel.accType =\"Savings\""
   ]
  },
  {
   "cell_type": "code",
   "execution_count": 33,
   "id": "cedcd560",
   "metadata": {},
   "outputs": [],
   "source": [
    "class Account:\n",
    "    def __init__(self,name,dob,phone,address,email,bvn,dep):\n",
    "        self.name=name\n",
    "        self.dob=dob\n",
    "        self.phone=phone\n",
    "        self.address=address\n",
    "        self.email=email\n",
    "        self.bvn=bvn\n",
    "        self.initial_deposit=dep\n",
    "        self.balance=dep\n"
   ]
  },
  {
   "cell_type": "code",
   "execution_count": 58,
   "id": "1b11ae69",
   "metadata": {},
   "outputs": [],
   "source": [
    "charles= Account(\"Investor Charles\",\n",
    "                 \"17/01/2002\",\"081345625\",\n",
    "                 \"Choba\",\"charles@gmail.com\",\"1297541234\",1E6)\n",
    "ezekiel= Account(\"Prosper Ezekiel\",\n",
    "                 \"17/01/1975\",\"0813456565\",\n",
    "                 \"Choba\",\"prosper@gmail.com\",\"1292241234\",3E6)"
   ]
  },
  {
   "cell_type": "code",
   "execution_count": 35,
   "id": "954bb81b",
   "metadata": {},
   "outputs": [
    {
     "data": {
      "text/plain": [
       "1000000.0"
      ]
     },
     "execution_count": 35,
     "metadata": {},
     "output_type": "execute_result"
    }
   ],
   "source": [
    "charles.balance"
   ]
  },
  {
   "cell_type": "code",
   "execution_count": 57,
   "id": "bdef5834",
   "metadata": {},
   "outputs": [],
   "source": [
    "class Account:\n",
    "    def __init__(self,name,dob,phone,address,email,bvn,dep):\n",
    "        self.name=name\n",
    "        self.dob=dob\n",
    "        self.phone=phone\n",
    "        self.address=address\n",
    "        self.email=email\n",
    "        self.bvn=bvn\n",
    "        self.initial_deposit=dep\n",
    "        self.balance=dep\n",
    "        self.acct_type=\"Saving\"\n",
    "\n",
    "    def make_withdrawal(self,amount):\n",
    "        self.balance= self.balance-amount\n",
    "    ## There should be at least 2k in the account\n",
    "\n",
    "  ## create a method to make deposit\n",
    "    def upgrade_account_type(self,type_):\n",
    "        if type_ not in [\"Current\",\"Credit\"]:\n",
    "            return \"Upgrade failed\"\n",
    "            self.acct_type=type_\n",
    "  ## change acct email\n"
   ]
  },
  {
   "cell_type": "code",
   "execution_count": 50,
   "id": "f90adeee",
   "metadata": {},
   "outputs": [],
   "source": [
    "class Account:\n",
    "    def __init__(self,name,dob,phone,address,email,bvn,dep):\n",
    "        self.name=name\n",
    "        self.dob=dob\n",
    "        self.phone=phone\n",
    "        self.address=address\n",
    "        self.email=email\n",
    "        self.bvn=bvn\n",
    "        self.initial_deposit=dep\n",
    "        self.balance=dep\n",
    "        self.acct_type=\"Saving\"\n",
    "\n",
    "    def make_deposit(self,deposit):\n",
    "        self.balance= self.balance + deposit\n",
    "        "
   ]
  },
  {
   "cell_type": "code",
   "execution_count": 53,
   "id": "3ecce950",
   "metadata": {},
   "outputs": [],
   "source": [
    "charles.make_deposit(20000)"
   ]
  },
  {
   "cell_type": "code",
   "execution_count": 54,
   "id": "025e2848",
   "metadata": {},
   "outputs": [
    {
     "data": {
      "text/plain": [
       "1020000.0"
      ]
     },
     "execution_count": 54,
     "metadata": {},
     "output_type": "execute_result"
    }
   ],
   "source": [
    "charles.balance"
   ]
  },
  {
   "cell_type": "code",
   "execution_count": 59,
   "id": "62dc3dfc",
   "metadata": {},
   "outputs": [],
   "source": [
    "ezekiel.make_withdrawal(200000)"
   ]
  },
  {
   "cell_type": "code",
   "execution_count": 60,
   "id": "aafd2d29",
   "metadata": {},
   "outputs": [
    {
     "data": {
      "text/plain": [
       "2800000.0"
      ]
     },
     "execution_count": 60,
     "metadata": {},
     "output_type": "execute_result"
    }
   ],
   "source": [
    "ezekiel.balance"
   ]
  },
  {
   "cell_type": "code",
   "execution_count": null,
   "id": "132e220c",
   "metadata": {},
   "outputs": [],
   "source": []
  }
 ],
 "metadata": {
  "kernelspec": {
   "display_name": "Python 3 (ipykernel)",
   "language": "python",
   "name": "python3"
  },
  "language_info": {
   "codemirror_mode": {
    "name": "ipython",
    "version": 3
   },
   "file_extension": ".py",
   "mimetype": "text/x-python",
   "name": "python",
   "nbconvert_exporter": "python",
   "pygments_lexer": "ipython3",
   "version": "3.11.4"
  }
 },
 "nbformat": 4,
 "nbformat_minor": 5
}
