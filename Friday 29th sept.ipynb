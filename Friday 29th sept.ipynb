{
 "cells": [
  {
   "cell_type": "markdown",
   "id": "7697cb01",
   "metadata": {},
   "source": [
    "# Exercise 69"
   ]
  },
  {
   "cell_type": "code",
   "execution_count": null,
   "id": "c1e8ccf8",
   "metadata": {},
   "outputs": [],
   "source": [
    "pi=3\n",
    "for i in range(1,16):\n",
    "    k = 2*i\n",
    "    pi += (4*(-1)**(i+1))/((k)*(k+1)*(k+2))\n",
    "    print(f\" {i} : pi ={pi}\")"
   ]
  },
  {
   "cell_type": "code",
   "execution_count": null,
   "id": "53c45e16",
   "metadata": {},
   "outputs": [],
   "source": []
  },
  {
   "cell_type": "markdown",
   "id": "93f605fd",
   "metadata": {},
   "source": [
    "# Exercise 70"
   ]
  },
  {
   "cell_type": "code",
   "execution_count": null,
   "id": "ba352441",
   "metadata": {},
   "outputs": [],
   "source": [
    "encoding ={\"a\":1, \"b\":2, \"c\":3, \"d\":4, \"e\":5, \"f\":6}\n",
    "plain_text = input(\"Enter a message: \").lower()\n",
    "encoded_list =list(encoding.keys())\n",
    "cipher_text=\"\"\n",
    "for letter in plain_text:\n",
    "    if letter not in encoded_list:\n",
    "        cipher_text=cipher_text = letter\n",
    "    else:\n",
    "        pos= encoding[letter]\n",
    "        if pos>3:\n",
    "            pos=pos -3\n",
    "        else:\n",
    "            pos=pos+3\n",
    "            cipher_text\n",
    "    "
   ]
  }
 ],
 "metadata": {
  "kernelspec": {
   "display_name": "Python 3 (ipykernel)",
   "language": "python",
   "name": "python3"
  },
  "language_info": {
   "codemirror_mode": {
    "name": "ipython",
    "version": 3
   },
   "file_extension": ".py",
   "mimetype": "text/x-python",
   "name": "python",
   "nbconvert_exporter": "python",
   "pygments_lexer": "ipython3",
   "version": "3.11.4"
  }
 },
 "nbformat": 4,
 "nbformat_minor": 5
}
