{
 "cells": [
  {
   "cell_type": "markdown",
   "id": "d1c29e2a",
   "metadata": {},
   "source": [
    "# Exercise 86"
   ]
  },
  {
   "cell_type": "markdown",
   "id": "bcd82992",
   "metadata": {},
   "source": [
    "# Object Oriented  Programming"
   ]
  },
  {
   "cell_type": "markdown",
   "id": "27ba1f70",
   "metadata": {},
   "source": [
    "# Classes and Objects"
   ]
  },
  {
   "cell_type": "code",
   "execution_count": 1,
   "id": "e051c8b2",
   "metadata": {},
   "outputs": [],
   "source": [
    "class Account: \n",
    "    pass\n"
   ]
  },
  {
   "cell_type": "code",
   "execution_count": 2,
   "id": "a8530903",
   "metadata": {},
   "outputs": [],
   "source": [
    "charles = Account ()\n",
    "ezekiel = Account()"
   ]
  },
  {
   "cell_type": "code",
   "execution_count": 3,
   "id": "ebad9962",
   "metadata": {},
   "outputs": [
    {
     "data": {
      "text/plain": [
       "<__main__.Account at 0x1294b142810>"
      ]
     },
     "execution_count": 3,
     "metadata": {},
     "output_type": "execute_result"
    }
   ],
   "source": [
    "charles"
   ]
  },
  {
   "cell_type": "code",
   "execution_count": 4,
   "id": "c6c227f5",
   "metadata": {},
   "outputs": [
    {
     "data": {
      "text/plain": [
       "<__main__.Account at 0x1294c4bbd90>"
      ]
     },
     "execution_count": 4,
     "metadata": {},
     "output_type": "execute_result"
    }
   ],
   "source": [
    "ezekiel"
   ]
  },
  {
   "cell_type": "code",
   "execution_count": 5,
   "id": "afb75f6d",
   "metadata": {},
   "outputs": [],
   "source": [
    "charles.accType = \"Current\"\n",
    "ezekiel.accType = \"Savings\""
   ]
  },
  {
   "cell_type": "code",
   "execution_count": 7,
   "id": "c9357280",
   "metadata": {},
   "outputs": [
    {
     "name": "stdout",
     "output_type": "stream",
     "text": [
      "Savings\n"
     ]
    }
   ],
   "source": [
    "print(ezekiel.accType)"
   ]
  },
  {
   "cell_type": "code",
   "execution_count": 8,
   "id": "5c027293",
   "metadata": {},
   "outputs": [
    {
     "name": "stdout",
     "output_type": "stream",
     "text": [
      "Current\n"
     ]
    }
   ],
   "source": [
    "print(charles.accType)"
   ]
  },
  {
   "cell_type": "code",
   "execution_count": 9,
   "id": "579b79a2",
   "metadata": {},
   "outputs": [],
   "source": [
    "class Account:\n",
    "    def __init__(self,name,dob,phone,address, email,bvn,init_depo):\n",
    "        self.name=name\n",
    "        self.dob=dob\n",
    "        self.phone=phone\n",
    "        self.address =address\n",
    "        self.email=email\n",
    "        self.bvn=bvn\n",
    "        self.initial_deposit=init_depo\n",
    "        self.account_bal=init_depo\n",
    "    "
   ]
  },
  {
   "cell_type": "code",
   "execution_count": 17,
   "id": "ea18c960",
   "metadata": {},
   "outputs": [
    {
     "name": "stdout",
     "output_type": "stream",
     "text": [
      "<__main__.Account object at 0x000001294D1C91D0>\n"
     ]
    }
   ],
   "source": [
    "prosper = Account (\"ezekiel prosper\", \"13/03/1996\", \"08167432782\", \"choba\", \"prosper@gmail.com\",\"1245332345\",\"1E7\")\n",
    "print(prosper)"
   ]
  },
  {
   "cell_type": "code",
   "execution_count": 19,
   "id": "e38a02d0",
   "metadata": {},
   "outputs": [
    {
     "name": "stdout",
     "output_type": "stream",
     "text": [
      "1245332345\n"
     ]
    }
   ],
   "source": [
    "print(prosper.bvn)"
   ]
  },
  {
   "cell_type": "code",
   "execution_count": 22,
   "id": "614ee8cd",
   "metadata": {},
   "outputs": [
    {
     "name": "stdout",
     "output_type": "stream",
     "text": [
      "10E7\n"
     ]
    }
   ],
   "source": [
    "print(prosper.initial_deposit)"
   ]
  },
  {
   "cell_type": "code",
   "execution_count": 23,
   "id": "9cce0095",
   "metadata": {
    "scrolled": true
   },
   "outputs": [
    {
     "name": "stdout",
     "output_type": "stream",
     "text": [
      "ezekiel prosper\n"
     ]
    }
   ],
   "source": [
    "print(prosper.name)"
   ]
  },
  {
   "cell_type": "code",
   "execution_count": 30,
   "id": "e66dc8b1",
   "metadata": {},
   "outputs": [],
   "source": [
    "from random import randint\n",
    "class Account:\n",
    "    def __init__(self,name,dob,phone,address,email,bvn,init_depo):\n",
    "        self.name=name\n",
    "        self.dob=dob\n",
    "        self.phone=phone\n",
    "        self.address =address\n",
    "        self.email=email\n",
    "        self.bvn=bvn\n",
    "        self.initial_deposit=init_depo\n",
    "        self.account_bal=init_depo\n",
    "        self.acct_number= \"30\" \n",
    "        for i in range(9):\n",
    "            number = randint(0,9)\n",
    "            self.acct_number= \"30\" + str(number)\n",
    "            "
   ]
  },
  {
   "cell_type": "code",
   "execution_count": 77,
   "id": "f4c34604",
   "metadata": {},
   "outputs": [],
   "source": [
    "from random import randint, choices\n",
    "class Account:\n",
    "    def __init__(self,name,dob,phone,address,email,bvn,dep):\n",
    "        self.name=name\n",
    "        self.dob=dob\n",
    "        self.phone=phone\n",
    "        self.address=address\n",
    "        self.email=email\n",
    "        self.bvn=bvn\n",
    "        self.initial_deposit=dep\n",
    "        self.balance=dep\n",
    "        self.acct_type=\"Saving\"\n",
    "        self.acct_number = \"06\"+\"\".join(choices(\"0123456789\",k=8)) "
   ]
  },
  {
   "cell_type": "code",
   "execution_count": 58,
   "id": "bbd9293d",
   "metadata": {},
   "outputs": [
    {
     "name": "stdout",
     "output_type": "stream",
     "text": [
      "0658001465\n"
     ]
    }
   ],
   "source": [
    " \n",
    "print(acct_number)"
   ]
  },
  {
   "cell_type": "code",
   "execution_count": 59,
   "id": "aed67882",
   "metadata": {},
   "outputs": [
    {
     "name": "stdout",
     "output_type": "stream",
     "text": [
      "0654229837\n"
     ]
    }
   ],
   "source": [
    "acct_number = \"06\"+\"\".join(choices(\"0123456789\",k=8))  \n",
    "print(acct_number)"
   ]
  },
  {
   "cell_type": "code",
   "execution_count": 60,
   "id": "3968ceff",
   "metadata": {},
   "outputs": [
    {
     "name": "stdout",
     "output_type": "stream",
     "text": [
      "0617619154\n"
     ]
    }
   ],
   "source": [
    "acct_number = \"06\"+\"\".join(choices(\"0123456789\",k=8))  \n",
    "print(acct_number)"
   ]
  },
  {
   "cell_type": "markdown",
   "id": "2e6ae917",
   "metadata": {},
   "source": [
    "# Object-Oriented Programming!\n",
    "\n",
    "## Class and Methods"
   ]
  },
  {
   "cell_type": "markdown",
   "id": "689e6d07",
   "metadata": {},
   "source": [
    "#### The below example shows the creation of a bank account!"
   ]
  },
  {
   "cell_type": "markdown",
   "id": "bd5843e8",
   "metadata": {},
   "source": [
    "# Personal study on OOP"
   ]
  },
  {
   "cell_type": "code",
   "execution_count": 2,
   "id": "61319b3a",
   "metadata": {},
   "outputs": [],
   "source": [
    "# The __init__ special method, also known as a Constructor, is used to \n",
    "# initialize the Book class with attributes such as title, quantity, author, and price.\n",
    "\n",
    "class Food:\n",
    "    def __init__ (self, name,colour,taste,chef,cooking_time):\n",
    "        self.name=name\n",
    "        self.colour=colour\n",
    "        self.taste=taste\n",
    "        self.chef=chef\n",
    "        self.cooking_time=cooking_time\n",
    "\n",
    "    "
   ]
  },
  {
   "cell_type": "code",
   "execution_count": 10,
   "id": "afe352ec",
   "metadata": {},
   "outputs": [],
   "source": [
    "Food1=Food(\"rice\", \"white\", \"sweet\", \"Prosper\", \"5mins\")\n",
    "Food2=Food(\"beans\", \"brown\", \"milky\", \"Whyte\",\"10mins\")"
   ]
  },
  {
   "cell_type": "code",
   "execution_count": 11,
   "id": "55086fa3",
   "metadata": {},
   "outputs": [
    {
     "data": {
      "text/plain": [
       "'beans'"
      ]
     },
     "execution_count": 11,
     "metadata": {},
     "output_type": "execute_result"
    }
   ],
   "source": [
    "Food2.name"
   ]
  },
  {
   "cell_type": "code",
   "execution_count": 12,
   "id": "4b854fa1",
   "metadata": {},
   "outputs": [
    {
     "data": {
      "text/plain": [
       "'Prosper'"
      ]
     },
     "execution_count": 12,
     "metadata": {},
     "output_type": "execute_result"
    }
   ],
   "source": [
    "Food1.chef"
   ]
  },
  {
   "cell_type": "code",
   "execution_count": 14,
   "id": "957b6c7e",
   "metadata": {},
   "outputs": [
    {
     "data": {
      "text/plain": [
       "'Whyte'"
      ]
     },
     "execution_count": 14,
     "metadata": {},
     "output_type": "execute_result"
    }
   ],
   "source": [
    "Food2.chef"
   ]
  },
  {
   "cell_type": "code",
   "execution_count": null,
   "id": "a6b3bfad",
   "metadata": {},
   "outputs": [],
   "source": []
  },
  {
   "cell_type": "code",
   "execution_count": 79,
   "id": "fce1a1c8",
   "metadata": {},
   "outputs": [],
   "source": [
    "class Bank_Account:\n",
    "    pass"
   ]
  },
  {
   "cell_type": "code",
   "execution_count": 84,
   "id": "36fdc900",
   "metadata": {},
   "outputs": [],
   "source": [
    "Prosper=Bank_Account()\n",
    "Precious=Bank_Account()\n",
    "Peter = Bank_Account()"
   ]
  },
  {
   "cell_type": "code",
   "execution_count": 82,
   "id": "a4b22b62",
   "metadata": {},
   "outputs": [
    {
     "data": {
      "text/plain": [
       "<__main__.Bank_Account at 0x1294d268110>"
      ]
     },
     "execution_count": 82,
     "metadata": {},
     "output_type": "execute_result"
    }
   ],
   "source": [
    "Precious"
   ]
  },
  {
   "cell_type": "code",
   "execution_count": 83,
   "id": "8c59bebc",
   "metadata": {},
   "outputs": [
    {
     "data": {
      "text/plain": [
       "<__main__.Bank_Account at 0x1294d268550>"
      ]
     },
     "execution_count": 83,
     "metadata": {},
     "output_type": "execute_result"
    }
   ],
   "source": [
    "Prosper"
   ]
  },
  {
   "cell_type": "code",
   "execution_count": 85,
   "id": "807c8a23",
   "metadata": {},
   "outputs": [
    {
     "data": {
      "text/plain": [
       "<__main__.Bank_Account at 0x1294c590310>"
      ]
     },
     "execution_count": 85,
     "metadata": {},
     "output_type": "execute_result"
    }
   ],
   "source": [
    "Peter"
   ]
  },
  {
   "cell_type": "code",
   "execution_count": 86,
   "id": "08276237",
   "metadata": {},
   "outputs": [],
   "source": [
    "Prosper.accType = \"Savings\"\n",
    "Peter.accType = \"Credits\"\n",
    "Precious.accType = \"Current\""
   ]
  },
  {
   "cell_type": "code",
   "execution_count": 87,
   "id": "07493189",
   "metadata": {},
   "outputs": [
    {
     "data": {
      "text/plain": [
       "'Credits'"
      ]
     },
     "execution_count": 87,
     "metadata": {},
     "output_type": "execute_result"
    }
   ],
   "source": [
    "Peter.accType"
   ]
  },
  {
   "cell_type": "code",
   "execution_count": 88,
   "id": "5692f40d",
   "metadata": {},
   "outputs": [],
   "source": [
    "class Bank_Account:\n",
    "    def __init__(self,name,phone_no,email,address,dob,bvn,deposit):\n",
    "        self.name=name\n",
    "        self.phone_no=phone_no\n",
    "        self.email=email\n",
    "        self.address=address\n",
    "        self.dob=dob\n",
    "        self.bvn=bvn\n",
    "        self.first_deposit=deposit\n",
    "        self.balance=deposit"
   ]
  },
  {
   "cell_type": "code",
   "execution_count": 90,
   "id": "c40d4dca",
   "metadata": {},
   "outputs": [],
   "source": [
    "Prosper = Bank_Account(\"Ezekiel Prosper\",\"08167432782\",\"prosperousprosper100@gmail.com\",\n",
    "                      \"Choba\",\"13/03/1999\",\"2323456677\",\"10E6\")\n",
    "Precious = Bank_Account(\"Susi Precious\",\"0903464882\",\"preciousgirl@gmail.com\",\n",
    "                      \"Alaska\",\"11/09/2002\",\"7485374633\",\"1E6\")\n",
    "Peter = Bank_Account(\"Micheal Peter\",\"08025340782\",\"petermike111@gmail.com\",\n",
    "                      \"Aluu\",\"10/03/1990\",\"3546733737\",\"10000\")"
   ]
  },
  {
   "cell_type": "code",
   "execution_count": 91,
   "id": "821e939d",
   "metadata": {},
   "outputs": [
    {
     "data": {
      "text/plain": [
       "'3546733737'"
      ]
     },
     "execution_count": 91,
     "metadata": {},
     "output_type": "execute_result"
    }
   ],
   "source": [
    "Peter.bvn"
   ]
  },
  {
   "cell_type": "code",
   "execution_count": 93,
   "id": "aab9477b",
   "metadata": {},
   "outputs": [
    {
     "data": {
      "text/plain": [
       "'prosperousprosper100@gmail.com'"
      ]
     },
     "execution_count": 93,
     "metadata": {},
     "output_type": "execute_result"
    }
   ],
   "source": [
    "Prosper.email"
   ]
  },
  {
   "cell_type": "code",
   "execution_count": 95,
   "id": "5d56d39f",
   "metadata": {},
   "outputs": [
    {
     "data": {
      "text/plain": [
       "'1E6'"
      ]
     },
     "execution_count": 95,
     "metadata": {},
     "output_type": "execute_result"
    }
   ],
   "source": [
    "Precious.balance"
   ]
  },
  {
   "cell_type": "code",
   "execution_count": 96,
   "id": "fa57364a",
   "metadata": {},
   "outputs": [
    {
     "data": {
      "text/plain": [
       "1000.0"
      ]
     },
     "execution_count": 96,
     "metadata": {},
     "output_type": "execute_result"
    }
   ],
   "source": [
    "1E3"
   ]
  },
  {
   "cell_type": "code",
   "execution_count": 107,
   "id": "de3ca185",
   "metadata": {},
   "outputs": [],
   "source": [
    "import random as randint, choices\n",
    "class Bank_Account:\n",
    "    def __init__(self,name,phone_no,email,address,dob,bvn,deposit):\n",
    "        self.name=name\n",
    "        self.phone_no=phone_no\n",
    "        self.email=email\n",
    "        self.address=address\n",
    "        self.dob=dob\n",
    "        self.bvn=bvn\n",
    "        self.first_deposit=deposit\n",
    "        self.balance=deposit\n",
    "        self.account_number= \"01\" +\"\" .join(choices(\"0123456789\" k=8))\n",
    "        \n",
    "    #def make_withdrawal (self,amount):\n",
    "        #self.balance = self.balance-amount"
   ]
  },
  {
   "cell_type": "code",
   "execution_count": 106,
   "id": "94c071ca",
   "metadata": {},
   "outputs": [
    {
     "data": {
      "text/plain": [
       "'10000'"
      ]
     },
     "execution_count": 106,
     "metadata": {},
     "output_type": "execute_result"
    }
   ],
   "source": [
    "Peter.balance"
   ]
  },
  {
   "cell_type": "code",
   "execution_count": 138,
   "id": "c6561f08",
   "metadata": {},
   "outputs": [
    {
     "name": "stdout",
     "output_type": "stream",
     "text": [
      "011103\n"
     ]
    }
   ],
   "source": [
    "account_number= \"01\" + \"\".join(choices(\"012349\",k=4))\n",
    "print(account_number)"
   ]
  },
  {
   "cell_type": "code",
   "execution_count": 1,
   "id": "48a40093",
   "metadata": {},
   "outputs": [
    {
     "data": {
      "text/plain": [
       "4"
      ]
     },
     "execution_count": 1,
     "metadata": {},
     "output_type": "execute_result"
    }
   ],
   "source": [
    "2*2"
   ]
  },
  {
   "cell_type": "code",
   "execution_count": 2,
   "id": "d730518d",
   "metadata": {},
   "outputs": [
    {
     "name": "stdout",
     "output_type": "stream",
     "text": [
      "7\n"
     ]
    }
   ],
   "source": [
    "a = 2+5\n",
    "print(a)"
   ]
  },
  {
   "cell_type": "code",
   "execution_count": 3,
   "id": "3034ea34",
   "metadata": {},
   "outputs": [
    {
     "name": "stdout",
     "output_type": "stream",
     "text": [
      "I know a girl called Vivian\n"
     ]
    }
   ],
   "source": [
    "b = \"Vivian\"\n",
    "print(f\"I know a girl called {b}\")"
   ]
  },
  {
   "cell_type": "code",
   "execution_count": 5,
   "id": "eba06e1d",
   "metadata": {},
   "outputs": [
    {
     "name": "stdout",
     "output_type": "stream",
     "text": [
      "7\n",
      "Vivian\n"
     ]
    }
   ],
   "source": [
    "print(f\"{a}\\n{b}\")"
   ]
  },
  {
   "cell_type": "code",
   "execution_count": 9,
   "id": "3d27da2b",
   "metadata": {},
   "outputs": [
    {
     "name": "stdout",
     "output_type": "stream",
     "text": [
      "Enter an integer: 89\n",
      "89 is odd\n"
     ]
    }
   ],
   "source": [
    "number = int(input(\"Enter an integer: \"))\n",
    "if number % 2 ==0:\n",
    "    print(f\"{number} is even\")\n",
    "else:\n",
    "    print(f\"{number} is odd\")"
   ]
  },
  {
   "cell_type": "markdown",
   "id": "9ed72529",
   "metadata": {},
   "source": [
    "# Exercise 62"
   ]
  },
  {
   "cell_type": "markdown",
   "id": "2917a839",
   "metadata": {},
   "source": [
    "# A particular retailer is having a 60 percent off sale on a variety of discontinued products. The retailer would like to help its customers determine the reduced price of the merchandise by having a printed discount table on the shelf that shows the original prices and the prices after the discount has been applied. Write a program that uses a loop to generate this table, showing the original price, the discount amount, and the new price for purchases of $4.95, $9.95, $14.95, $19.95 and $24.95. Ensure that the discount amounts and the new prices are rounded to 2 decimal places when they are displayed."
   ]
  },
  {
   "cell_type": "code",
   "execution_count": 16,
   "id": "867b7fea",
   "metadata": {},
   "outputs": [
    {
     "name": "stdout",
     "output_type": "stream",
     "text": [
      "Sn | Original Price  |  Discount amount | New price\n",
      "1  |      $4.95 |            $2.97       |    $1.98\n",
      "2  |      $9.95 |            $5.97       |    $3.98\n",
      "3  |      $14.95 |            $8.97       |    $5.98\n"
     ]
    }
   ],
   "source": [
    "print(f\"Sn | Original Price  |  Discount amount | New price\")\n",
    "original_price = 4.95 \n",
    "discount = original_price * 0.6\n",
    "new_price = original_price - discount\n",
    "print(f\"1  |      ${original_price} |            ${discount}       |    ${new_price}\")\n",
    "\n",
    "original_price1 = 9.95 \n",
    "discount1 = round(original_price1 * 0.6,2)\n",
    "new_price1 = round(original_price1 - discount1,2)\n",
    "print(f\"2  |      ${original_price1} |            ${discount1}       |    ${new_price1}\")\n",
    "\n",
    "\n",
    "original_price2 = 14.95 \n",
    "discount2 = round(original_price2 * 0.6,2)\n",
    "new_price2 = round(original_price2 - discount2,2)\n",
    "print(f\"3  |      ${original_price2} |            ${discount2}       |    ${new_price2}\")\n",
    "\n",
    "\n"
   ]
  },
  {
   "cell_type": "code",
   "execution_count": null,
   "id": "180d7504",
   "metadata": {},
   "outputs": [],
   "source": []
  }
 ],
 "metadata": {
  "kernelspec": {
   "display_name": "Python 3 (ipykernel)",
   "language": "python",
   "name": "python3"
  },
  "language_info": {
   "codemirror_mode": {
    "name": "ipython",
    "version": 3
   },
   "file_extension": ".py",
   "mimetype": "text/x-python",
   "name": "python",
   "nbconvert_exporter": "python",
   "pygments_lexer": "ipython3",
   "version": "3.11.4"
  }
 },
 "nbformat": 4,
 "nbformat_minor": 5
}
