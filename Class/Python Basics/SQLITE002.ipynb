{
 "cells": [
  {
   "cell_type": "code",
   "execution_count": 2,
   "id": "dd314756",
   "metadata": {},
   "outputs": [],
   "source": [
    "import sqlite3 as sqlite\n",
    "conn = sqlite.connect(\"statesss.db\")\n",
    "conn.execute (\"CREATE TABLE states (state TEXT PRIMARY KEY, count INT NOT NULL)\")\n",
    "\n",
    "conn.close()\n"
   ]
  },
  {
   "cell_type": "code",
   "execution_count": 3,
   "id": "86c040df",
   "metadata": {},
   "outputs": [
    {
     "name": "stdout",
     "output_type": "stream",
     "text": [
      "Enter any state: Rivers State\n",
      "Enter number: 50\n"
     ]
    }
   ],
   "source": [
    "import sqlite3 as sqlite\n",
    "\n",
    "conn = sqlite.connect(\"statesss.db\")\n",
    "\n",
    "state =input(\"Enter any state: \")\n",
    "count = input(\"Enter number: \")\n",
    "\n",
    "conn.execute('INSERT INTO states(state, count) VALUES(?,?)',(state,count))\n",
    "\n",
    "conn.commit()\n",
    "conn.close()"
   ]
  },
  {
   "cell_type": "code",
   "execution_count": 4,
   "id": "515024e7",
   "metadata": {},
   "outputs": [
    {
     "name": "stdout",
     "output_type": "stream",
     "text": [
      "<sqlite3.Cursor object at 0x0000018420702BC0>\n",
      "('Rivers State',)\n"
     ]
    }
   ],
   "source": [
    "conn = sqlite.connect(\"statesss.db\")\n",
    "\n",
    "curs = conn.cursor()\n",
    "content = conn.execute(\"SELECT state FROM states\")\n",
    "\n",
    "print(content)\n",
    "for stuff in content:\n",
    "    print(stuff)\n",
    "    \n",
    "conn.close()"
   ]
  },
  {
   "cell_type": "code",
   "execution_count": 5,
   "id": "907a5682",
   "metadata": {},
   "outputs": [
    {
     "name": "stdout",
     "output_type": "stream",
     "text": [
      "Enter any state: Kogi\n",
      "Enter number: 60\n"
     ]
    }
   ],
   "source": [
    "conn = sqlite.connect(\"statesss.db\")\n",
    "\n",
    "state =input(\"Enter any state: \")\n",
    "count = input(\"Enter number: \")\n",
    "\n",
    "conn.execute('INSERT INTO states(state, count) VALUES(?,?)',(state,count))\n",
    "\n",
    "conn.commit()\n",
    "conn.close()"
   ]
  },
  {
   "cell_type": "code",
   "execution_count": 6,
   "id": "f8b946ba",
   "metadata": {},
   "outputs": [
    {
     "name": "stdout",
     "output_type": "stream",
     "text": [
      "<sqlite3.Cursor object at 0x0000018420700740>\n",
      "('Kogi',)\n",
      "('Rivers State',)\n"
     ]
    }
   ],
   "source": [
    "conn = sqlite.connect(\"statesss.db\")\n",
    "\n",
    "curs = conn.cursor()\n",
    "content = conn.execute(\"SELECT state FROM states\")\n",
    "\n",
    "print(content)\n",
    "for stuff in content:\n",
    "    print(stuff)\n",
    "    \n",
    "conn.close()"
   ]
  },
  {
   "cell_type": "code",
   "execution_count": 7,
   "id": "069f205b",
   "metadata": {},
   "outputs": [
    {
     "name": "stdout",
     "output_type": "stream",
     "text": [
      "<sqlite3.Cursor object at 0x00000184207029C0>\n",
      "('Rivers State', 50)\n",
      "('Kogi', 60)\n"
     ]
    }
   ],
   "source": [
    "conn = sqlite.connect(\"statesss.db\")\n",
    "\n",
    "curs = conn.cursor()\n",
    "content = conn.execute(\"SELECT * FROM states\")\n",
    "\n",
    "print(content)\n",
    "for stuff in content:\n",
    "    print(stuff)\n",
    "    \n",
    "conn.close()"
   ]
  },
  {
   "cell_type": "code",
   "execution_count": null,
   "id": "df5380f9",
   "metadata": {},
   "outputs": [],
   "source": []
  }
 ],
 "metadata": {
  "kernelspec": {
   "display_name": "Python 3 (ipykernel)",
   "language": "python",
   "name": "python3"
  },
  "language_info": {
   "codemirror_mode": {
    "name": "ipython",
    "version": 3
   },
   "file_extension": ".py",
   "mimetype": "text/x-python",
   "name": "python",
   "nbconvert_exporter": "python",
   "pygments_lexer": "ipython3",
   "version": "3.11.4"
  }
 },
 "nbformat": 4,
 "nbformat_minor": 5
}
