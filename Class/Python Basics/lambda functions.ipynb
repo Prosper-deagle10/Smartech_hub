{
 "cells": [
  {
   "cell_type": "code",
   "execution_count": 1,
   "id": "bfe24ad9",
   "metadata": {},
   "outputs": [
    {
     "data": {
      "text/plain": [
       "4"
      ]
     },
     "execution_count": 1,
     "metadata": {},
     "output_type": "execute_result"
    }
   ],
   "source": [
    "def median (a,b,c):\n",
    "    if a>=b and a<=c or a<=b and a>=c:\n",
    "        return a\n",
    "    if b>=a and b<=c or b<=a and b>=c:\n",
    "        return b\n",
    "    if c>=a and c<=b or c<=a and c>=b:\n",
    "        return c\n",
    "    \n",
    "median(2,4,6)"
   ]
  },
  {
   "cell_type": "code",
   "execution_count": 8,
   "id": "f9eb8ed1",
   "metadata": {},
   "outputs": [
    {
     "data": {
      "text/plain": [
       "{1: 'First', 2: 'Second', 3: 'Third', 4: 'Fourth'}"
      ]
     },
     "execution_count": 8,
     "metadata": {},
     "output_type": "execute_result"
    }
   ],
   "source": [
    "def get_ordinal(number):\n",
    "    if number not in [1,2,3,4]:\n",
    "        return \"\"\n",
    "    ordinal_dict={1:\"First\", 2:\"Second\", 3:\"Third\", 4:\"Fourth\"}\n",
    "    return ordinal\n",
    "\n",
    "get_ordinal(3)\n"
   ]
  },
  {
   "cell_type": "code",
   "execution_count": 19,
   "id": "b3399a80",
   "metadata": {},
   "outputs": [
    {
     "data": {
      "text/plain": [
       "7"
      ]
     },
     "execution_count": 19,
     "metadata": {},
     "output_type": "execute_result"
    }
   ],
   "source": [
    "def add_3(x, y=0,z=0):\n",
    "    add=x+y+z\n",
    "    return add\n",
    "\n",
    "add_3(3,4)\n",
    "    \n",
    "    \n",
    "    \n",
    "\n"
   ]
  },
  {
   "cell_type": "code",
   "execution_count": 20,
   "id": "ac43b890",
   "metadata": {},
   "outputs": [
    {
     "data": {
      "text/plain": [
       "1"
      ]
     },
     "execution_count": 20,
     "metadata": {},
     "output_type": "execute_result"
    }
   ],
   "source": [
    "def add_3(x, y=0,z=0):\n",
    "    add=x+y+z\n",
    "    return add\n",
    "add_3(1)"
   ]
  },
  {
   "cell_type": "code",
   "execution_count": 21,
   "id": "ebeb21ba",
   "metadata": {},
   "outputs": [
    {
     "data": {
      "text/plain": [
       "20"
      ]
     },
     "execution_count": 21,
     "metadata": {},
     "output_type": "execute_result"
    }
   ],
   "source": [
    "def add_3(x, y=0,z=0):\n",
    "    add=x+y+z\n",
    "    return add\n",
    "\n",
    "add_3(4,6,10)"
   ]
  },
  {
   "cell_type": "code",
   "execution_count": 31,
   "id": "500197ba",
   "metadata": {},
   "outputs": [
    {
     "data": {
      "text/plain": [
       "60"
      ]
     },
     "execution_count": 31,
     "metadata": {},
     "output_type": "execute_result"
    }
   ],
   "source": [
    "def add_mult(*a):\n",
    "    add = 0\n",
    "    for i in a:\n",
    "        add = add + i\n",
    "    return add\n",
    "\n",
    "add_mult(3,2,4,5,33,2,11)"
   ]
  },
  {
   "cell_type": "code",
   "execution_count": 50,
   "id": "7899d4ab",
   "metadata": {},
   "outputs": [
    {
     "name": "stdout",
     "output_type": "stream",
     "text": [
      "Your random password is: <function random_password at 0x000001AACDBF5620>\n"
     ]
    }
   ],
   "source": [
    "import random as rd\n",
    "def random_password():\n",
    "    password = rd.randint(7,11)\n",
    "    for i in range(password):\n",
    "        random_characters = chr (randint(33,127))\n",
    "        password = password + random_characters\n",
    "    return password\n",
    "\n",
    "def random_password():\n",
    "    print(\"Your random password is:\", random_password)\n",
    "if  __name__   == \"__main__\":\n",
    "   main()"
   ]
  },
  {
   "cell_type": "markdown",
   "id": "c040612a",
   "metadata": {},
   "source": [
    "# 20TH SEPTEMBER 2023"
   ]
  },
  {
   "cell_type": "markdown",
   "id": "313e9692",
   "metadata": {},
   "source": [
    "# Lambda expression or anonymous functions\n"
   ]
  },
  {
   "cell_type": "code",
   "execution_count": 1,
   "id": "d7997781",
   "metadata": {
    "scrolled": true
   },
   "outputs": [
    {
     "data": {
      "text/plain": [
       "10.0"
      ]
     },
     "execution_count": 1,
     "metadata": {},
     "output_type": "execute_result"
    }
   ],
   "source": [
    "area_of_triangle = lambda base,heights: 0.5*(base)*(heights)\n",
    "area_of_triangle (4,5)"
   ]
  },
  {
   "cell_type": "code",
   "execution_count": 17,
   "id": "f3ea0014",
   "metadata": {},
   "outputs": [
    {
     "name": "stdout",
     "output_type": "stream",
     "text": [
      "103\n"
     ]
    }
   ],
   "source": [
    "numbers = [4,5,3,45,34,12]\n",
    "sum_of_numbers = 0\n",
    "for number in numbers:\n",
    "    sum_of_numbers = sum_of_numbers+number\n",
    "print(sum_of_numbers)"
   ]
  },
  {
   "cell_type": "code",
   "execution_count": null,
   "id": "cff4a11d",
   "metadata": {},
   "outputs": [],
   "source": [
    "numbers = [4,5,3,45,34,12]\n",
    "for number in numbers:\n",
    "    square=number**2\n",
    "    saures"
   ]
  },
  {
   "cell_type": "code",
   "execution_count": 19,
   "id": "0e07af40",
   "metadata": {},
   "outputs": [
    {
     "data": {
      "text/plain": [
       "[-9, -2, -35, -170, -1175, -1710]"
      ]
     },
     "execution_count": 19,
     "metadata": {},
     "output_type": "execute_result"
    }
   ],
   "source": [
    "list(map(lambda x: 3*x-2*x**2, [3,2,5,10,25,30]))"
   ]
  },
  {
   "cell_type": "code",
   "execution_count": 24,
   "id": "82d67f40",
   "metadata": {},
   "outputs": [
    {
     "data": {
      "text/plain": [
       "19.8"
      ]
     },
     "execution_count": 24,
     "metadata": {},
     "output_type": "execute_result"
    }
   ],
   "source": [
    "def shipping_cost(number_of_items):\n",
    "    if number_of_items==1:\n",
    "        return round(10.95,2)\n",
    "    else:\n",
    "        return round(10.95+(number_of_items-1)*2.95,2)\n",
    "\n",
    "shipping_cost(4)"
   ]
  },
  {
   "cell_type": "code",
   "execution_count": 28,
   "id": "cb73dead",
   "metadata": {},
   "outputs": [
    {
     "data": {
      "text/plain": [
       "13.899999999999999"
      ]
     },
     "execution_count": 28,
     "metadata": {},
     "output_type": "execute_result"
    }
   ],
   "source": [
    "shipping_cost(2)"
   ]
  },
  {
   "cell_type": "code",
   "execution_count": 26,
   "id": "03b865a8",
   "metadata": {},
   "outputs": [
    {
     "data": {
      "text/plain": [
       "22.75"
      ]
     },
     "execution_count": 26,
     "metadata": {},
     "output_type": "execute_result"
    }
   ],
   "source": [
    "shipping_cost(5)"
   ]
  },
  {
   "cell_type": "code",
   "execution_count": 30,
   "id": "ed9662ca",
   "metadata": {},
   "outputs": [
    {
     "data": {
      "text/plain": [
       "13.899999999999999"
      ]
     },
     "execution_count": 30,
     "metadata": {},
     "output_type": "execute_result"
    }
   ],
   "source": [
    "shipping_cost(2)"
   ]
  },
  {
   "cell_type": "markdown",
   "id": "4b42b42b",
   "metadata": {},
   "source": [
    "# lambda inputs : function_body"
   ]
  },
  {
   "cell_type": "code",
   "execution_count": 32,
   "id": "0782d5e5",
   "metadata": {},
   "outputs": [
    {
     "data": {
      "text/plain": [
       "16.85"
      ]
     },
     "execution_count": 32,
     "metadata": {},
     "output_type": "execute_result"
    }
   ],
   "source": [
    "shipping_cost_4=lambda x: 10.95+(x-1)*2.95 # The lambda expression helps to declare a variable ones.\n",
    "\n",
    "shipping_cost_4(3)"
   ]
  },
  {
   "cell_type": "code",
   "execution_count": 33,
   "id": "31e27e0d",
   "metadata": {},
   "outputs": [
    {
     "data": {
      "text/plain": [
       "28.650000000000002"
      ]
     },
     "execution_count": 33,
     "metadata": {},
     "output_type": "execute_result"
    }
   ],
   "source": [
    "shipping_cost(7)"
   ]
  },
  {
   "cell_type": "code",
   "execution_count": 34,
   "id": "a5dbdd6d",
   "metadata": {},
   "outputs": [
    {
     "data": {
      "text/plain": [
       "35"
      ]
     },
     "execution_count": 34,
     "metadata": {},
     "output_type": "execute_result"
    }
   ],
   "source": [
    "sum_2= lambda x,y: x+y # In this case, lambda are given more than one parameters.\n",
    "sum_2(34,1)"
   ]
  },
  {
   "cell_type": "code",
   "execution_count": 18,
   "id": "7da76fb9",
   "metadata": {},
   "outputs": [
    {
     "name": "stdout",
     "output_type": "stream",
     "text": [
      "Enter number: 2\n",
      "odd\n",
      "2 is even\n"
     ]
    }
   ],
   "source": [
    "num = int(input(\"Enter number: \"))\n",
    "for num in range(1,50):\n",
    "    if num % 2 ==0:\n",
    "        print(f\"{num} is even\")\n",
    "        break\n",
    "    else:\n",
    "        print(f\"odd\")"
   ]
  },
  {
   "cell_type": "code",
   "execution_count": null,
   "id": "420d7c96",
   "metadata": {},
   "outputs": [],
   "source": []
  }
 ],
 "metadata": {
  "kernelspec": {
   "display_name": "Python 3 (ipykernel)",
   "language": "python",
   "name": "python3"
  },
  "language_info": {
   "codemirror_mode": {
    "name": "ipython",
    "version": 3
   },
   "file_extension": ".py",
   "mimetype": "text/x-python",
   "name": "python",
   "nbconvert_exporter": "python",
   "pygments_lexer": "ipython3",
   "version": "3.11.4"
  }
 },
 "nbformat": 4,
 "nbformat_minor": 5
}
