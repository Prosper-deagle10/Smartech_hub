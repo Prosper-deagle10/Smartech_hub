{
 "cells": [
  {
   "cell_type": "code",
   "execution_count": 1,
   "id": "2e933c4f",
   "metadata": {},
   "outputs": [
    {
     "name": "stdout",
     "output_type": "stream",
     "text": [
      "python\n"
     ]
    }
   ],
   "source": [
    "lang=\"python\"\n",
    "print(lang)"
   ]
  },
  {
   "cell_type": "code",
   "execution_count": 2,
   "id": "6b69f22b",
   "metadata": {},
   "outputs": [
    {
     "data": {
      "text/plain": [
       "'PYTHON'"
      ]
     },
     "execution_count": 2,
     "metadata": {},
     "output_type": "execute_result"
    }
   ],
   "source": [
    "lang.upper()"
   ]
  },
  {
   "cell_type": "code",
   "execution_count": 6,
   "id": "c4c29d42",
   "metadata": {},
   "outputs": [
    {
     "name": "stdout",
     "output_type": "stream",
     "text": [
      "Enter a message: This is cool\n",
      "This is cool\n"
     ]
    }
   ],
   "source": [
    "msg =input(\"Enter a message: \")\n",
    "print(msg)"
   ]
  },
  {
   "cell_type": "code",
   "execution_count": 7,
   "id": "9de6f9a2",
   "metadata": {},
   "outputs": [
    {
     "name": "stdout",
     "output_type": "stream",
     "text": [
      "Enter a message: this is it\n",
      "['th', ' ', ' it']\n"
     ]
    }
   ],
   "source": [
    "msg =input(\"Enter a message: \")\n",
    "print(msg.split(\"is\"))"
   ]
  },
  {
   "cell_type": "code",
   "execution_count": 10,
   "id": "990a55e0",
   "metadata": {},
   "outputs": [
    {
     "name": "stdout",
     "output_type": "stream",
     "text": [
      "Enter a message: I am Prosper\n",
      "['I', 'am', 'Prosper']\n",
      "3\n"
     ]
    }
   ],
   "source": [
    "# Splitting\n",
    "msg = input (\"Enter a message: \")\n",
    "splitted=msg.split()\n",
    "print(splitted)\n",
    "print(len(splitted))"
   ]
  },
  {
   "cell_type": "code",
   "execution_count": 11,
   "id": "da3602a9",
   "metadata": {},
   "outputs": [
    {
     "name": "stdout",
     "output_type": "stream",
     "text": [
      "Enter a message: I am Prosper   Ezekiel.\n",
      "['I', 'am', 'Prosper', '', '', 'Ezekiel.']\n",
      "6\n"
     ]
    }
   ],
   "source": [
    "msg = input (\"Enter a message: \")\n",
    "splitted=msg.split(\" \")\n",
    "print(splitted)\n",
    "print(len(splitted))"
   ]
  },
  {
   "cell_type": "code",
   "execution_count": 12,
   "id": "b4bf8ba8",
   "metadata": {},
   "outputs": [
    {
     "name": "stdout",
     "output_type": "stream",
     "text": [
      "Enter a message: Prosper Ezekiel\n",
      "['Prosper', 'Ezekiel']\n",
      "2\n",
      "Your name is ['Prosper', 'Ezekiel']\n"
     ]
    }
   ],
   "source": [
    "msg = input (\"Enter a message: \")\n",
    "splitted=msg.split()\n",
    "print(splitted)\n",
    "print(len(splitted))\n",
    "print(\"Your name is\", splitted)"
   ]
  },
  {
   "cell_type": "code",
   "execution_count": 13,
   "id": "357c8d92",
   "metadata": {},
   "outputs": [
    {
     "name": "stdout",
     "output_type": "stream",
     "text": [
      "Enter a message: Thanks for coming on time today.\n",
      "6\n"
     ]
    }
   ],
   "source": [
    "msg = input (\"Enter a message: \")\n",
    "print(msg.strip().count(\" \")+1)"
   ]
  },
  {
   "cell_type": "markdown",
   "id": "daec4d17",
   "metadata": {},
   "source": [
    "# Boolean "
   ]
  },
  {
   "cell_type": "markdown",
   "id": "e4de5645",
   "metadata": {},
   "source": [
    "### Boolean practice"
   ]
  },
  {
   "cell_type": "code",
   "execution_count": 17,
   "id": "c821301d",
   "metadata": {},
   "outputs": [
    {
     "data": {
      "text/plain": [
       "False"
      ]
     },
     "execution_count": 17,
     "metadata": {},
     "output_type": "execute_result"
    }
   ],
   "source": [
    "\"Smith\"==\"smith\""
   ]
  },
  {
   "cell_type": "code",
   "execution_count": 18,
   "id": "25bd4148",
   "metadata": {},
   "outputs": [
    {
     "data": {
      "text/plain": [
       "True"
      ]
     },
     "execution_count": 18,
     "metadata": {},
     "output_type": "execute_result"
    }
   ],
   "source": [
    "12>=12"
   ]
  },
  {
   "cell_type": "code",
   "execution_count": 19,
   "id": "7569a312",
   "metadata": {},
   "outputs": [
    {
     "data": {
      "text/plain": [
       "False"
      ]
     },
     "execution_count": 19,
     "metadata": {},
     "output_type": "execute_result"
    }
   ],
   "source": [
    "4==2"
   ]
  },
  {
   "cell_type": "code",
   "execution_count": 20,
   "id": "39a1448e",
   "metadata": {},
   "outputs": [
    {
     "data": {
      "text/plain": [
       "False"
      ]
     },
     "execution_count": 20,
     "metadata": {},
     "output_type": "execute_result"
    }
   ],
   "source": [
    "4!=4"
   ]
  },
  {
   "cell_type": "code",
   "execution_count": 21,
   "id": "a89da716",
   "metadata": {},
   "outputs": [
    {
     "data": {
      "text/plain": [
       "2"
      ]
     },
     "execution_count": 21,
     "metadata": {},
     "output_type": "execute_result"
    }
   ],
   "source": [
    "True+1"
   ]
  },
  {
   "cell_type": "code",
   "execution_count": 22,
   "id": "f3ec2519",
   "metadata": {},
   "outputs": [
    {
     "data": {
      "text/plain": [
       "0"
      ]
     },
     "execution_count": 22,
     "metadata": {},
     "output_type": "execute_result"
    }
   ],
   "source": [
    "False*4"
   ]
  },
  {
   "cell_type": "markdown",
   "id": "5f312518",
   "metadata": {},
   "source": [
    "# Conditional control structure"
   ]
  },
  {
   "cell_type": "code",
   "execution_count": 4,
   "id": "57039fe0",
   "metadata": {},
   "outputs": [
    {
     "name": "stdout",
     "output_type": "stream",
     "text": [
      "Enter a number: 70\n",
      "You are wrong\n"
     ]
    }
   ],
   "source": [
    "number = float(input(\"Enter a number: \"))\n",
    "if number < 20:\n",
    "    print(\"You're righht\")\n",
    "else:\n",
    "    print(\"You are wrong\")"
   ]
  },
  {
   "cell_type": "code",
   "execution_count": 1,
   "id": "17738a84",
   "metadata": {},
   "outputs": [
    {
     "name": "stdout",
     "output_type": "stream",
     "text": [
      "You're righht\n"
     ]
    }
   ],
   "source": [
    "number = 20\n",
    "if number==20:\n",
    "    print(\"You're righht\")\n",
    "else:\n",
    "     print(\"You're wrong\")"
   ]
  },
  {
   "cell_type": "code",
   "execution_count": 33,
   "id": "85018efa",
   "metadata": {},
   "outputs": [
    {
     "name": "stdout",
     "output_type": "stream",
     "text": [
      "Enter a number: 24\n",
      "You are wrong\n"
     ]
    }
   ],
   "source": [
    "msg=float(input(\"Enter a number: \"))\n",
    "if msg==30:\n",
    "    print(\"You are right\")\n",
    "else:\n",
    "    print(\"You are wrong\")"
   ]
  },
  {
   "cell_type": "code",
   "execution_count": 34,
   "id": "c0cb82b2",
   "metadata": {},
   "outputs": [
    {
     "name": "stdout",
     "output_type": "stream",
     "text": [
      "Enter your nameProsper\n",
      "Enter your salary: 200000\n",
      "Prosper, your bonus is 20000.0\n",
      "your basic salary is 200000.0\n",
      "You are receiving 220000.0\n"
     ]
    }
   ],
   "source": [
    "name = input(\"Enter your name: \")\n",
    "salary = float(input(\"Enter your salary: \"))\n",
    "if name.startswith(\"C\"):\n",
    "    print(f\" {name}, you don't have any bonus, hence you are to receive {salary} \")\n",
    "else:\n",
    "    bonus=0.1*salary\n",
    "    new_salary=salary+bonus\n",
    "    print(f\"{name}, your bonus is {bonus}\")\n",
    "    print(f\"your basic salary is {salary}\")\n",
    "    print(f\"You are receiving {new_salary}\")"
   ]
  },
  {
   "cell_type": "code",
   "execution_count": 35,
   "id": "047db955",
   "metadata": {},
   "outputs": [
    {
     "name": "stdout",
     "output_type": "stream",
     "text": [
      "Enter your name: charity\n",
      "Enter your salary: 100000\n",
      " charity, you don't have any bonus, hence you are to receive 100000.0 \n"
     ]
    }
   ],
   "source": [
    "name = input(\"Enter your name: \")\n",
    "salary = float(input(\"Enter your salary: \"))\n",
    "if name.upper().startswith(\"C\"):\n",
    "    print(f\" {name}, you don't have any bonus, hence you are to receive {salary} \")\n",
    "else:\n",
    "    bonus=0.1*salary\n",
    "    new_salary=salary+bonus\n",
    "    print(f\"{name}, your bonus is {bonus}\")\n",
    "    print(f\"your basic salary is {salary}\")\n",
    "    print(f\"You are receiving {new_salary}\")"
   ]
  },
  {
   "cell_type": "code",
   "execution_count": 9,
   "id": "f3b44d65",
   "metadata": {},
   "outputs": [
    {
     "name": "stdout",
     "output_type": "stream",
     "text": [
      "<function add at 0x0000021F624477E0>\n"
     ]
    }
   ],
   "source": [
    "a=4\n",
    "b=3\n",
    "add=a+b\n",
    "def add(a, b):\n",
    "    \"\"\"Function to add the value of a and b\"\"\"\n",
    "    return a+b\n",
    "\n",
    "print(add)"
   ]
  },
  {
   "cell_type": "code",
   "execution_count": 8,
   "id": "5db46922",
   "metadata": {},
   "outputs": [
    {
     "name": "stdout",
     "output_type": "stream",
     "text": [
      "HELLO, WORLD\n"
     ]
    }
   ],
   "source": [
    "a = \"Hello, World\"\n",
    "print(a.upper())"
   ]
  },
  {
   "cell_type": "markdown",
   "id": "fa250fb3",
   "metadata": {},
   "source": [
    "# Inbuilt function and modules"
   ]
  },
  {
   "cell_type": "code",
   "execution_count": 2,
   "id": "ba6ddd4b",
   "metadata": {},
   "outputs": [
    {
     "data": {
      "text/plain": [
       "['In',\n",
       " 'Out',\n",
       " '_',\n",
       " '__',\n",
       " '___',\n",
       " '__builtin__',\n",
       " '__builtins__',\n",
       " '__doc__',\n",
       " '__loader__',\n",
       " '__name__',\n",
       " '__package__',\n",
       " '__spec__',\n",
       " '_dh',\n",
       " '_i',\n",
       " '_i1',\n",
       " '_i2',\n",
       " '_ih',\n",
       " '_ii',\n",
       " '_iii',\n",
       " '_oh',\n",
       " 'acos',\n",
       " 'acosh',\n",
       " 'asin',\n",
       " 'asinh',\n",
       " 'atan',\n",
       " 'atan2',\n",
       " 'atanh',\n",
       " 'cbrt',\n",
       " 'ceil',\n",
       " 'comb',\n",
       " 'copysign',\n",
       " 'cos',\n",
       " 'cosh',\n",
       " 'degrees',\n",
       " 'dist',\n",
       " 'e',\n",
       " 'erf',\n",
       " 'erfc',\n",
       " 'exit',\n",
       " 'exp',\n",
       " 'exp2',\n",
       " 'expm1',\n",
       " 'fabs',\n",
       " 'factorial',\n",
       " 'floor',\n",
       " 'fmod',\n",
       " 'frexp',\n",
       " 'fsum',\n",
       " 'gamma',\n",
       " 'gcd',\n",
       " 'get_ipython',\n",
       " 'hypot',\n",
       " 'inf',\n",
       " 'isclose',\n",
       " 'isfinite',\n",
       " 'isinf',\n",
       " 'isnan',\n",
       " 'isqrt',\n",
       " 'lcm',\n",
       " 'ldexp',\n",
       " 'lgamma',\n",
       " 'log',\n",
       " 'log10',\n",
       " 'log1p',\n",
       " 'log2',\n",
       " 'modf',\n",
       " 'nan',\n",
       " 'nextafter',\n",
       " 'open',\n",
       " 'perm',\n",
       " 'pi',\n",
       " 'pow',\n",
       " 'prod',\n",
       " 'quit',\n",
       " 'radians',\n",
       " 'remainder',\n",
       " 'sin',\n",
       " 'sinh',\n",
       " 'sqrt',\n",
       " 'tan',\n",
       " 'tanh',\n",
       " 'tau',\n",
       " 'trunc',\n",
       " 'ulp']"
      ]
     },
     "execution_count": 2,
     "metadata": {},
     "output_type": "execute_result"
    }
   ],
   "source": [
    "from math import *\n",
    "dir ()"
   ]
  },
  {
   "cell_type": "code",
   "execution_count": 4,
   "id": "20ee0f09",
   "metadata": {},
   "outputs": [
    {
     "data": {
      "text/plain": [
       "['BPF',\n",
       " 'LOG4',\n",
       " 'NV_MAGICCONST',\n",
       " 'RECIP_BPF',\n",
       " 'Random',\n",
       " 'SG_MAGICCONST',\n",
       " 'SystemRandom',\n",
       " 'TWOPI',\n",
       " '_ONE',\n",
       " '_Sequence',\n",
       " '_Set',\n",
       " '__all__',\n",
       " '__builtins__',\n",
       " '__cached__',\n",
       " '__doc__',\n",
       " '__file__',\n",
       " '__loader__',\n",
       " '__name__',\n",
       " '__package__',\n",
       " '__spec__',\n",
       " '_accumulate',\n",
       " '_acos',\n",
       " '_bisect',\n",
       " '_ceil',\n",
       " '_cos',\n",
       " '_e',\n",
       " '_exp',\n",
       " '_floor',\n",
       " '_index',\n",
       " '_inst',\n",
       " '_isfinite',\n",
       " '_log',\n",
       " '_os',\n",
       " '_pi',\n",
       " '_random',\n",
       " '_repeat',\n",
       " '_sha512',\n",
       " '_sin',\n",
       " '_sqrt',\n",
       " '_test',\n",
       " '_test_generator',\n",
       " '_urandom',\n",
       " '_warn',\n",
       " 'betavariate',\n",
       " 'choice',\n",
       " 'choices',\n",
       " 'expovariate',\n",
       " 'gammavariate',\n",
       " 'gauss',\n",
       " 'getrandbits',\n",
       " 'getstate',\n",
       " 'lognormvariate',\n",
       " 'normalvariate',\n",
       " 'paretovariate',\n",
       " 'randbytes',\n",
       " 'randint',\n",
       " 'random',\n",
       " 'randrange',\n",
       " 'sample',\n",
       " 'seed',\n",
       " 'setstate',\n",
       " 'shuffle',\n",
       " 'triangular',\n",
       " 'uniform',\n",
       " 'vonmisesvariate',\n",
       " 'weibullvariate']"
      ]
     },
     "execution_count": 4,
     "metadata": {},
     "output_type": "execute_result"
    }
   ],
   "source": [
    "import random as rd\n",
    "dir (rd)"
   ]
  },
  {
   "cell_type": "code",
   "execution_count": 8,
   "id": "513a6240",
   "metadata": {},
   "outputs": [
    {
     "data": {
      "text/plain": [
       "3"
      ]
     },
     "execution_count": 8,
     "metadata": {},
     "output_type": "execute_result"
    }
   ],
   "source": [
    "import random as rd\n",
    "rd.randint(2,10,)"
   ]
  },
  {
   "cell_type": "code",
   "execution_count": 9,
   "id": "a0a5d214",
   "metadata": {},
   "outputs": [
    {
     "data": {
      "text/plain": [
       "'Charles'"
      ]
     },
     "execution_count": 9,
     "metadata": {},
     "output_type": "execute_result"
    }
   ],
   "source": [
    "rd.choice([\"Charles\", \"gee\", \"man\"])"
   ]
  },
  {
   "cell_type": "code",
   "execution_count": 12,
   "id": "b6ce5365",
   "metadata": {},
   "outputs": [
    {
     "data": {
      "text/plain": [
       "'man'"
      ]
     },
     "execution_count": 12,
     "metadata": {},
     "output_type": "execute_result"
    }
   ],
   "source": [
    "rd.choice([\"Charles\", \"gee\", \"man\"])"
   ]
  },
  {
   "cell_type": "code",
   "execution_count": 10,
   "id": "e64983ec",
   "metadata": {},
   "outputs": [
    {
     "data": {
      "text/plain": [
       "['man', 'gee']"
      ]
     },
     "execution_count": 10,
     "metadata": {},
     "output_type": "execute_result"
    }
   ],
   "source": [
    "rd.choices([\"Charles\", \"gee\", \"man\"], k=2)"
   ]
  },
  {
   "cell_type": "code",
   "execution_count": 17,
   "id": "32ffe600",
   "metadata": {},
   "outputs": [
    {
     "data": {
      "text/plain": [
       "['gee', 'man', 'Charles', 'gee', 'gee']"
      ]
     },
     "execution_count": 17,
     "metadata": {},
     "output_type": "execute_result"
    }
   ],
   "source": [
    "rd.choices([\"Charles\", \"gee\", \"man\"], k=5)"
   ]
  },
  {
   "cell_type": "code",
   "execution_count": 18,
   "id": "1c068b9e",
   "metadata": {},
   "outputs": [
    {
     "data": {
      "text/plain": [
       "['Charles', 'Charles', 'Charles', 'Charles', 'man']"
      ]
     },
     "execution_count": 18,
     "metadata": {},
     "output_type": "execute_result"
    }
   ],
   "source": [
    "rd.choices([\"Charles\", \"gee\", \"man\"], k=5)"
   ]
  },
  {
   "cell_type": "code",
   "execution_count": 24,
   "id": "1b7a22c4",
   "metadata": {},
   "outputs": [
    {
     "data": {
      "text/plain": [
       "['man', 'Charles', 'gee', 'Charles', 'gee']"
      ]
     },
     "execution_count": 24,
     "metadata": {},
     "output_type": "execute_result"
    }
   ],
   "source": [
    "rd.choices([\"Charles\", \"gee\", \"man\"],k=5,weights=[0.7,0.2,0.1])"
   ]
  },
  {
   "cell_type": "code",
   "execution_count": 6,
   "id": "df4d3176",
   "metadata": {},
   "outputs": [
    {
     "data": {
      "text/plain": [
       "[5, 9, 9, 3]"
      ]
     },
     "execution_count": 6,
     "metadata": {},
     "output_type": "execute_result"
    }
   ],
   "source": [
    "import random as rd\n",
    "rd.choices([2,1,3,2,5,6,7,8,9], k=4)"
   ]
  },
  {
   "cell_type": "markdown",
   "id": "5af55178",
   "metadata": {},
   "source": [
    "# Game"
   ]
  },
  {
   "cell_type": "code",
   "execution_count": 11,
   "id": "fe41ac73",
   "metadata": {},
   "outputs": [
    {
     "name": "stdout",
     "output_type": "stream",
     "text": [
      "Make a guess(1,6): 6\n",
      "Try again\n",
      "Make a guess(1,6): 3\n",
      "Try again\n",
      "Make a guess(1,6): 2\n",
      "Try again\n"
     ]
    }
   ],
   "source": [
    "import random as rd\n",
    "magic_numbers=rd.randint(1,6)\n",
    "for i in range(3):\n",
    "    guess=int(input(\"Make a guess(1,6): \"))\n",
    "    if magic_numbers==guess:\n",
    "        print(\"congrats!!!\")\n",
    "        break\n",
    "    else:\n",
    "        print(\"Try again\")"
   ]
  },
  {
   "cell_type": "code",
   "execution_count": 16,
   "id": "3df74a49",
   "metadata": {},
   "outputs": [
    {
     "data": {
      "text/plain": [
       "5.940567178864845"
      ]
     },
     "execution_count": 16,
     "metadata": {},
     "output_type": "execute_result"
    }
   ],
   "source": [
    "rd.uniform(1,10)"
   ]
  },
  {
   "cell_type": "code",
   "execution_count": null,
   "id": "29783291",
   "metadata": {},
   "outputs": [],
   "source": []
  }
 ],
 "metadata": {
  "kernelspec": {
   "display_name": "Python 3 (ipykernel)",
   "language": "python",
   "name": "python3"
  },
  "language_info": {
   "codemirror_mode": {
    "name": "ipython",
    "version": 3
   },
   "file_extension": ".py",
   "mimetype": "text/x-python",
   "name": "python",
   "nbconvert_exporter": "python",
   "pygments_lexer": "ipython3",
   "version": "3.11.4"
  }
 },
 "nbformat": 4,
 "nbformat_minor": 5
}
