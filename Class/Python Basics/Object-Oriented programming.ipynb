{
 "cells": [
  {
   "cell_type": "code",
   "execution_count": 1,
   "id": "53a2c797",
   "metadata": {},
   "outputs": [],
   "source": [
    "class Animal:\n",
    "    def __init__(self,kind,color,habitat,size,name,sound,gender):\n",
    "        self.name = name\n",
    "        self.gender = gender\n",
    "        self.color = color\n",
    "        self.kind = kind\n",
    "        self.habitat = habitat\n",
    "        self.size = size\n",
    "        self.sound = sound\n",
    "        \n",
    "        \n",
    "    def make_sound(self):\n",
    "        return f\"{self.name} {self.sound}\"\n",
    "    \n",
    "    \n",
    "    def eats(self):\n",
    "        return f\"{self.name} eats\"\n",
    "    \n",
    "    \n",
    "    def sleeps(self):\n",
    "        return f\" \"+self.name+\" sleeps\""
   ]
  },
  {
   "cell_type": "code",
   "execution_count": 3,
   "id": "aec4c4d8",
   "metadata": {},
   "outputs": [],
   "source": [
    "animal1 = Animal(\"Dog\",\"white\",\"terrestrial\",\"big\",\"Bingo\",\"barks\",\"male\")"
   ]
  },
  {
   "cell_type": "code",
   "execution_count": 5,
   "id": "9a14f8ef",
   "metadata": {},
   "outputs": [
    {
     "data": {
      "text/plain": [
       "'Bingo barks'"
      ]
     },
     "execution_count": 5,
     "metadata": {},
     "output_type": "execute_result"
    }
   ],
   "source": [
    "animal1.make_sound()"
   ]
  },
  {
   "cell_type": "code",
   "execution_count": 16,
   "id": "fc6dcc3b",
   "metadata": {},
   "outputs": [
    {
     "data": {
      "text/plain": [
       "'Rico eats'"
      ]
     },
     "execution_count": 16,
     "metadata": {},
     "output_type": "execute_result"
    }
   ],
   "source": [
    "animal1.eats()\n"
   ]
  },
  {
   "cell_type": "code",
   "execution_count": 4,
   "id": "15185d6f",
   "metadata": {},
   "outputs": [
    {
     "data": {
      "text/plain": [
       "' Bingo sleeps'"
      ]
     },
     "execution_count": 4,
     "metadata": {},
     "output_type": "execute_result"
    }
   ],
   "source": [
    "animal1.sleeps()"
   ]
  },
  {
   "cell_type": "code",
   "execution_count": 27,
   "id": "60dfda5d",
   "metadata": {},
   "outputs": [],
   "source": [
    "class Quadratic:\n",
    "    def __init__(self,a,b,c):\n",
    "        self.a=a\n",
    "        self.b=b\n",
    "        self.c=c\n",
    "    def discriminant(self):\n",
    "        return self.b**2-4*self.a*self.c\n",
    "    \n",
    "    def get_roots(self):\n",
    "        d = self.discriminant()\n",
    "        if d<0:\n",
    "            return \"The roots are imaginary\"\n",
    "        elif d==0:\n",
    "            x= -self.b/(2*self.a)\n",
    "            return x\n",
    "        else:\n",
    "            x1= (-self.b+(d)**0.5)/(2*self.a)\n",
    "            x2= (-self.b-(d)**0.5)/(2*self.a)\n",
    "            return x1,x2\n",
    "        \n",
    "    def __add__(self,other):\n",
    "        return f\"{self.a+other.a}x^2+{self.b+other.b}x+{self.c+other.c}\"\n",
    "    \n",
    "    def __add__(self,other):\n",
    "        return f\"{self.a+other.a}x^2+{self.b+other.b}x+{self.c+other.c}\"\n",
    "\n",
    "    def __repr__(self):\n",
    "        return f\"Quadratic({self.a},{self.b},{self.c})\"\n",
    "\n",
    "    def __str__(self):\n",
    "        return f\"{self.a}x^2+{self.b}x+{self.c}\""
   ]
  },
  {
   "cell_type": "code",
   "execution_count": 49,
   "id": "07bcfc55",
   "metadata": {},
   "outputs": [],
   "source": [
    "q1=Quadratic(1,5,6)\n",
    "q2=Quadratic(1,-4,4)"
   ]
  },
  {
   "cell_type": "code",
   "execution_count": 22,
   "id": "a8c23ff3",
   "metadata": {},
   "outputs": [
    {
     "data": {
      "text/plain": [
       "1"
      ]
     },
     "execution_count": 22,
     "metadata": {},
     "output_type": "execute_result"
    }
   ],
   "source": [
    "q1.discriminant()"
   ]
  },
  {
   "cell_type": "code",
   "execution_count": 23,
   "id": "8ce70dd0",
   "metadata": {},
   "outputs": [
    {
     "data": {
      "text/plain": [
       "(-2.0, -3.0)"
      ]
     },
     "execution_count": 23,
     "metadata": {},
     "output_type": "execute_result"
    }
   ],
   "source": [
    "q1.get_roots()"
   ]
  },
  {
   "cell_type": "code",
   "execution_count": 26,
   "id": "f1cffc5c",
   "metadata": {},
   "outputs": [
    {
     "data": {
      "text/plain": [
       "'2x^2+1x+10'"
      ]
     },
     "execution_count": 26,
     "metadata": {},
     "output_type": "execute_result"
    }
   ],
   "source": [
    "q1+q2"
   ]
  },
  {
   "cell_type": "code",
   "execution_count": 29,
   "id": "278769ce",
   "metadata": {},
   "outputs": [
    {
     "name": "stdout",
     "output_type": "stream",
     "text": [
      "1x^2+5x+6 and 1x^2+-4x+4\n"
     ]
    }
   ],
   "source": [
    "print(f\"{q1} and {q2}\")"
   ]
  },
  {
   "cell_type": "code",
   "execution_count": 48,
   "id": "0aa054ae",
   "metadata": {},
   "outputs": [],
   "source": [
    "class Quadratic:\n",
    "    def __init__(self,a,b,c):\n",
    "        self.a=a\n",
    "        self.b=b\n",
    "        self.c=c\n",
    "    def discriminant(self):\n",
    "        return self.b**2-4*self.a*self.c\n",
    "    \n",
    "    def get_roots(self):\n",
    "        d = self.discriminant()\n",
    "        if d<0:\n",
    "            return \"The roots are imaginary\"\n",
    "        elif d==0:\n",
    "            x= -self.b/(2*self.a)\n",
    "            return x\n",
    "        else:\n",
    "            x1= (-self.b+(d)**0.5)/(2*self.a)\n",
    "            x2= (-self.b-(d)**0.5)/(2*self.a)\n",
    "            return x1,x2\n",
    "        \n",
    "    def __add__(self,other):\n",
    "        return f\"{self.a+other.a}x^2+{self.b+other.b}x+{self.c+other.c}\"\n",
    "    \n",
    "    def __add__(self,other):\n",
    "        return f\"{self.a+other.a}x^2+{self.b+other.b}x+{self.c+other.c}\"\n",
    "\n",
    "    def __repr__(self):\n",
    "        return f\"Quadratic({self.a},{self.b},{self.c})\"\n",
    "\n",
    "    def __str__(self):\n",
    "        return f\"{self.a}x^2+{self.b}x+{self.c}\"\n",
    "\n",
    "    def __mul__(self,other):\n",
    "        return f\"{self.a*other.a}x^4 + {self.a*other.b+other.a*self.b}x^3 + {self.a*other.c+self.b*other.b+self.c*other.a}x^2 + {self.b*other.c+other.b*self.c}x + {self.c*other.c}\"\n",
    "    def __sub__(self,other):\n",
    "        return f\"{self.a-other.a}x^2+{self.b-other.b}x+{self.c-other.c}\"\n",
    "    def __pow__(self,other):\n",
    "        return f\"{(self.a+other.a)**2}x^2+{(self.b+other.b)**2}x+{(self.c+other.c)**2}\""
   ]
  },
  {
   "cell_type": "code",
   "execution_count": 38,
   "id": "851527c6",
   "metadata": {},
   "outputs": [
    {
     "data": {
      "text/plain": [
       "'1x^4 + 1x^3 + -10x^2 + -4x + 24'"
      ]
     },
     "execution_count": 38,
     "metadata": {},
     "output_type": "execute_result"
    }
   ],
   "source": [
    "q1*q2"
   ]
  },
  {
   "cell_type": "code",
   "execution_count": 44,
   "id": "9883445c",
   "metadata": {},
   "outputs": [
    {
     "data": {
      "text/plain": [
       "'0x^2+9x+2'"
      ]
     },
     "execution_count": 44,
     "metadata": {},
     "output_type": "execute_result"
    }
   ],
   "source": [
    "q1-q2"
   ]
  },
  {
   "cell_type": "code",
   "execution_count": null,
   "id": "2964a1a1",
   "metadata": {},
   "outputs": [],
   "source": []
  },
  {
   "cell_type": "code",
   "execution_count": null,
   "id": "7bf9a598",
   "metadata": {},
   "outputs": [],
   "source": []
  }
 ],
 "metadata": {
  "kernelspec": {
   "display_name": "Python 3 (ipykernel)",
   "language": "python",
   "name": "python3"
  },
  "language_info": {
   "codemirror_mode": {
    "name": "ipython",
    "version": 3
   },
   "file_extension": ".py",
   "mimetype": "text/x-python",
   "name": "python",
   "nbconvert_exporter": "python",
   "pygments_lexer": "ipython3",
   "version": "3.11.4"
  }
 },
 "nbformat": 4,
 "nbformat_minor": 5
}
