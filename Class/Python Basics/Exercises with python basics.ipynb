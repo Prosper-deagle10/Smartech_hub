{
 "cells": [
  {
   "cell_type": "markdown",
   "id": "b642e62a",
   "metadata": {},
   "source": [
    "# Exercise 1: Mailing Address\n",
    "\n",
    "# Create a program that displays your name and complete mailing address formatted in the manner that you would usually see it on the outside of an envelope. Your program does not need to read any input from the user."
   ]
  },
  {
   "cell_type": "code",
   "execution_count": 2,
   "id": "735cdd79",
   "metadata": {},
   "outputs": [
    {
     "name": "stdout",
     "output_type": "stream",
     "text": [
      "My name is Prosper Ezekiel:\n",
      "my email address is prosperousprosper100@gmail.com\n"
     ]
    }
   ],
   "source": [
    "my_name = \"Prosper Ezekiel\"\n",
    "my_email = 'prosperousprosper100@gmail.com'\n",
    "print(f\"My name is {my_name}:\\nmy email address is {my_email}\")"
   ]
  },
  {
   "cell_type": "markdown",
   "id": "b03d1db9",
   "metadata": {},
   "source": [
    "# Exercise 2: Hello\n",
    "\n",
    "# Write a program that asks the user to enter his or her name. The program should respond with a message that says hello to the user, using his or her name."
   ]
  },
  {
   "cell_type": "code",
   "execution_count": 3,
   "id": "57ca828f",
   "metadata": {},
   "outputs": [
    {
     "name": "stdout",
     "output_type": "stream",
     "text": [
      "Enter your name: Precious\n",
      "Hello, Precious\n"
     ]
    }
   ],
   "source": [
    "name = input(\"Enter your name: \")\n",
    "print(f\"Hello, {name}\")"
   ]
  },
  {
   "cell_type": "markdown",
   "id": "484c9df7",
   "metadata": {},
   "source": [
    "# Exercise 3: Area of a Room\n",
    "\n",
    "\n",
    "# Write a program that asks the user to enter the width and length of a room. Once the values have been read, your program should compute and display the area of the room. The length and the width will be entered as floating point numbers. Include units in your prompt and output message; either feet or meters, depending on which unit you are more comfortable working with."
   ]
  },
  {
   "cell_type": "code",
   "execution_count": 7,
   "id": "507f8465",
   "metadata": {},
   "outputs": [
    {
     "name": "stdout",
     "output_type": "stream",
     "text": [
      "Enter measured length: 12\n",
      "Enter measured width: 4\n",
      "48.0 Meters\n"
     ]
    }
   ],
   "source": [
    "length = float(input(\"Enter measured length: \"))\n",
    "width = float(input(\"Enter measured width: \"))\n",
    "Area = round(length * width,2)\n",
    "print(f\"{Area} Meters\")"
   ]
  },
  {
   "cell_type": "markdown",
   "id": "c5d66b04",
   "metadata": {},
   "source": [
    "# Exercise 4: Area of a Field\n",
    "\n",
    "# Create a program that reads the length and width of a farmer’s field from the user in feet. Display the area of the field in acres.\n",
    "## Hint: There are 43,560 square feet in an acre."
   ]
  },
  {
   "cell_type": "code",
   "execution_count": 24,
   "id": "ba9dba63",
   "metadata": {},
   "outputs": [
    {
     "name": "stdout",
     "output_type": "stream",
     "text": [
      "Enter length in feet: 10000\n",
      "Enter width in feet: 20000\n",
      "Area in feet: 200000000.0\n",
      "Area in acres: 4591.37\n"
     ]
    }
   ],
   "source": [
    "length = float(input(\"Enter length in feet: \"))\n",
    "width = float(input(\"Enter width in feet: \"))\n",
    "area = round(length * width,2)\n",
    "area_in_acres = round(area / 43560,2)\n",
    "print(f\"Area in feet: {area}\\nArea in acres: {area_in_acres}\")"
   ]
  },
  {
   "cell_type": "markdown",
   "id": "f60dcd5f",
   "metadata": {},
   "source": [
    "# Exercise 5: Bottle Deposits\n",
    "\n",
    "# In many jurisdictions a small deposit is added to drink containers to encourage people to recycle them. In one particular jurisdiction, drink containers holding one liter or less have a $0.10 deposit, and drink containers holding more than one liter have a $0.25 deposit. Write a program that reads the number of containers of each size from the user. Your program should continue by computing and displaying the refund that will be received for returning those containers. Format the output so that it includes a dollar sign and always displays exactly two decimal places."
   ]
  },
  {
   "cell_type": "code",
   "execution_count": 47,
   "id": "5f1c266c",
   "metadata": {},
   "outputs": [
    {
     "name": "stdout",
     "output_type": "stream",
     "text": [
      "Enter size of container less than one: 10\n",
      "Enter size of container more than one: 2\n",
      "Your refund is $1.5\n"
     ]
    }
   ],
   "source": [
    "less_than_one_liter = 0.10\n",
    "more_than_one_liter = 0.25\n",
    "\n",
    "liter_of_container1= float(input(\"Enter size of container less than one: \"))\n",
    "liter_of_container2= float(input(\"Enter size of container more than one: \"))\n",
    "refund = round(less_than_one_liter * liter_of_container1 + more_than_one_liter * liter_of_container2,2)\n",
    "print(f\"Your refund is ${refund}\")"
   ]
  },
  {
   "cell_type": "markdown",
   "id": "e7726eb9",
   "metadata": {},
   "source": [
    "# Exercise 6: Tax and Tip\n",
    "\n",
    "# The program that you create for this exercise will begin by reading the cost of a meal ordered at a restaurant from the user. Then your program will compute the tax and tip for the meal. Use your local tax rate when computing the amount of tax owing. Compute the tip as 18 percent of the meal amount (without the tax). The output from your program should include the tax amount, the tip amount, and the grand total for the meal including both the tax and the tip. Format the output so that all of the values are displayed using two decimal places."
   ]
  },
  {
   "cell_type": "code",
   "execution_count": 3,
   "id": "5403c5e6",
   "metadata": {},
   "outputs": [
    {
     "name": "stdout",
     "output_type": "stream",
     "text": [
      "Enter cost of meal: 5000\n",
      "272.22\n",
      "900.0\n",
      "6172.22\n"
     ]
    }
   ],
   "source": [
    "# Nigeria tax rate = 5% (0.05)\n",
    "cost=float(input(\"Enter cost of meal: \"))\n",
    "tax = round(0.0544444 * cost,2)\n",
    "tip = round(0.18 * cost,2)\n",
    "total = round(tip + tax + cost,2)\n",
    "print(tax)\n",
    "print(tip)\n",
    "print(total)"
   ]
  },
  {
   "cell_type": "markdown",
   "id": "64c9df99",
   "metadata": {},
   "source": [
    "# Exercise 7: Sum of the First n Positive Integers\n",
    "\n",
    "# Write a program that reads a positive integer, n, from the user and then displays the sum of all of the integers from 1 to n. The sum of the first n positive integers can be computed using the formula: sum = (n)(n + 1)/2"
   ]
  },
  {
   "cell_type": "code",
   "execution_count": 22,
   "id": "3e7a68f8",
   "metadata": {},
   "outputs": [
    {
     "name": "stdout",
     "output_type": "stream",
     "text": [
      "Enter an integer: 3\n",
      "the sum of first term is 9.5\n"
     ]
    }
   ],
   "source": [
    "n = int(input(\"Enter an integer: \"))\n",
    "sum_of_n= n*n+1/2\n",
    "print(f\"the sum of first term is {sum_of_n}\")"
   ]
  },
  {
   "cell_type": "markdown",
   "id": "259de735",
   "metadata": {},
   "source": [
    "# Exercise 8:Widgets and Gizmos\n",
    "\n",
    "\n",
    "# An online retailer sells two products: widgets and gizmos. Each widget weighs 75 grams. Each gizmo weighs 112 grams. Write a program that reads the number of widgets and the number of gizmos in an order from the user. Then your program should compute and display the total weight of the order."
   ]
  },
  {
   "cell_type": "code",
   "execution_count": 25,
   "id": "ae001076",
   "metadata": {},
   "outputs": [
    {
     "name": "stdout",
     "output_type": "stream",
     "text": [
      "Enter no of widgets: 2\n",
      "Enter no of gizmos: 4\n",
      "The total weights of order is 598.0 grams\n"
     ]
    }
   ],
   "source": [
    "widgets = 75\n",
    "gizmos = 112\n",
    "no_of_widgets = float(input(\"Enter no of widgets: \"))\n",
    "no_of_gizmos = float(input(\"Enter no of gizmos: \"))\n",
    "total_weights = no_of_widgets * widgets + gizmos * no_of_gizmos\n",
    "print(f\"The total weights of order is {total_weights} grams\")"
   ]
  },
  {
   "cell_type": "markdown",
   "id": "78e9000b",
   "metadata": {},
   "source": [
    "# Exercise 9: Compound Interest\n",
    "\n",
    "# Pretend that you have just opened a new savings account that earns 4 percent interest per year. The interest that you earn is paid at the end of the year, and is added to the balance of the savings account. Write a program that begins by reading the amount of money deposited into the account from the user. Then your program should compute and display the amount in the savings account after 1, 2, and 3 years. Display each amount so that it is rounded to 2 decimal places."
   ]
  },
  {
   "cell_type": "code",
   "execution_count": 29,
   "id": "6adc9f5e",
   "metadata": {},
   "outputs": [
    {
     "name": "stdout",
     "output_type": "stream",
     "text": [
      "Enter amount: 10000\n",
      "Your interest are: First year 10400.0\n",
      "Second year 10816.0\n",
      "Third year 11248.64\n"
     ]
    }
   ],
   "source": [
    "amt = float(input(\"Enter amount: \"))\n",
    "rate = 0.04\n",
    "first_year = round((1+rate)*amt,2)\n",
    "second_year = round((1+rate)*first_year,2)\n",
    "third_year = round((1+rate)*second_year,2)\n",
    "print(f\"Your interest are: First year {first_year}\\nSecond year {second_year}\\nThird year {third_year}\")"
   ]
  },
  {
   "cell_type": "code",
   "execution_count": 31,
   "id": "7a2e68e7",
   "metadata": {},
   "outputs": [
    {
     "name": "stdout",
     "output_type": "stream",
     "text": [
      "Enter amount: 12000\n",
      "12480.0\n",
      "12979.2\n",
      "13498.37\n"
     ]
    }
   ],
   "source": [
    "amt = float(input(\"Enter amount: \"))\n",
    "rate = 0.04\n",
    "for i in range(1,4):\n",
    "    amt = round(amt *(1+rate),2)\n",
    "    print(amt)"
   ]
  },
  {
   "cell_type": "markdown",
   "id": "89225eca",
   "metadata": {},
   "source": [
    "# Exercise 10: Arithmetic\n",
    "\n",
    "# Create a program that reads two integers, a and b, from the user. Your program should compute and display:\n",
    "# • The sum of a and b\n",
    "# • The difference when b is subtracted from a\n",
    "# • The product of a and b\n",
    "# • The quotient when a is divided by b\n",
    "# • The remainder when a is divided by b\n",
    "# • The result of log10 a\n",
    "# • The result of ab"
   ]
  },
  {
   "cell_type": "code",
   "execution_count": 33,
   "id": "f5a6bd76",
   "metadata": {},
   "outputs": [
    {
     "name": "stdout",
     "output_type": "stream",
     "text": [
      "Enter a number for A: 10\n",
      "Enter a number for B: 20\n",
      "Adddition: 30\n",
      "Substitution: 10\n",
      "Product: 200\n",
      "Quotient: 0.5\n",
      "Log: 1.0\n",
      "Reminder: 10\n",
      "Power: 100000000000000000000\n"
     ]
    }
   ],
   "source": [
    "import math as mth\n",
    "a = int(input(\"Enter a number for A: \"))\n",
    "b = int(input(\"Enter a number for B: \"))\n",
    "addition = a + b\n",
    "sub = b-a\n",
    "product = a*b\n",
    "quotient = a/b\n",
    "reminder = a % b\n",
    "log = mth.log10(a)\n",
    "power = a**b\n",
    "print(f\"Adddition: {addition}\\nSubstitution: {sub}\\nProduct: {product}\\nQuotient: {quotient}\\nLog: {log}\\nReminder: {reminder}\\nPower: {power}\")"
   ]
  },
  {
   "cell_type": "markdown",
   "id": "81562488",
   "metadata": {},
   "source": [
    "# Exercise 11: Fuel Efficiency\n",
    "\n",
    "\n",
    "# In the United States, fuel efficiency for vehicles is normally expressed in miles-per-gallon (MPG). In Canada, fuel efficiency is normally expressed in liters-per-hundred kilometers (L/100 km). Use your research skills to determine how to convert from MPG to L/100 km. Then create a program that reads a value from the user in American units and displays the equivalent fuel efficiency in Canadian units."
   ]
  },
  {
   "cell_type": "code",
   "execution_count": 36,
   "id": "867cbb91",
   "metadata": {},
   "outputs": [
    {
     "name": "stdout",
     "output_type": "stream",
     "text": [
      "Enter a value in American units: 100\n",
      "The price equivalent in Canadian unit is 23521.5L/100Km\n"
     ]
    }
   ],
   "source": [
    "# 1 MPG = 235.215 L/100KM\n",
    "value = float(input(\"Enter a value in American units: \"))\n",
    "price_equivalent = round((value*235.215),2)\n",
    "print(f\"The price equivalent in Canadian unit is {price_equivalent}L/100Km\")"
   ]
  },
  {
   "cell_type": "markdown",
   "id": "66a4d64c",
   "metadata": {},
   "source": [
    "# Exercise 12: Distance Between Two Points on Earth\n",
    "\n",
    "# The surface of the Earth is curved, and the distance between degrees of longitude varies with latitude. As a result, finding the distance between two points on the surface of the Earth is more complicated than simply using the Pythagorean theorem. Let (t1, g1) and (t2, g2) be the latitude and longitude of two points on the Earth’s surface. The distance between these points, following the surface of the Earth, in kilometers is: distance = 6371.01 × arccos(sin(t1) × sin(t2) + cos(t1) × cos(t2) × cos(g1 − g2)) \n",
    "\n",
    "## The value 6371.01 in the previous equation wasn’t selected at random. It is the average radius of the Earth in kilometers. Create a program that allows the user to enter the latitude and longitude of two points on the Earth in degrees. Your program should display the distance between the points, following the surface of the earth, in kilometers.\n",
    "\n",
    "### Hint: Python’s trigonometric functions operate in radians. As a result, you will need to convert the user’s input from degrees to radians before computing the distance with the formula discussed previously. The math module contains a function named radians which converts from degrees to radians."
   ]
  },
  {
   "cell_type": "code",
   "execution_count": 56,
   "id": "9b789c3a",
   "metadata": {},
   "outputs": [
    {
     "name": "stdout",
     "output_type": "stream",
     "text": [
      "Enter value for t1: 2\n",
      "Enter value for t2: 3\n",
      "Enter value for g1: 4\n",
      "Enter value for g2: 5\n",
      "7723.245686581346\n"
     ]
    }
   ],
   "source": [
    "import math as mth\n",
    "t1 = float(input(\"Enter value for t1: \"))\n",
    "t2 = float(input(\"Enter value for t2: \"))\n",
    "g1 = float(input(\"Enter value for g1: \"))\n",
    "g2 = float(input(\"Enter value for g2: \"))\n",
    "distance = 6371.01 * mth.acos(mth.sin(t1) * mth.sin(t2) + mth.cos(t1) * mth.cos(t2) * mth.cos(g1-g2))\n",
    "print(distance)"
   ]
  },
  {
   "cell_type": "markdown",
   "id": "869d7288",
   "metadata": {},
   "source": [
    "# Exercise 13: Making Change\n",
    "\n",
    "# Consider the software that runs on a self-checkout machine. One task that it must be able to perform is to determine how much change to provide when the shopper pays for a purchase with cash. Write a program that begins by reading a number of cents from the user as an integer. Then your program should compute and display the denominations of the coins that should be used to give that amount of change to the shopper. The change should be given using as few coins as possible. Assume that the machine is loaded with pennies, nickels, dimes, quarters, loonies and toonies. \n",
    "\n",
    "## A one dollar coin was introduced in Canada in 1987. It is referred to as a loonie because one side of the coin has a loon (a type of bird) on it. The two dollar coin, referred to as a toonie, was introduced 9 years later. It’s name is derived from the combination of the number two and the name of the loonie."
   ]
  },
  {
   "cell_type": "code",
   "execution_count": null,
   "id": "03f4ddc4",
   "metadata": {},
   "outputs": [],
   "source": []
  },
  {
   "cell_type": "markdown",
   "id": "ea48762a",
   "metadata": {},
   "source": [
    "# Exercise 14: Height Units\n",
    "\n",
    "# Many people think about their height in feet and inches, even in some countries that primarily use the metric system. Write a program that reads a number of feet from the user, followed by a number of inches. Once these values are read, your program should compute and display the equivalent number of centimeters.\n",
    "### Hint: One foot is 12 inches. One inch is 2.54 centimeters."
   ]
  },
  {
   "cell_type": "code",
   "execution_count": 45,
   "id": "c99c406d",
   "metadata": {},
   "outputs": [
    {
     "name": "stdout",
     "output_type": "stream",
     "text": [
      "Enter height in foot: 6\n",
      "Enter height in inches: 7\n",
      "The equivalent number of height in centimeters is 35.56cm\n"
     ]
    }
   ],
   "source": [
    "feet = float(input(\"Enter height in foot: \"))\n",
    "inches =float(input(\"Enter height in inches: \"))\n",
    "# converting to inches. \n",
    "inch = (12*inches)/feet\n",
    "# converting to centimeters\n",
    "centimeters = 2.54 * inch\n",
    "print(f\"The equivalent number of height in centimeters is {centimeters}cm\")"
   ]
  },
  {
   "cell_type": "markdown",
   "id": "42c82549",
   "metadata": {},
   "source": [
    "# Exercise 15: Distance Units\n",
    "\n",
    "# In this exercise, you will create a program that begins by reading a measurement in feet from the user. Then your program should display the equivalent distance in inches, yards and miles. Use the Internet to look up the necessary conversion factors if you don’t have them memorized."
   ]
  },
  {
   "cell_type": "code",
   "execution_count": 50,
   "id": "eaff542f",
   "metadata": {},
   "outputs": [
    {
     "name": "stdout",
     "output_type": "stream",
     "text": [
      "Enter measurement in feet: 120\n",
      "The length is as follows:\n",
      "Inch: 1440.0\n",
      "Yard: 40.03\n",
      "Mile: 0.02\n"
     ]
    }
   ],
   "source": [
    "# 1 foot = 12 inch, 1 inch = 0.0278yards, 1yard = 0.000586 miles\n",
    "length = float(input(\"Enter measurement in feet: \"))\n",
    "inch = round(length * 12,2)\n",
    "yard = round(inch * 0.0278,2)\n",
    "mile = round(yard * 0.000586,2)\n",
    "print(f\"The length is as follows:\\nInch: {inch}\\nYard: {yard}\\nMile: {mile}\")"
   ]
  },
  {
   "cell_type": "markdown",
   "id": "330ed640",
   "metadata": {},
   "source": [
    "# Exercise 16: Area and Volume\n",
    "\n",
    "# Write a program that begins by reading a radius, r, from the user. The program will continue by computing and displaying the area of a circle with radius r and the volume of a sphere with radius r. Use the pi constant in the math module in your calculations.\n",
    "### Hint: The area of a circle is computed using the formula area = πr 2. The volume of a sphere is computed using the formula volume = (4/3)πr 3."
   ]
  },
  {
   "cell_type": "code",
   "execution_count": 11,
   "id": "7e471e6f",
   "metadata": {},
   "outputs": [
    {
     "name": "stdout",
     "output_type": "stream",
     "text": [
      "Enter value of radius: 4\n",
      "The Area is :50.27\n",
      "The Volume is: 268.08\n"
     ]
    }
   ],
   "source": [
    "import math as mth\n",
    "r = float(input(\"Enter value of radius: \"))\n",
    "area = round(mth.pi*r**2,2)\n",
    "volume = round((4/3)*mth.pi*r**3,2)\n",
    "print(f\"The Area is :{area}\\nThe Volume is: {volume}\")"
   ]
  },
  {
   "cell_type": "markdown",
   "id": "8d46360c",
   "metadata": {},
   "source": [
    "# Exercise 17: Heat Capacity"
   ]
  },
  {
   "cell_type": "code",
   "execution_count": 6,
   "id": "63ca7b8a",
   "metadata": {},
   "outputs": [
    {
     "name": "stdout",
     "output_type": "stream",
     "text": [
      "Enter mass: 10\n",
      "Enter temperature: 120\n",
      " the value for q is 5023.2\n",
      "The cost of electricity is 0.0016\n"
     ]
    }
   ],
   "source": [
    "# 1 joule equals 2.7778**-7kwh. \n",
    "m = float(input(\"Enter mass: \"))\n",
    "temp_change = float(input(\"Enter temperature: \"))\n",
    "C = 4.186\n",
    "q = round(m * C * temp_change,2)\n",
    "electricity_cost = round((q * 8.9)/2.7778*10**-7,4)\n",
    "print(f\" the value for q is {q}\")\n",
    "print(f\"The cost of electricity is {electricity_cost}\")\n"
   ]
  },
  {
   "cell_type": "markdown",
   "id": "f2080f40",
   "metadata": {},
   "source": [
    "# Exercise 18:Volume of a Cylinder\n",
    "\n",
    "# The volume of a cylinder can be computed by multiplying the area of its circular base by its height. Write a program that reads the radius of the cylinder, along with its height, from the user and computes its volume. Display the result rounded to one decimal place."
   ]
  },
  {
   "cell_type": "code",
   "execution_count": 54,
   "id": "014e7df1",
   "metadata": {
    "scrolled": true
   },
   "outputs": [
    {
     "name": "stdout",
     "output_type": "stream",
     "text": [
      "Enter radius: 12\n",
      "Enter height: 10.4\n",
      "124.8\n"
     ]
    }
   ],
   "source": [
    "radius = float(input(\"Enter radius: \"))\n",
    "height = float(input(\"Enter height: \"))\n",
    "volume = round(radius*height,2)\n",
    "print(volume)"
   ]
  },
  {
   "cell_type": "code",
   "execution_count": null,
   "id": "1247eb8c",
   "metadata": {},
   "outputs": [],
   "source": []
  }
 ],
 "metadata": {
  "kernelspec": {
   "display_name": "Python 3 (ipykernel)",
   "language": "python",
   "name": "python3"
  },
  "language_info": {
   "codemirror_mode": {
    "name": "ipython",
    "version": 3
   },
   "file_extension": ".py",
   "mimetype": "text/x-python",
   "name": "python",
   "nbconvert_exporter": "python",
   "pygments_lexer": "ipython3",
   "version": "3.11.4"
  }
 },
 "nbformat": 4,
 "nbformat_minor": 5
}
