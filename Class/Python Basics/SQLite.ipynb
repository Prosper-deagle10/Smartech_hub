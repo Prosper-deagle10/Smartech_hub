{
 "cells": [
  {
   "cell_type": "code",
   "execution_count": 20,
   "id": "f84abc30",
   "metadata": {},
   "outputs": [],
   "source": [
    "# there are two classes of database.\n",
    "# Relational database and non-relational database. Relational database work with Structured Query Language.\n",
    "# We use what is called records, records are made of tables, tables -record, record - fields, fields -characters, characters are made up of bits\n",
    "# foreign keys are used in linking tables. Foreign keys are unique because they are used to link one or more tables,primary keys have no unique featuures.\n",
    "\n",
    "import sqlite3 as sqlite\n",
    "connection = sqlite.connect(\"studentss.db\")\n",
    "connection.execute(\"CREATE TABLE students(mat TEXT, age INT, name TEXT)\")\n",
    "connection.close()\n"
   ]
  },
  {
   "cell_type": "code",
   "execution_count": 21,
   "id": "a55f1de5",
   "metadata": {},
   "outputs": [],
   "source": [
    "conn = sqlite.connect(\"studentss.db\")\n",
    "conn.execute('INSERT INTO students (mat, age, name) VALUES (\"U2016/5735092\", 25, \"John Doe\")')\n",
    "conn.commit()\n",
    "conn.close()"
   ]
  },
  {
   "cell_type": "code",
   "execution_count": 22,
   "id": "62c1d0cf",
   "metadata": {},
   "outputs": [
    {
     "name": "stdout",
     "output_type": "stream",
     "text": [
      "<sqlite3.Cursor object at 0x0000023697F240C0>\n",
      "('U2016/5735092', 25, 'John Doe')\n"
     ]
    }
   ],
   "source": [
    "conn = sqlite.connect(\"studentss.db\")\n",
    "curs = conn.cursor()\n",
    "content = curs.execute(\"SELECT * FROM students\")\n",
    "print(content)\n",
    "for record in content:\n",
    "    print(record)\n",
    "conn.close()"
   ]
  },
  {
   "cell_type": "code",
   "execution_count": 28,
   "id": "73829d9c",
   "metadata": {},
   "outputs": [],
   "source": [
    "conn = sqlite.connect(\"statess.db\")\n",
    "conn.execute (\"CREATE TABLE states (state TEXT PRIMARY KEY, count INT NOT NULL)\")\n",
    "\n",
    "conn.close()\n"
   ]
  },
  {
   "cell_type": "code",
   "execution_count": 33,
   "id": "6da5f92b",
   "metadata": {},
   "outputs": [],
   "source": [
    "conn = sqlite.connect(\"statess.db\")\n",
    "conn.execute('INSERT INTO states (state, count) VALUES(\"Abia\", \"45\")')\n",
    "conn.commit()\n",
    "conn.close()"
   ]
  },
  {
   "cell_type": "code",
   "execution_count": 3,
   "id": "aa9943fb",
   "metadata": {},
   "outputs": [],
   "source": [
    "import sqlite3 as sqlite\n",
    "conn = sqlite.connect(\"bank_account.db\")\n",
    "conn.execute('CREATE TABLE bank_account(name TEXT, age INT, address TEXT)')\n",
    "conn.close()"
   ]
  },
  {
   "cell_type": "code",
   "execution_count": 4,
   "id": "cca2d526",
   "metadata": {},
   "outputs": [],
   "source": [
    "conn = sqlite.connect(\"bank_account.db\")\n",
    "conn.execute('INSERT INTO bank_account(name, age, address) VALUES (\"Eze\", \"30\", \"Abuja\")')\n",
    "conn.commit()\n",
    "conn.close()"
   ]
  },
  {
   "cell_type": "code",
   "execution_count": 5,
   "id": "968e5cb2",
   "metadata": {},
   "outputs": [
    {
     "name": "stdout",
     "output_type": "stream",
     "text": [
      "<sqlite3.Cursor object at 0x00000265F078DD40>\n",
      "('Eze', 30, 'Abuja')\n"
     ]
    }
   ],
   "source": [
    "conn = sqlite.connect(\"bank_account.db\")\n",
    "curs = conn.cursor()\n",
    "stuff = curs.execute(\"SELECT * FROM bank_account\")\n",
    "print(stuff)\n",
    "for record in stuff:\n",
    "    print(record)\n",
    "conn.close()"
   ]
  },
  {
   "cell_type": "code",
   "execution_count": 9,
   "id": "c1feb4d8",
   "metadata": {},
   "outputs": [
    {
     "ename": "OperationalError",
     "evalue": "table class already exists",
     "output_type": "error",
     "traceback": [
      "\u001b[1;31m---------------------------------------------------------------------------\u001b[0m",
      "\u001b[1;31mOperationalError\u001b[0m                          Traceback (most recent call last)",
      "Cell \u001b[1;32mIn[9], line 3\u001b[0m\n\u001b[0;32m      1\u001b[0m \u001b[38;5;28;01mimport\u001b[39;00m \u001b[38;5;21;01msqlite3\u001b[39;00m \u001b[38;5;28;01mas\u001b[39;00m \u001b[38;5;21;01msqlite\u001b[39;00m\n\u001b[0;32m      2\u001b[0m conn \u001b[38;5;241m=\u001b[39m sqlite\u001b[38;5;241m.\u001b[39mconnect(\u001b[38;5;124m\"\u001b[39m\u001b[38;5;124mclasslists.db\u001b[39m\u001b[38;5;124m\"\u001b[39m)\n\u001b[1;32m----> 3\u001b[0m conn\u001b[38;5;241m.\u001b[39mexecute(\u001b[38;5;124m\"\u001b[39m\u001b[38;5;124mCREATE TABLE class (name TEXT, age INT, gender TEXT)\u001b[39m\u001b[38;5;124m\"\u001b[39m)\n\u001b[0;32m      4\u001b[0m conn\u001b[38;5;241m.\u001b[39mclose()\n",
      "\u001b[1;31mOperationalError\u001b[0m: table class already exists"
     ]
    }
   ],
   "source": [
    "import sqlite3 as sqlite\n",
    "conn = sqlite.connect(\"classlists.db\")\n",
    "conn.execute(\"CREATE TABLE class (name TEXT, age INT, gender TEXT)\")\n",
    "conn.close()"
   ]
  },
  {
   "cell_type": "code",
   "execution_count": 10,
   "id": "1f48e1a4",
   "metadata": {},
   "outputs": [],
   "source": [
    "conn = sqlite.connect(\"classlist.db\")\n",
    "conn.execute('INSERT INTO class (name, age, gender) VALUES (\"Blessing\", 20, \"female\")')\n",
    "conn.commit()\n",
    "conn.close()"
   ]
  },
  {
   "cell_type": "code",
   "execution_count": 11,
   "id": "d5fca359",
   "metadata": {},
   "outputs": [
    {
     "name": "stdout",
     "output_type": "stream",
     "text": [
      "<sqlite3.Cursor object at 0x0000021FE0891940>\n",
      "(20,)\n"
     ]
    }
   ],
   "source": [
    "conn = sqlite.connect(\"classlist.db\")\n",
    "curs = conn.cursor()\n",
    "content = curs.execute(\"SELECT age from class\")\n",
    "print(content)\n",
    "for i in content:\n",
    "    print(i)\n",
    "conn.close()"
   ]
  },
  {
   "cell_type": "code",
   "execution_count": 12,
   "id": "6be4ba2b",
   "metadata": {},
   "outputs": [
    {
     "name": "stdout",
     "output_type": "stream",
     "text": [
      "<sqlite3.Cursor object at 0x0000021FE089F4C0>\n",
      "('Blessing', 20, 'female')\n"
     ]
    }
   ],
   "source": [
    "conn = sqlite.connect(\"classlist.db\")\n",
    "curs = conn.cursor()\n",
    "content = curs.execute(\"SELECT * from class\")\n",
    "print(content)\n",
    "for i in content:\n",
    "    print(i)\n",
    "conn.close()"
   ]
  },
  {
   "cell_type": "code",
   "execution_count": 13,
   "id": "bfe07f40",
   "metadata": {},
   "outputs": [],
   "source": [
    "conn = sqlite.connect(\"classlist.db\")\n",
    "conn.execute('INSERT INTO class (name, age, gender) VALUES (\"John\", 25, \"Male\")')\n",
    "conn.commit()\n",
    "conn.close()"
   ]
  },
  {
   "cell_type": "code",
   "execution_count": 14,
   "id": "641c9dc9",
   "metadata": {},
   "outputs": [
    {
     "name": "stdout",
     "output_type": "stream",
     "text": [
      "<sqlite3.Cursor object at 0x0000021FE083BE40>\n",
      "('Blessing', 20, 'female')\n",
      "('John', 25, 'Male')\n"
     ]
    }
   ],
   "source": [
    "conn = sqlite.connect(\"classlist.db\")\n",
    "curs = conn.cursor()\n",
    "content = curs.execute(\"SELECT * from class\")\n",
    "print(content)\n",
    "for i in content:\n",
    "    print(i)\n",
    "conn.close()"
   ]
  },
  {
   "cell_type": "code",
   "execution_count": 15,
   "id": "34503b8a",
   "metadata": {},
   "outputs": [],
   "source": [
    "conn = sqlite.connect(\"classlist.db\")\n",
    "conn.execute('INSERT INTO class (name, age, gender) VALUES (\"Mary\", 24, \"female\")')\n",
    "conn.commit()\n",
    "conn.close()"
   ]
  },
  {
   "cell_type": "code",
   "execution_count": 16,
   "id": "475c23cf",
   "metadata": {},
   "outputs": [],
   "source": [
    "conn = sqlite.connect(\"classlist.db\")\n",
    "conn.execute('INSERT INTO class (name, age, gender) VALUES (\"Steven\", 21, \"Male\")')\n",
    "conn.commit()\n",
    "conn.close()"
   ]
  },
  {
   "cell_type": "code",
   "execution_count": 17,
   "id": "8eee2c84",
   "metadata": {
    "scrolled": true
   },
   "outputs": [
    {
     "name": "stdout",
     "output_type": "stream",
     "text": [
      "<sqlite3.Cursor object at 0x0000021FE089C5C0>\n",
      "('Blessing',)\n",
      "('John',)\n",
      "('Mary',)\n",
      "('Steven',)\n"
     ]
    }
   ],
   "source": [
    "conn = sqlite.connect(\"classlist.db\")\n",
    "curs = conn.cursor()\n",
    "content = curs.execute(\"SELECT name from class\")\n",
    "print(content)\n",
    "for i in content:\n",
    "    print(i)\n",
    "conn.close()"
   ]
  },
  {
   "cell_type": "code",
   "execution_count": 18,
   "id": "005dd27f",
   "metadata": {},
   "outputs": [
    {
     "name": "stdout",
     "output_type": "stream",
     "text": [
      "<sqlite3.Cursor object at 0x0000021FE089F5C0>\n",
      "('Blessing', 20, 'female')\n",
      "('John', 25, 'Male')\n",
      "('Mary', 24, 'female')\n",
      "('Steven', 21, 'Male')\n"
     ]
    }
   ],
   "source": [
    "conn = sqlite.connect(\"classlist.db\")\n",
    "curs = conn.cursor()\n",
    "content = curs.execute(\"SELECT * from class\")\n",
    "print(content)\n",
    "for i in content:\n",
    "    print(i)\n",
    "conn.close()"
   ]
  },
  {
   "cell_type": "code",
   "execution_count": null,
   "id": "891ed0b4",
   "metadata": {},
   "outputs": [],
   "source": []
  }
 ],
 "metadata": {
  "kernelspec": {
   "display_name": "Python 3 (ipykernel)",
   "language": "python",
   "name": "python3"
  },
  "language_info": {
   "codemirror_mode": {
    "name": "ipython",
    "version": 3
   },
   "file_extension": ".py",
   "mimetype": "text/x-python",
   "name": "python",
   "nbconvert_exporter": "python",
   "pygments_lexer": "ipython3",
   "version": "3.11.4"
  }
 },
 "nbformat": 4,
 "nbformat_minor": 5
}
