{
 "cells": [
  {
   "cell_type": "markdown",
   "id": "10231a4b",
   "metadata": {},
   "source": [
    "# Files and exception handling."
   ]
  },
  {
   "cell_type": "code",
   "execution_count": 4,
   "id": "0dae9a11",
   "metadata": {},
   "outputs": [],
   "source": [
    "file = open(\"the first.txt\", \"w\")\n",
    "file.write(\"This is the first file.\")\n",
    "file.close()"
   ]
  },
  {
   "cell_type": "code",
   "execution_count": 7,
   "id": "bc94a9be",
   "metadata": {},
   "outputs": [],
   "source": [
    "file = open(\"the first.txt\", \"a\")\n",
    "file.write(\"\\n Today is another day\")\n",
    "file.close()"
   ]
  },
  {
   "cell_type": "code",
   "execution_count": 8,
   "id": "c400adb7",
   "metadata": {},
   "outputs": [
    {
     "name": "stdout",
     "output_type": "stream",
     "text": [
      "This is the first file.\n",
      " Today is another day\n"
     ]
    }
   ],
   "source": [
    "file = open(\"the first.txt\", \"r\")\n",
    "content=file.read()\n",
    "file.close()\n",
    "print(content)"
   ]
  },
  {
   "cell_type": "code",
   "execution_count": 9,
   "id": "91bea0d0",
   "metadata": {},
   "outputs": [
    {
     "name": "stdout",
     "output_type": "stream",
     "text": [
      "Enter the name of the input file: the first.txt\n",
      "Enter the name of the output file: the second.txt\n"
     ]
    }
   ],
   "source": [
    "input_file_name=input(\"Enter the name of the input file: \")\n",
    "output_file_name = input(\"Enter the name of the output file: \")\n",
    "input_file=open(input_file_name, \"r\")\n",
    "content=input_file.readlines()\n",
    "input_file.close()\n",
    "output_file=open(output_file_name, \"w\")\n",
    "line_number=1\n",
    "for line in content:\n",
    "    output_file.write(f\" {line_number}: {line}\")\n",
    "    line_number +=1\n",
    "output_file.close()"
   ]
  },
  {
   "cell_type": "code",
   "execution_count": 5,
   "id": "53992f5e",
   "metadata": {},
   "outputs": [],
   "source": [
    "file3 = open(\"File3.doc\", \"w\")\n",
    "file3.write(\"My name is Prosper.\" )\n",
    "file3.close()"
   ]
  },
  {
   "cell_type": "code",
   "execution_count": 9,
   "id": "f0c3b750",
   "metadata": {},
   "outputs": [],
   "source": [
    "file3 = open(\"File3.doc\", \"a\")\n",
    "file3.write(\"\\nMy name is Prosper Ezekiel.\" )\n",
    "file3.close()"
   ]
  },
  {
   "cell_type": "code",
   "execution_count": 11,
   "id": "3c30c1f0",
   "metadata": {},
   "outputs": [
    {
     "ename": "FileNotFoundError",
     "evalue": "[Errno 2] No such file or directory: 'File3.docr'",
     "output_type": "error",
     "traceback": [
      "\u001b[1;31m---------------------------------------------------------------------------\u001b[0m",
      "\u001b[1;31mFileNotFoundError\u001b[0m                         Traceback (most recent call last)",
      "Cell \u001b[1;32mIn[11], line 1\u001b[0m\n\u001b[1;32m----> 1\u001b[0m file3 \u001b[38;5;241m=\u001b[39m \u001b[38;5;28mopen\u001b[39m(\u001b[38;5;124m\"\u001b[39m\u001b[38;5;124mFile3.doc\u001b[39m\u001b[38;5;124m\"\u001b[39m \u001b[38;5;124m\"\u001b[39m\u001b[38;5;124mr\u001b[39m\u001b[38;5;124m\"\u001b[39m)\n\u001b[0;32m      2\u001b[0m content \u001b[38;5;241m=\u001b[39m file3\u001b[38;5;241m.\u001b[39mread()\n\u001b[0;32m      3\u001b[0m file3\u001b[38;5;241m.\u001b[39mclose()\n",
      "File \u001b[1;32m~\\anaconda3\\Lib\\site-packages\\IPython\\core\\interactiveshell.py:284\u001b[0m, in \u001b[0;36m_modified_open\u001b[1;34m(file, *args, **kwargs)\u001b[0m\n\u001b[0;32m    277\u001b[0m \u001b[38;5;28;01mif\u001b[39;00m file \u001b[38;5;129;01min\u001b[39;00m {\u001b[38;5;241m0\u001b[39m, \u001b[38;5;241m1\u001b[39m, \u001b[38;5;241m2\u001b[39m}:\n\u001b[0;32m    278\u001b[0m     \u001b[38;5;28;01mraise\u001b[39;00m \u001b[38;5;167;01mValueError\u001b[39;00m(\n\u001b[0;32m    279\u001b[0m         \u001b[38;5;124mf\u001b[39m\u001b[38;5;124m\"\u001b[39m\u001b[38;5;124mIPython won\u001b[39m\u001b[38;5;124m'\u001b[39m\u001b[38;5;124mt let you open fd=\u001b[39m\u001b[38;5;132;01m{\u001b[39;00mfile\u001b[38;5;132;01m}\u001b[39;00m\u001b[38;5;124m by default \u001b[39m\u001b[38;5;124m\"\u001b[39m\n\u001b[0;32m    280\u001b[0m         \u001b[38;5;124m\"\u001b[39m\u001b[38;5;124mas it is likely to crash IPython. If you know what you are doing, \u001b[39m\u001b[38;5;124m\"\u001b[39m\n\u001b[0;32m    281\u001b[0m         \u001b[38;5;124m\"\u001b[39m\u001b[38;5;124myou can use builtins\u001b[39m\u001b[38;5;124m'\u001b[39m\u001b[38;5;124m open.\u001b[39m\u001b[38;5;124m\"\u001b[39m\n\u001b[0;32m    282\u001b[0m     )\n\u001b[1;32m--> 284\u001b[0m \u001b[38;5;28;01mreturn\u001b[39;00m io_open(file, \u001b[38;5;241m*\u001b[39margs, \u001b[38;5;241m*\u001b[39m\u001b[38;5;241m*\u001b[39mkwargs)\n",
      "\u001b[1;31mFileNotFoundError\u001b[0m: [Errno 2] No such file or directory: 'File3.docr'"
     ]
    }
   ],
   "source": [
    "file3 = open(\"File3.doc\" \"r\")\n",
    "content = file3.read()\n",
    "file3.close()\n",
    "print(content)"
   ]
  },
  {
   "cell_type": "markdown",
   "id": "5bb1e8af",
   "metadata": {},
   "source": [
    "# Eception Handling"
   ]
  },
  {
   "cell_type": "code",
   "execution_count": 10,
   "id": "bad34bc1",
   "metadata": {},
   "outputs": [
    {
     "name": "stdout",
     "output_type": "stream",
     "text": [
      "Enter a number: 20\n",
      "Enter a number: 10\n"
     ]
    },
    {
     "ename": "TypeError",
     "evalue": "unsupported operand type(s) for /: 'str' and 'str'",
     "output_type": "error",
     "traceback": [
      "\u001b[1;31m---------------------------------------------------------------------------\u001b[0m",
      "\u001b[1;31mTypeError\u001b[0m                                 Traceback (most recent call last)",
      "Cell \u001b[1;32mIn[10], line 3\u001b[0m\n\u001b[0;32m      1\u001b[0m num \u001b[38;5;241m=\u001b[39m \u001b[38;5;28minput\u001b[39m(\u001b[38;5;124m\"\u001b[39m\u001b[38;5;124mEnter a number: \u001b[39m\u001b[38;5;124m\"\u001b[39m)\n\u001b[0;32m      2\u001b[0m den \u001b[38;5;241m=\u001b[39m \u001b[38;5;28minput\u001b[39m(\u001b[38;5;124m\"\u001b[39m\u001b[38;5;124mEnter a number: \u001b[39m\u001b[38;5;124m\"\u001b[39m)\n\u001b[1;32m----> 3\u001b[0m result \u001b[38;5;241m=\u001b[39m num\u001b[38;5;241m/\u001b[39mden\n\u001b[0;32m      4\u001b[0m \u001b[38;5;28mprint\u001b[39m(result)\n",
      "\u001b[1;31mTypeError\u001b[0m: unsupported operand type(s) for /: 'str' and 'str'"
     ]
    }
   ],
   "source": [
    "num = input(\"Enter a number: \")\n",
    "den = input(\"Enter a number: \")\n",
    "result = num/den\n",
    "print(result)"
   ]
  },
  {
   "cell_type": "code",
   "execution_count": 11,
   "id": "e34731b3",
   "metadata": {},
   "outputs": [
    {
     "name": "stdout",
     "output_type": "stream",
     "text": [
      "Enter a number: 23\n",
      "Enter a number: 12\n",
      "We are good\n",
      "1.9166666666666667\n",
      "No error\n"
     ]
    }
   ],
   "source": [
    "try:\n",
    "    num = float(input(\"Enter a number: \"))\n",
    "    den = float(input(\"Enter a number: \"))\n",
    "    result = num/den\n",
    "except:\n",
    "    print(\"Check your input\")\n",
    "else:\n",
    "    print(\"We are good\")\n",
    "    print(result)\n",
    "finally:\n",
    "    print(\"No error\")\n",
    "    "
   ]
  },
  {
   "cell_type": "code",
   "execution_count": 15,
   "id": "31d1716a",
   "metadata": {},
   "outputs": [
    {
     "name": "stdout",
     "output_type": "stream",
     "text": [
      "Enter a number: 12\n",
      "Enter a number: e\n",
      "Check your input\n",
      "No error\n"
     ]
    }
   ],
   "source": [
    "try:\n",
    "    num = float(input(\"Enter a number: \"))\n",
    "    den = float(input(\"Enter a number: \"))\n",
    "    result = num/den\n",
    "except ValueError:\n",
    "    print(\"Check your input\")\n",
    "except ZeroDivisionError:\n",
    "    print(\"Nothing\")\n",
    "else:\n",
    "    print(\"We are good\")\n",
    "    print(result)\n",
    "finally:\n",
    "    print(\"No error\")\n",
    "    "
   ]
  },
  {
   "cell_type": "code",
   "execution_count": 16,
   "id": "5ae8c608",
   "metadata": {},
   "outputs": [
    {
     "name": "stdout",
     "output_type": "stream",
     "text": [
      "Enter a number: 200\n",
      "Enter a number: 100\n",
      "We are good\n",
      "2.0\n",
      "No error\n"
     ]
    }
   ],
   "source": [
    "try:\n",
    "    num = float(input(\"Enter a number: \"))\n",
    "    den = float(input(\"Enter a number: \"))\n",
    "    result = num/den\n",
    "except ValueError:\n",
    "    print(\"Check your input\")\n",
    "except ZeroDivisionError:\n",
    "    print(\"Nothing\")\n",
    "else:\n",
    "    print(\"We are good\")\n",
    "    print(result)\n",
    "finally:\n",
    "    print(\"No error\")\n",
    "    "
   ]
  },
  {
   "cell_type": "code",
   "execution_count": null,
   "id": "8530245e",
   "metadata": {},
   "outputs": [],
   "source": [
    "grade_file= open(\"st\"\n",
    "for i in range(1,6):\n",
    "    input = input(\"Enter student's name: \")\n",
    "    score = int(input(\"Enter student's score: \"))"
   ]
  },
  {
   "cell_type": "markdown",
   "id": "685a0def",
   "metadata": {},
   "source": [
    "# Personal studies"
   ]
  },
  {
   "cell_type": "markdown",
   "id": "a3cc625a",
   "metadata": {},
   "source": [
    "# Exercise 145: Find the Longest Word in a File\n",
    "# In this exercise you will create a Python program that identifies the longest word(s) in a file. Your program should output an appropriate message that includes the length of the longest word, along with all of the words of that length that occurred in the file. Treat any group of non-white space characters as a word, even if it includes numbers or punctuation marks."
   ]
  },
  {
   "cell_type": "code",
   "execution_count": null,
   "id": "06058c1b",
   "metadata": {},
   "outputs": [],
   "source": []
  },
  {
   "cell_type": "code",
   "execution_count": 10,
   "id": "1b41df26",
   "metadata": {},
   "outputs": [
    {
     "name": "stdout",
     "output_type": "stream",
     "text": [
      "\n",
      "\n",
      "Total   Simulated Percent\n",
      "\n",
      " 2 =====> 3.2\n",
      "\n",
      " 3 =====> 6.1\n",
      "\n",
      " 4 =====> 7.9\n",
      "\n",
      " 5 =====> 10.3\n",
      "\n",
      " 6 =====> 12.3\n",
      "\n",
      " 7 =====> 17.6\n",
      "\n",
      " 8 =====> 14.6\n",
      "\n",
      " 9 =====> 12.3\n",
      "\n",
      "10 =====> 8.8\n",
      "\n",
      "11 =====> 4.8\n",
      "\n",
      "12 =====> 2.1\n",
      "\n"
     ]
    }
   ],
   "source": [
    "import random\n",
    "\n",
    "A= [1,2,3,4,5,6]\n",
    "B= [1,2,3,4,5,6]\n",
    "two= []\n",
    "three= []\n",
    "four= []\n",
    "five= []\n",
    "six= []\n",
    "seven= []\n",
    "eight= []\n",
    "nine= []\n",
    "ten= []\n",
    "eleven= []\n",
    "twelve= []\n",
    "\n",
    "for i in range(1000):\n",
    "\n",
    "    x=random.randint(1,6)\n",
    "    \n",
    "    y=random.randint(1,6)\n",
    "\n",
    "    sum= x + y\n",
    "\n",
    "    if sum==2:\n",
    "        two.append(sum)\n",
    "    elif sum==3:\n",
    "        three.append(sum)\n",
    "    elif sum==4:\n",
    "        four.append(sum)\n",
    "    elif sum==5:\n",
    "        five.append(sum)\n",
    "    elif sum==6:\n",
    "        six.append(sum)\n",
    "    elif sum==7:\n",
    "        seven.append(sum)\n",
    "    elif sum==8:\n",
    "        eight.append(sum)\n",
    "    elif sum==9:\n",
    "        nine.append(sum)\n",
    "    elif sum==10:\n",
    "        ten.append(sum)\n",
    "    elif sum==11:\n",
    "        eleven.append(sum)\n",
    "    else:\n",
    "        twelve.append(sum)\n",
    "print('')\n",
    "print('')\n",
    "print('Total', ' ' , \"Simulated Percent\")\n",
    "print('')\n",
    "print(' 2 =====>', len(two)/10)\n",
    "print('')\n",
    "print(' 3 =====>', len(three)/10)\n",
    "print('')\n",
    "print(' 4 =====>', len(four)/10)\n",
    "print('')\n",
    "print(' 5 =====>', len(five)/10)\n",
    "print('')\n",
    "print(' 6 =====>', len(six)/10)\n",
    "print('')\n",
    "print(' 7 =====>', len(seven)/10)\n",
    "print('')\n",
    "print(' 8 =====>', len(eight)/10)\n",
    "print('')\n",
    "print(' 9 =====>', len(nine)/10)\n",
    "print('')\n",
    "print('10 =====>', len(ten)/10)\n",
    "print('')\n",
    "print('11 =====>', len(eleven)/10)\n",
    "print('')\n",
    "print('12 =====>', len(twelve)/10)\n",
    "print('')"
   ]
  }
 ],
 "metadata": {
  "kernelspec": {
   "display_name": "Python 3 (ipykernel)",
   "language": "python",
   "name": "python3"
  },
  "language_info": {
   "codemirror_mode": {
    "name": "ipython",
    "version": 3
   },
   "file_extension": ".py",
   "mimetype": "text/x-python",
   "name": "python",
   "nbconvert_exporter": "python",
   "pygments_lexer": "ipython3",
   "version": "3.11.4"
  }
 },
 "nbformat": 4,
 "nbformat_minor": 5
}
