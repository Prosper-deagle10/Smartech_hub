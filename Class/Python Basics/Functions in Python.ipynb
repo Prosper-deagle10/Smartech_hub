{
 "cells": [
  {
   "cell_type": "markdown",
   "id": "5091734b",
   "metadata": {},
   "source": [
    "# SEPT 11TH ASSIGNMENT CORRECTION!"
   ]
  },
  {
   "cell_type": "code",
   "execution_count": 1,
   "id": "8f6afd91",
   "metadata": {},
   "outputs": [
    {
     "name": "stdout",
     "output_type": "stream",
     "text": [
      "Your guess is: 7\n",
      "no\n",
      "You have 3 trial(s) left \n",
      "Try Again!!!\n",
      "Your guess is: 4\n",
      "yes\n",
      "Congrats!!!\n"
     ]
    }
   ],
   "source": [
    "import random as rd # this programs ask the computer to guess a number.\n",
    "no_of_trials=4\n",
    "for i in range(no_of_trials):\n",
    "    comp_guess=rd.randint(1,8)\n",
    "    print(f\"Your guess is: {comp_guess}\")\n",
    "    a=input()\n",
    "    if a==\"yes\":\n",
    "        print(\"Congrats!!!\")\n",
    "        break\n",
    "    elif a==\"no\":\n",
    "        print(f\"You have {no_of_trials-(i+1)} trial(s) left \\nTry Again!!!\")"
   ]
  },
  {
   "cell_type": "code",
   "execution_count": 2,
   "id": "7b36bb5a",
   "metadata": {},
   "outputs": [
    {
     "name": "stdout",
     "output_type": "stream",
     "text": [
      "Your guess is: 2\n",
      "no\n",
      "You have 3 trial(s) left \n",
      "Try Again!!!\n",
      "Your guess is: 6\n",
      "yes\n",
      "Congrats!!!\n"
     ]
    }
   ],
   "source": [
    "import random as rd # this programs ask the computer to guess a number.\n",
    "no_of_trials=4\n",
    "for i in range(no_of_trials):\n",
    "    comp_guess=rd.randint(1,8)\n",
    "    print(f\"Your guess is: {comp_guess}\")\n",
    "    a=input()\n",
    "    if a==\"yes\":\n",
    "        print(\"Congrats!!!\")\n",
    "        break\n",
    "    elif a==\"no\":\n",
    "        print(f\"You have {no_of_trials-(i+1)} trial(s) left \\nTry Again!!!\")"
   ]
  },
  {
   "cell_type": "code",
   "execution_count": 4,
   "id": "5c814006",
   "metadata": {},
   "outputs": [
    {
     "name": "stdout",
     "output_type": "stream",
     "text": [
      "Enter amount: 1000\n",
      "1st year: 1040.0\n",
      "2nd year: 1081.6\n",
      "3rd year: 1124.86\n"
     ]
    }
   ],
   "source": [
    "amt = float(input(\"Enter amount: \"))\n",
    "rate = 0.04\n",
    "first_year = round((1+rate)*amt,2)\n",
    "second_year = round((1+rate)*first_year,2)\n",
    "third_year = round((1+rate)*second_year,2)\n",
    "print(f\"1st year: {first_year}\")\n",
    "print(f\"2nd year: {second_year}\")\n",
    "print(f\"3rd year: {third_year}\")"
   ]
  },
  {
   "cell_type": "code",
   "execution_count": 6,
   "id": "2244674d",
   "metadata": {},
   "outputs": [
    {
     "name": "stdout",
     "output_type": "stream",
     "text": [
      "Enter amount: 1000\n",
      "1040.0\n",
      "1081.6\n",
      "1124.86\n"
     ]
    }
   ],
   "source": [
    "amt = float(input(\"Enter amount: \"))\n",
    "rate = 0.04\n",
    "for i in range(3):\n",
    "    amt = round((1+rate)*amt,2)\n",
    "    print(amt)"
   ]
  },
  {
   "cell_type": "markdown",
   "id": "dbd8f736",
   "metadata": {},
   "source": [
    "# Function "
   ]
  },
  {
   "cell_type": "markdown",
   "id": "6c134894",
   "metadata": {},
   "source": [
    "# A function is a block of organized, reuseable code that performs a specific task. Functions provide a way to break down a program into smaller, more manageable pieces. They help improve code modularity, reusability, and maintainability. Here's an exhaustive overview of functions in Python:"
   ]
  },
  {
   "cell_type": "code",
   "execution_count": 7,
   "id": "1d6091e4",
   "metadata": {},
   "outputs": [
    {
     "name": "stdout",
     "output_type": "stream",
     "text": [
      "8\n"
     ]
    }
   ],
   "source": [
    "# In a function, you must be careful with the function name you used as there are inbuilt functions and \n",
    "# also there are reserved words that are not allowed by python to use as a variable name. \n",
    "a=3\n",
    "b=5\n",
    "sum = a+b\n",
    "print(sum)"
   ]
  },
  {
   "cell_type": "code",
   "execution_count": 11,
   "id": "178ff621",
   "metadata": {},
   "outputs": [
    {
     "ename": "TypeError",
     "evalue": "'int' object is not callable",
     "output_type": "error",
     "traceback": [
      "\u001b[1;31m---------------------------------------------------------------------------\u001b[0m",
      "\u001b[1;31mTypeError\u001b[0m                                 Traceback (most recent call last)",
      "Cell \u001b[1;32mIn[11], line 2\u001b[0m\n\u001b[0;32m      1\u001b[0m numbers\u001b[38;5;241m=\u001b[39m(\u001b[38;5;241m3\u001b[39m,\u001b[38;5;241m5\u001b[39m,\u001b[38;5;241m9\u001b[39m,\u001b[38;5;241m4\u001b[39m)\n\u001b[1;32m----> 2\u001b[0m \u001b[38;5;28mprint\u001b[39m(\u001b[38;5;28msum\u001b[39m(numbers))\n",
      "\u001b[1;31mTypeError\u001b[0m: 'int' object is not callable"
     ]
    }
   ],
   "source": [
    "numbers=(3,5,9,4) # In this case, since sum is an inbuilt function it doesnt print in this case.\n",
    "print(sum(numbers))"
   ]
  },
  {
   "cell_type": "code",
   "execution_count": 6,
   "id": "db3c343e",
   "metadata": {},
   "outputs": [],
   "source": [
    "# function is a bit of code that can be reused. To create a function in python, you begin with the keyword (def)\n",
    "# then a function name and a parentheses (), where you can define your parameters or arguments. There is an indent at the end of every function. \n",
    "def add_2(a,b):\n",
    "    c=a+b\n",
    "    print(c) # In this case, this program will run but since there is no argument, there will be no output.\n"
   ]
  },
  {
   "cell_type": "code",
   "execution_count": 13,
   "id": "a1a7dcd1",
   "metadata": {},
   "outputs": [
    {
     "name": "stdout",
     "output_type": "stream",
     "text": [
      "12\n"
     ]
    }
   ],
   "source": [
    "add_2(5,7) # The function name add_2 is a user defined function so it is saved in the computer."
   ]
  },
  {
   "cell_type": "code",
   "execution_count": 14,
   "id": "802299ae",
   "metadata": {},
   "outputs": [
    {
     "name": "stdout",
     "output_type": "stream",
     "text": [
      "8\n",
      "None\n"
     ]
    }
   ],
   "source": [
    "z = add_2(3, 5) # Here, a function must always return a value or some valus. a return statement with no value\n",
    "print(z)        # is the same as return None. "
   ]
  },
  {
   "cell_type": "code",
   "execution_count": 18,
   "id": "aeb5955a",
   "metadata": {},
   "outputs": [],
   "source": [
    "def sum_2 (a,b): # A return statement (expression) exists a function optionally passing to the caller.\n",
    "    c= a+b\n",
    "    return c"
   ]
  },
  {
   "cell_type": "code",
   "execution_count": 19,
   "id": "ee8d7821",
   "metadata": {},
   "outputs": [
    {
     "name": "stdout",
     "output_type": "stream",
     "text": [
      "8\n",
      "24\n"
     ]
    }
   ],
   "source": [
    "z = sum_2 (3,5) # Also, we can print z and as well the user defined function.\n",
    "print(z)\n",
    "print(3*z)"
   ]
  },
  {
   "cell_type": "code",
   "execution_count": 20,
   "id": "3bb126a8",
   "metadata": {},
   "outputs": [
    {
     "name": "stdout",
     "output_type": "stream",
     "text": [
      "90\n"
     ]
    }
   ],
   "source": [
    "add_2(40,50)"
   ]
  },
  {
   "cell_type": "code",
   "execution_count": 2,
   "id": "5ce25e2a",
   "metadata": {},
   "outputs": [
    {
     "name": "stdout",
     "output_type": "stream",
     "text": [
      "If you make the above operations with 5 the results will be 13,-3,40,0.625,5,0\n"
     ]
    },
    {
     "data": {
      "text/plain": [
       "(13, -3, 40, 0.625, 5, 0)"
      ]
     },
     "execution_count": 2,
     "metadata": {},
     "output_type": "execute_result"
    }
   ],
   "source": [
    "def process(x):\n",
    "    y1=x+8\n",
    "    y2=x-8\n",
    "    y3=x*8\n",
    "    y4=x/8\n",
    "    y5=x%8\n",
    "    y6=x//8\n",
    "    print(f\"If you make the above operations with {x} the results will be {y1},{y2},{y3},{y4},{y5},{y6}\")\n",
    "    \n",
    "    return y1,y2,y3,y4,y5,y6\n",
    "\n",
    "process(5)"
   ]
  },
  {
   "cell_type": "code",
   "execution_count": 4,
   "id": "8ab8f297",
   "metadata": {},
   "outputs": [
    {
     "name": "stdout",
     "output_type": "stream",
     "text": [
      "If you make the above operations with 4 the results will be 14,-6,64,1.0,6,2\n"
     ]
    },
    {
     "data": {
      "text/plain": [
       "(14, -6, 64, 1.0, 6, 2)"
      ]
     },
     "execution_count": 4,
     "metadata": {},
     "output_type": "execute_result"
    }
   ],
   "source": [
    "def process(x,z):\n",
    "    y1=x+8+z\n",
    "    y2=x-8-z\n",
    "    y3=x*8*z\n",
    "    y4=x/8*z\n",
    "    y5=x%8+z\n",
    "    y6=x//8+z\n",
    "    print(f\"If you make the above operations with {x} the results will be {y1},{y2},{y3},{y4},{y5},{y6}\")\n",
    "    \n",
    "    return y1,y2,y3,y4,y5,y6\n",
    "\n",
    "process(4,2)"
   ]
  },
  {
   "cell_type": "code",
   "execution_count": 9,
   "id": "abe9757b",
   "metadata": {
    "scrolled": true
   },
   "outputs": [
    {
     "name": "stdout",
     "output_type": "stream",
     "text": [
      "If you make the above operations with 10 the results will be 18\n",
      "2\n",
      "80\n",
      "1.25\n",
      "2\n",
      "1\n"
     ]
    },
    {
     "data": {
      "text/plain": [
       "(18, 2, 80, 1.25, 2, 1)"
      ]
     },
     "execution_count": 9,
     "metadata": {},
     "output_type": "execute_result"
    }
   ],
   "source": [
    "def process(x):\n",
    "    y1=x+8\n",
    "    y2=x-8\n",
    "    y3=x*8\n",
    "    y4=x/8\n",
    "    y5=x%8\n",
    "    y6=x//8\n",
    "    print(f\"If you make the above operations with {x} the results will be {y1}\\n{y2}\\n{y3}\\n{y4}\\n{y5}\\n{y6}\")\n",
    "    \n",
    "    return y1,y2,y3,y4,y5,y6\n",
    "\n",
    "process(10)"
   ]
  },
  {
   "cell_type": "code",
   "execution_count": 1,
   "id": "b63d373b",
   "metadata": {},
   "outputs": [
    {
     "data": {
      "text/plain": [
       "56.38"
      ]
     },
     "execution_count": 1,
     "metadata": {},
     "output_type": "execute_result"
    }
   ],
   "source": [
    "def mult(x,y): # In this case, two parameters are assigned to a function. \n",
    "    z = 2*x+5*y+42 \n",
    "    return(z)\n",
    "\n",
    "    output=mult(3.14,1.62)\n",
    "    print(output)\n",
    "    print(mult(3.14,1.62))\n",
    "mult(3.14,1.62)"
   ]
  },
  {
   "cell_type": "code",
   "execution_count": 3,
   "id": "eec00afa",
   "metadata": {},
   "outputs": [
    {
     "data": {
      "text/plain": [
       "58"
      ]
     },
     "execution_count": 3,
     "metadata": {},
     "output_type": "execute_result"
    }
   ],
   "source": [
    "def mult(x,y):\n",
    "    z = 2*x+5*y+42\n",
    "    return(z)\n",
    "\n",
    "    output=mult(3.14,1.62)\n",
    "    print(output)\n",
    "    print(mult(3.14,1.62))\n",
    "mult(3,2)"
   ]
  },
  {
   "cell_type": "code",
   "execution_count": 6,
   "id": "813914ed",
   "metadata": {},
   "outputs": [
    {
     "name": "stdout",
     "output_type": "stream",
     "text": [
      "3.14\n"
     ]
    }
   ],
   "source": [
    "a=3.14\n",
    "y=(a)\n",
    "print(y)"
   ]
  },
  {
   "cell_type": "code",
   "execution_count": 12,
   "id": "63a55089",
   "metadata": {},
   "outputs": [
    {
     "data": {
      "text/plain": [
       "37"
      ]
     },
     "execution_count": 12,
     "metadata": {},
     "output_type": "execute_result"
    }
   ],
   "source": [
    "def function(x,y):\n",
    "    eqn=x*y+x+y-37\n",
    "    if eqn>0:\n",
    "        eqn=6\n",
    "    else: eqn=37\n",
    "    return eqn\n",
    "\n",
    "x=3.12\n",
    "y=2.5556\n",
    "function(x,y)"
   ]
  },
  {
   "cell_type": "code",
   "execution_count": 5,
   "id": "a3bc3afc",
   "metadata": {},
   "outputs": [
    {
     "data": {
      "text/plain": [
       "37"
      ]
     },
     "execution_count": 5,
     "metadata": {},
     "output_type": "execute_result"
    }
   ],
   "source": [
    "def function(x,y):\n",
    "    eqn=x*y+x+y-37\n",
    "    if eqn>0:\n",
    "        eqn=6\n",
    "    else: eqn=37\n",
    "    return eqn\n",
    "\n",
    "x=5\n",
    "y=3\n",
    "function(x,y)"
   ]
  },
  {
   "cell_type": "code",
   "execution_count": 9,
   "id": "d2e54c6b",
   "metadata": {},
   "outputs": [
    {
     "name": "stdout",
     "output_type": "stream",
     "text": [
      "<function rating_value at 0x000002B94EA2F2E0>\n",
      "Don't watch if the rating value of the movie is 0.4\n"
     ]
    }
   ],
   "source": [
    "def rating_value(rating=2):\n",
    "    if rating < 1:\n",
    "        return f\"Don't watch if the rating value of the movie is {rating}\"\n",
    "    else: \n",
    "        return f\"Watch if the rating is {rating}\"\n",
    "\n",
    "print(rating_value)\n",
    "print(rating_value(0.4))\n",
    "        "
   ]
  },
  {
   "cell_type": "code",
   "execution_count": 3,
   "id": "6750cd79",
   "metadata": {},
   "outputs": [
    {
     "name": "stdout",
     "output_type": "stream",
     "text": [
      "Hello world, my function\n"
     ]
    }
   ],
   "source": [
    "def my_function(): # information can be passed into functions as arguments.\n",
    "    print('Hello world, my function')\n",
    "\n",
    "my_function()"
   ]
  },
  {
   "cell_type": "code",
   "execution_count": null,
   "id": "49eff2d1",
   "metadata": {},
   "outputs": [],
   "source": []
  }
 ],
 "metadata": {
  "kernelspec": {
   "display_name": "Python 3 (ipykernel)",
   "language": "python",
   "name": "python3"
  },
  "language_info": {
   "codemirror_mode": {
    "name": "ipython",
    "version": 3
   },
   "file_extension": ".py",
   "mimetype": "text/x-python",
   "name": "python",
   "nbconvert_exporter": "python",
   "pygments_lexer": "ipython3",
   "version": "3.11.4"
  }
 },
 "nbformat": 4,
 "nbformat_minor": 5
}
