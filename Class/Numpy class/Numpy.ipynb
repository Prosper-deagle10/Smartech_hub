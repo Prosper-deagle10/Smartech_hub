{
 "cells": [
  {
   "cell_type": "code",
   "execution_count": 2,
   "id": "45f5cf9b",
   "metadata": {},
   "outputs": [
    {
     "data": {
      "text/plain": [
       "[3, 0, 9, 13]"
      ]
     },
     "execution_count": 2,
     "metadata": {},
     "output_type": "execute_result"
    }
   ],
   "source": [
    "a = [2, 3, 5, 4]\n",
    "b = [1, -3, 4, 9]\n",
    "list(map(lambda a,b: a + b, [2, 3, 5, 4],[1, -3, 4, 9]))"
   ]
  },
  {
   "cell_type": "code",
   "execution_count": 3,
   "id": "79f42b44",
   "metadata": {},
   "outputs": [
    {
     "name": "stdout",
     "output_type": "stream",
     "text": [
      "[3, 0, 9, 13]\n"
     ]
    }
   ],
   "source": [
    "a = [2, 3, 5, 4]\n",
    "b = [1, -3, 4, 9]\n",
    "c = []\n",
    "\n",
    "for i in range(len(a)):\n",
    "    c.append(a[i] + b[i])\n",
    "print(c)"
   ]
  },
  {
   "cell_type": "code",
   "execution_count": 4,
   "id": "ff47be0b",
   "metadata": {},
   "outputs": [
    {
     "data": {
      "text/plain": [
       "[(2, 1), (3, -3), (5, 4), (4, 9)]"
      ]
     },
     "execution_count": 4,
     "metadata": {},
     "output_type": "execute_result"
    }
   ],
   "source": [
    "a = 2, 3, 5, 4\n",
    "b = 1, -3, 4, 9\n",
    "list(zip(a,b))"
   ]
  },
  {
   "cell_type": "code",
   "execution_count": 7,
   "id": "7040652c",
   "metadata": {},
   "outputs": [
    {
     "name": "stdout",
     "output_type": "stream",
     "text": [
      "[3, 0, 9, 13]\n"
     ]
    }
   ],
   "source": [
    "a = 2, 3, 5, 4\n",
    "b = 1, -3, 4, 9\n",
    "c = []\n",
    "list(zip(a,b))\n",
    "for item in zip(a,b):\n",
    "    c.append(item[0] + item[1])\n",
    "print(c)"
   ]
  },
  {
   "cell_type": "code",
   "execution_count": 8,
   "id": "ffa92526",
   "metadata": {},
   "outputs": [
    {
     "name": "stdout",
     "output_type": "stream",
     "text": [
      "[3, 0, 9, 13]\n"
     ]
    }
   ],
   "source": [
    "# \n",
    "a = 2, 3, 5, 4\n",
    "b = 1, -3, 4, 9\n",
    "c = []\n",
    "list(zip(a,b))\n",
    "for x,y in zip(a,b):\n",
    "    c.append(x + y)\n",
    "print(c)"
   ]
  },
  {
   "cell_type": "markdown",
   "id": "63951e6d",
   "metadata": {},
   "source": [
    "# Numpy"
   ]
  },
  {
   "cell_type": "code",
   "execution_count": 9,
   "id": "429d6953",
   "metadata": {},
   "outputs": [
    {
     "name": "stdout",
     "output_type": "stream",
     "text": [
      "[2 3 5 4]\n",
      "[ 1 -3  4  9]\n",
      "[ 3  0  9 13]\n"
     ]
    }
   ],
   "source": [
    "import numpy as np\n",
    "# pick a list and comvert it to a numpy array\n",
    "a = np.array(a)\n",
    "b = np.array(b)\n",
    "c = a+b\n",
    "print(a)\n",
    "print(b)\n",
    "print(c)"
   ]
  },
  {
   "cell_type": "code",
   "execution_count": 10,
   "id": "329566ea",
   "metadata": {},
   "outputs": [
    {
     "name": "stdout",
     "output_type": "stream",
     "text": [
      "[2 3 5 4]\n",
      "[ 1 -3  4  9]\n"
     ]
    },
    {
     "data": {
      "text/plain": [
       "array([ 3,  0,  9, 13])"
      ]
     },
     "execution_count": 10,
     "metadata": {},
     "output_type": "execute_result"
    }
   ],
   "source": [
    "import numpy as np\n",
    "# pick a list, tuple or a set and comvert it to a numpy array\n",
    "a = np.array(a)\n",
    "b = np.array(b)\n",
    "c = a+b\n",
    "print(a)\n",
    "print(b)\n",
    "c"
   ]
  },
  {
   "cell_type": "code",
   "execution_count": 11,
   "id": "50df2e24",
   "metadata": {},
   "outputs": [
    {
     "name": "stdout",
     "output_type": "stream",
     "text": [
      "[2 3 5 4]\n",
      "[ 1 -3  4  9]\n",
      "[ 3  0  9 13]\n",
      "[ 2 -9 20 36]\n"
     ]
    }
   ],
   "source": [
    "import numpy as np\n",
    "# pick a list and comvert it to a numpy array\n",
    "a = np.array(a)\n",
    "b = np.array(b)\n",
    "c = a+b\n",
    "d = a*b \n",
    "print(a)\n",
    "print(b)\n",
    "print(c)\n",
    "print(d)"
   ]
  },
  {
   "cell_type": "code",
   "execution_count": 17,
   "id": "d36f8df9",
   "metadata": {},
   "outputs": [
    {
     "name": "stdout",
     "output_type": "stream",
     "text": [
      "1\n"
     ]
    }
   ],
   "source": [
    "# Attributes of array.\n",
    "#1. dim\n",
    "print(a.ndim)"
   ]
  },
  {
   "cell_type": "code",
   "execution_count": 18,
   "id": "6d26831c",
   "metadata": {},
   "outputs": [
    {
     "name": "stdout",
     "output_type": "stream",
     "text": [
      "4\n"
     ]
    }
   ],
   "source": [
    "print(a.size)"
   ]
  },
  {
   "cell_type": "code",
   "execution_count": 19,
   "id": "e99d5293",
   "metadata": {},
   "outputs": [
    {
     "name": "stdout",
     "output_type": "stream",
     "text": [
      "int32\n"
     ]
    }
   ],
   "source": [
    "print(a.dtype)"
   ]
  },
  {
   "cell_type": "code",
   "execution_count": 22,
   "id": "6bf64413",
   "metadata": {},
   "outputs": [
    {
     "name": "stdout",
     "output_type": "stream",
     "text": [
      "float64\n",
      "(4,)\n"
     ]
    },
    {
     "data": {
      "text/plain": [
       "array([2. , 4. , 9. , 3.2])"
      ]
     },
     "execution_count": 22,
     "metadata": {},
     "output_type": "execute_result"
    }
   ],
   "source": [
    "c = np.array([2, 4, 9, 3.2])\n",
    "print(c.dtype)\n",
    "print(c.shape)\n",
    "c"
   ]
  },
  {
   "cell_type": "code",
   "execution_count": 23,
   "id": "3dca39a5",
   "metadata": {},
   "outputs": [
    {
     "name": "stdout",
     "output_type": "stream",
     "text": [
      "2\n",
      "6\n",
      "(3, 2)\n",
      "float64\n"
     ]
    }
   ],
   "source": [
    "x = np.array([[4,9],\n",
    "             [7,2],\n",
    "             [1.4,1]])\n",
    "print(x.ndim)\n",
    "print(x.size)\n",
    "print(x.shape)\n",
    "print(x.dtype)"
   ]
  },
  {
   "cell_type": "code",
   "execution_count": 26,
   "id": "bec407e2",
   "metadata": {},
   "outputs": [
    {
     "name": "stdout",
     "output_type": "stream",
     "text": [
      "[0 1 2 3 4]\n",
      "[4.  5.2 6.4 7.6]\n",
      "[10.         10.6122449  11.2244898  11.83673469 12.44897959 13.06122449\n",
      " 13.67346939 14.28571429 14.89795918 15.51020408 16.12244898 16.73469388\n",
      " 17.34693878 17.95918367 18.57142857 19.18367347 19.79591837 20.40816327\n",
      " 21.02040816 21.63265306 22.24489796 22.85714286 23.46938776 24.08163265\n",
      " 24.69387755 25.30612245 25.91836735 26.53061224 27.14285714 27.75510204\n",
      " 28.36734694 28.97959184 29.59183673 30.20408163 30.81632653 31.42857143\n",
      " 32.04081633 32.65306122 33.26530612 33.87755102 34.48979592 35.10204082\n",
      " 35.71428571 36.32653061 36.93877551 37.55102041 38.16326531 38.7755102\n",
      " 39.3877551  40.        ]\n"
     ]
    }
   ],
   "source": [
    "# arange in numpy\n",
    "a =np.arange(5)\n",
    "b =np.arange(4,8,1.2)\n",
    "c =np.linspace(10,40)\n",
    "print(a)\n",
    "print(b)\n",
    "print(c)\n"
   ]
  },
  {
   "cell_type": "code",
   "execution_count": 27,
   "id": "d21d0f3b",
   "metadata": {},
   "outputs": [
    {
     "name": "stdout",
     "output_type": "stream",
     "text": [
      "[0 1 2 3 4]\n",
      "[4.  5.2 6.4 7.6]\n",
      "[10.         12.14285714 14.28571429 16.42857143 18.57142857 20.71428571\n",
      " 22.85714286 25.         27.14285714 29.28571429 31.42857143 33.57142857\n",
      " 35.71428571 37.85714286 40.        ]\n"
     ]
    }
   ],
   "source": [
    "a =np.arange(5)\n",
    "b =np.arange(4,8,1.2)\n",
    "c =np.linspace(10,40,15)\n",
    "print(a)\n",
    "print(b)\n",
    "print(c)"
   ]
  },
  {
   "cell_type": "code",
   "execution_count": 30,
   "id": "d5c33294",
   "metadata": {},
   "outputs": [
    {
     "name": "stdout",
     "output_type": "stream",
     "text": [
      "1\n"
     ]
    }
   ],
   "source": [
    "k =np.random.randint(5)\n",
    "print(k)"
   ]
  },
  {
   "cell_type": "code",
   "execution_count": null,
   "id": "597412af",
   "metadata": {},
   "outputs": [],
   "source": []
  }
 ],
 "metadata": {
  "kernelspec": {
   "display_name": "Python 3 (ipykernel)",
   "language": "python",
   "name": "python3"
  },
  "language_info": {
   "codemirror_mode": {
    "name": "ipython",
    "version": 3
   },
   "file_extension": ".py",
   "mimetype": "text/x-python",
   "name": "python",
   "nbconvert_exporter": "python",
   "pygments_lexer": "ipython3",
   "version": "3.11.4"
  }
 },
 "nbformat": 4,
 "nbformat_minor": 5
}
