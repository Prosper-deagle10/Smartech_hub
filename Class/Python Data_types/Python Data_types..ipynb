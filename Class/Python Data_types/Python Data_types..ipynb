{
 "cells": [
  {
   "cell_type": "markdown",
   "id": "9578791d",
   "metadata": {},
   "source": [
    "### In Python, a data type is an attribute of data that tells the interpreter or compiler how the programmer intends to use the data. It defines the type of operations that can be performed on the data and the values that the data can take. Python is a dynamically-typed language, meaning that the data type of a variable is interpreted at runtime."
   ]
  },
  {
   "cell_type": "markdown",
   "id": "aafa5b2a",
   "metadata": {},
   "source": [
    "### Here are some common data types in Python:\n",
    "\n",
    "## Numeric Types:\n",
    "### int: Integer data type, e.g., x = 5.\n",
    "### float: Floating-point or decimal numbers, e.g., y = 3.14.\n",
    "### complex: Complex numbers, e.g., z = 2 + 3j.\n",
    "\n",
    "\n",
    "## Sequence Types:\n",
    "### str: String, a sequence of characters, e.g., text = \"Hello\".\n",
    "### list: Ordered collection of items, e.g., my_list = [1, 2, 3].\n",
    "### tuple: Immutable ordered collection, e.g., my_tuple = (1, 2, 3).\n",
    "### Set Types:\n",
    "### set: Unordered collection of unique items, e.g., my_set = {1, 2, 3}.\n",
    "\n",
    "\n",
    "## Mapping Type:\n",
    "### dict: Dictionary, a collection of key-value pairs, e.g., my_dict = {'key': 'value'}.\n",
    "\n",
    "### Boolean Type:\n",
    "### bool: Boolean, representing True or False.\n",
    "\n",
    "## None Type:\n",
    "### NoneType: Represents the absence of a value, similar to null in other languages, e.g., x = None.\n",
    "\n",
    "## Sequence Types (Advanced):\n",
    "### bytes: Immutable sequence of bytes, e.g., b = b'hello'.\n",
    "### bytearray: Mutable sequence of bytes, e.g., ba = bytearray([65, 66, 67]).\n",
    "### memoryview: A view object that exposes an array’s buffer interface, e.g., mv = memoryview(b).\n",
    "\n",
    "\n",
    "## Other Types:\n",
    "### datetime: Date and time, e.g., import datetime.\n",
    "### function: A callable object, e.g., def my_function():.\n",
    "### class: User-defined types created using the class keyword."
   ]
  },
  {
   "cell_type": "markdown",
   "id": "97e3595b",
   "metadata": {},
   "source": [
    "# # Numeric Data_type.\n",
    "\n",
    "# 1. Integer datatype"
   ]
  },
  {
   "cell_type": "code",
   "execution_count": 1,
   "id": "c9a487cb",
   "metadata": {},
   "outputs": [
    {
     "name": "stdout",
     "output_type": "stream",
     "text": [
      "5\n"
     ]
    }
   ],
   "source": [
    "# Numeric Data_type.\n",
    "\n",
    "# 1. Integer datatypes. Integers are data types that represent whole numbers.\n",
    "# Examples.\n",
    "\n",
    "x = 5\n",
    "print(x)"
   ]
  },
  {
   "cell_type": "code",
   "execution_count": 2,
   "id": "c3100e8d",
   "metadata": {},
   "outputs": [
    {
     "name": "stdout",
     "output_type": "stream",
     "text": [
      "6\n"
     ]
    }
   ],
   "source": [
    "a = 4 # In this case, numeric values are assigned to a variable. Hence, this is an example of an integer data_type.\n",
    "b = 10\n",
    "\n",
    "c = b - a\n",
    "print(c)"
   ]
  },
  {
   "cell_type": "code",
   "execution_count": 4,
   "id": "b6e0a7c1",
   "metadata": {},
   "outputs": [
    {
     "name": "stdout",
     "output_type": "stream",
     "text": [
      "<class 'int'>\n"
     ]
    }
   ],
   "source": [
    "print(type(b)) # To print the data type of b, we use the command - type(variable)."
   ]
  },
  {
   "cell_type": "markdown",
   "id": "b87c6dca",
   "metadata": {},
   "source": [
    "# 2. Float Data_type"
   ]
  },
  {
   "cell_type": "code",
   "execution_count": 6,
   "id": "50abb81a",
   "metadata": {},
   "outputs": [
    {
     "name": "stdout",
     "output_type": "stream",
     "text": [
      "3.14\n",
      "<class 'float'>\n"
     ]
    }
   ],
   "source": [
    "# Float or floating-point is a data type that has decimal numbers. For example,\n",
    "\n",
    "pi = 3.14\n",
    "print(pi)\n",
    "print(type(pi)) # In this case, the data type will be a floating point data type."
   ]
  },
  {
   "cell_type": "markdown",
   "id": "02a5d477",
   "metadata": {},
   "source": [
    "# 3. Complex Data_type"
   ]
  },
  {
   "cell_type": "code",
   "execution_count": 12,
   "id": "a116f3d8",
   "metadata": {},
   "outputs": [
    {
     "name": "stdout",
     "output_type": "stream",
     "text": [
      "(4+6j)\n",
      "<class 'complex'>\n"
     ]
    }
   ],
   "source": [
    "# Complex data_types have alphanumeric characters in their dataset. For example:\n",
    "\n",
    "abc = 4 + 6j\n",
    "print(abc)\n",
    "print(type(abc))"
   ]
  },
  {
   "cell_type": "code",
   "execution_count": 18,
   "id": "56a69281",
   "metadata": {},
   "outputs": [
    {
     "name": "stdout",
     "output_type": "stream",
     "text": [
      "<class 'complex'>\n"
     ]
    }
   ],
   "source": [
    "abb = 4.3 + 3j\n",
    "print(type(abb))"
   ]
  },
  {
   "cell_type": "markdown",
   "id": "6c5675eb",
   "metadata": {},
   "source": [
    "# Sequence Data_type"
   ]
  },
  {
   "cell_type": "markdown",
   "id": "61eea151",
   "metadata": {},
   "source": [
    "# 1. String data_type"
   ]
  },
  {
   "cell_type": "code",
   "execution_count": 20,
   "id": "06420888",
   "metadata": {},
   "outputs": [
    {
     "name": "stdout",
     "output_type": "stream",
     "text": [
      "Hello World.\n",
      "<class 'str'>\n"
     ]
    }
   ],
   "source": [
    "# Strings are identified as a contigious set of characters represented in a quotation mark.\n",
    "# Python allows for either single or double quote.\n",
    "\n",
    "python = 'Hello'\n",
    "java = \"World\"\n",
    "print(f\"{python} {java}.\")\n",
    "print(type(python))"
   ]
  },
  {
   "cell_type": "markdown",
   "id": "02322464",
   "metadata": {},
   "source": [
    "# 2. List data_types"
   ]
  },
  {
   "cell_type": "code",
   "execution_count": 23,
   "id": "3f858dfb",
   "metadata": {},
   "outputs": [
    {
     "name": "stdout",
     "output_type": "stream",
     "text": [
      "<class 'list'>\n"
     ]
    }
   ],
   "source": [
    "# A list is an ordered collection of items, e.g.\n",
    "my_list = [1, 2, 3] # List are placed in brackets = []\n",
    "\n",
    "print(type(my_list))"
   ]
  },
  {
   "cell_type": "code",
   "execution_count": 24,
   "id": "6dd491e1",
   "metadata": {},
   "outputs": [
    {
     "data": {
      "text/plain": [
       "[1, 2, 3]"
      ]
     },
     "execution_count": 24,
     "metadata": {},
     "output_type": "execute_result"
    }
   ],
   "source": [
    "my_list"
   ]
  },
  {
   "cell_type": "code",
   "execution_count": 25,
   "id": "be16190f",
   "metadata": {},
   "outputs": [
    {
     "name": "stdout",
     "output_type": "stream",
     "text": [
      "None\n"
     ]
    }
   ],
   "source": [
    "# Numbers can be added to a list using the append() function\n",
    "my_list1 = my_list.append(12)\n",
    "print(my_list1)"
   ]
  },
  {
   "cell_type": "code",
   "execution_count": 30,
   "id": "a8459a29",
   "metadata": {},
   "outputs": [
    {
     "data": {
      "text/plain": [
       "[1, 2, 3, 12]"
      ]
     },
     "execution_count": 30,
     "metadata": {},
     "output_type": "execute_result"
    }
   ],
   "source": [
    "my_list"
   ]
  },
  {
   "cell_type": "code",
   "execution_count": 33,
   "id": "52323945",
   "metadata": {},
   "outputs": [
    {
     "name": "stdout",
     "output_type": "stream",
     "text": [
      "[2, 2, 3, 4, 4, 5, 6, 7]\n"
     ]
    }
   ],
   "source": [
    "my_list2 = [2,2,3,4,4,5,6,7]\n",
    "print(my_list2)"
   ]
  },
  {
   "cell_type": "markdown",
   "id": "72a9f9a0",
   "metadata": {},
   "source": [
    "# 3. Tuple data_types"
   ]
  },
  {
   "cell_type": "code",
   "execution_count": 32,
   "id": "d4ae301f",
   "metadata": {},
   "outputs": [
    {
     "name": "stdout",
     "output_type": "stream",
     "text": [
      "<class 'tuple'>\n",
      "(2, 3, 4, 2, 2, 5, 4)\n"
     ]
    }
   ],
   "source": [
    "# Tuples are immutable ordered collection, e.g.\n",
    "\n",
    "tup_1 = (2,3,4,2,2,5,4) # Tuples are embedded in a parenthesis and most times are only seperated by a comma(,)\n",
    "\n",
    "print(type(tup_1))\n",
    "print(tup_1)"
   ]
  },
  {
   "cell_type": "code",
   "execution_count": 34,
   "id": "15e35f23",
   "metadata": {},
   "outputs": [
    {
     "ename": "AttributeError",
     "evalue": "'tuple' object has no attribute 'append'",
     "output_type": "error",
     "traceback": [
      "\u001b[1;31m---------------------------------------------------------------------------\u001b[0m",
      "\u001b[1;31mAttributeError\u001b[0m                            Traceback (most recent call last)",
      "Cell \u001b[1;32mIn[34], line 2\u001b[0m\n\u001b[0;32m      1\u001b[0m \u001b[38;5;66;03m# Unlike the List, tuples are immutable. meaning they can not be added or rempved.\u001b[39;00m\n\u001b[1;32m----> 2\u001b[0m tup_2 \u001b[38;5;241m=\u001b[39m tup_1\u001b[38;5;241m.\u001b[39mappend(\u001b[38;5;241m12\u001b[39m)\n\u001b[0;32m      3\u001b[0m \u001b[38;5;28mprint\u001b[39m(tup_1)\n",
      "\u001b[1;31mAttributeError\u001b[0m: 'tuple' object has no attribute 'append'"
     ]
    }
   ],
   "source": [
    "# Unlike the List, tuples are immutable. meaning items in a tuple dataset they can not be added or rempved.\n",
    "tup_2 = tup_1.append(12)\n",
    "print(tup_1)"
   ]
  },
  {
   "cell_type": "markdown",
   "id": "b0f79789",
   "metadata": {},
   "source": [
    "# Set Types"
   ]
  },
  {
   "cell_type": "markdown",
   "id": "bf3cb9ed",
   "metadata": {},
   "source": [
    "# Set data_types"
   ]
  },
  {
   "cell_type": "code",
   "execution_count": 36,
   "id": "a9b70b4e",
   "metadata": {},
   "outputs": [
    {
     "name": "stdout",
     "output_type": "stream",
     "text": [
      "<class 'set'>\n"
     ]
    }
   ],
   "source": [
    "# Set is an unordered collection of unique items embedded in a curly bracket {},, e.g.\n",
    "\n",
    "set_1 = {1,2,3}\n",
    "\n",
    "print(type(set_1))"
   ]
  },
  {
   "cell_type": "code",
   "execution_count": 37,
   "id": "2ad8775e",
   "metadata": {},
   "outputs": [
    {
     "name": "stdout",
     "output_type": "stream",
     "text": [
      "{1, 2, 3, 5, 6, 7}\n"
     ]
    }
   ],
   "source": [
    "set_2 = {1,2,2,3,3,5,6,7,5}\n",
    "print(set_2) # In set, items that repeats or duplicated items are shown as one in the output."
   ]
  },
  {
   "cell_type": "markdown",
   "id": "16b2fb53",
   "metadata": {},
   "source": [
    "# The Mapping Data_Type"
   ]
  },
  {
   "cell_type": "markdown",
   "id": "f8151934",
   "metadata": {},
   "source": [
    "# 1. Dictionary data_type"
   ]
  },
  {
   "cell_type": "code",
   "execution_count": 39,
   "id": "2c91d662",
   "metadata": {},
   "outputs": [
    {
     "name": "stdout",
     "output_type": "stream",
     "text": [
      "{'key': 'value'}\n",
      "<class 'dict'>\n"
     ]
    }
   ],
   "source": [
    "# Dictionary, a collection of key-value pairs, e.g., \n",
    "my_dict = {'key': 'value'}\n",
    "print(my_dict)\n",
    "print(type(my_dict))"
   ]
  },
  {
   "cell_type": "markdown",
   "id": "fdbcb0ca",
   "metadata": {},
   "source": [
    "# 2. Boolean Data_type"
   ]
  },
  {
   "cell_type": "code",
   "execution_count": 40,
   "id": "4b596ddf",
   "metadata": {},
   "outputs": [
    {
     "data": {
      "text/plain": [
       "True"
      ]
     },
     "execution_count": 40,
     "metadata": {},
     "output_type": "execute_result"
    }
   ],
   "source": [
    "# Boolean, representing True or False. The Boolean data type shows if a condition meet its reuirement.\n",
    "\n",
    "a = 1\n",
    "a == 1"
   ]
  },
  {
   "cell_type": "code",
   "execution_count": 42,
   "id": "fe21389a",
   "metadata": {},
   "outputs": [
    {
     "data": {
      "text/plain": [
       "2"
      ]
     },
     "execution_count": 42,
     "metadata": {},
     "output_type": "execute_result"
    }
   ],
   "source": [
    "True + 1 "
   ]
  },
  {
   "cell_type": "code",
   "execution_count": 44,
   "id": "6ebfe9f1",
   "metadata": {},
   "outputs": [
    {
     "name": "stdout",
     "output_type": "stream",
     "text": [
      "<class 'bool'>\n"
     ]
    }
   ],
   "source": [
    "print(type(True))"
   ]
  },
  {
   "cell_type": "code",
   "execution_count": null,
   "id": "b061e687",
   "metadata": {},
   "outputs": [],
   "source": []
  }
 ],
 "metadata": {
  "kernelspec": {
   "display_name": "Python 3 (ipykernel)",
   "language": "python",
   "name": "python3"
  },
  "language_info": {
   "codemirror_mode": {
    "name": "ipython",
    "version": 3
   },
   "file_extension": ".py",
   "mimetype": "text/x-python",
   "name": "python",
   "nbconvert_exporter": "python",
   "pygments_lexer": "ipython3",
   "version": "3.11.4"
  }
 },
 "nbformat": 4,
 "nbformat_minor": 5
}
