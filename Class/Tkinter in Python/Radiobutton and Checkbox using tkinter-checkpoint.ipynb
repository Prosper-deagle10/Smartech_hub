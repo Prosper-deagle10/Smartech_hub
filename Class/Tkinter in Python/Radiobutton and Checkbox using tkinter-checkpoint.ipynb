{
 "cells": [
  {
   "cell_type": "code",
   "execution_count": 12,
   "id": "82a4993f",
   "metadata": {},
   "outputs": [],
   "source": [
    "from tkinter import *\n",
    "def add_numbers():\n",
    "    compute = float(entry1.get()) + float(entry2.get())\n",
    "    result.config(text = f\"Result: {compute}\")\n",
    "    \n",
    "def sub_numbers():\n",
    "    reduce = float(entry1.get()) - float(entry2.get())\n",
    "    result.config(text = f\"Result: {reduce}\")\n",
    "        \n",
    "def mul_numbers():\n",
    "    double = float(entry1.get()) * float(entry2.get())\n",
    "    result.config(text = f\"Result: {double}\")\n",
    "    \n",
    "\n",
    "root =Tk()\n",
    "        \n",
    "frame1 = Frame(root)\n",
    "frame1.pack()\n",
    "\n",
    "frame2 = Frame(root)\n",
    "frame2.pack()\n",
    "\n",
    "frame3 = Frame(root)\n",
    "frame3.pack()\n",
    "\n",
    "\n",
    "Label(frame1,text= \"Number One\").pack(side=\"left\")\n",
    "entry1= Entry(frame1)\n",
    "entry1.pack()\n",
    "\n",
    "Label(frame2, text= \"Number One\").pack(side=\"left\")\n",
    "entry2= Entry(frame2)\n",
    "entry2.pack()\n",
    "\n",
    "Button(frame3, text = \"ADD\", command = add_numbers).pack(side=\"right\")\n",
    "\n",
    "Button(frame3, text = \"SUBTRACT\", command = sub_numbers).pack(side=\"right\")\n",
    "\n",
    "Button(frame3, text = \"MULTIPLY\", command = mul_numbers).pack(side=\"right\")\n",
    "\n",
    "Button(root, text = \" \" , command = add_numbers).pack()\n",
    "\n",
    "result=Label(root)\n",
    "result.pack()\n",
    "root.mainloop()\n"
   ]
  },
  {
   "cell_type": "code",
   "execution_count": null,
   "id": "f3430baf",
   "metadata": {},
   "outputs": [],
   "source": [
    "import tkinter as TK\n",
    "from tkinter import *\n",
    "master = Tk(className = \" Colour Changer \")\n",
    "master.config(bg = \"red\")\n",
    "Label(master, text = \"Colour Changer\").grid(row = 0, column = 0, columnspan =2)\n",
    "Label(master, text = \"Colour\").grid(row = 1,column= 0)\n",
    "Entry(master).grid(row = 1,column = 1)\n",
    "Button(master, text = \"Change\").grid(row = 2, column = 0, columnspan = 2)\n",
    "master.mainloop()"
   ]
  },
  {
   "cell_type": "code",
   "execution_count": null,
   "id": "280f6fd1",
   "metadata": {},
   "outputs": [],
   "source": []
  },
  {
   "cell_type": "code",
   "execution_count": null,
   "id": "fe1701bf",
   "metadata": {},
   "outputs": [],
   "source": []
  }
 ],
 "metadata": {
  "kernelspec": {
   "display_name": "Python 3 (ipykernel)",
   "language": "python",
   "name": "python3"
  },
  "language_info": {
   "codemirror_mode": {
    "name": "ipython",
    "version": 3
   },
   "file_extension": ".py",
   "mimetype": "text/x-python",
   "name": "python",
   "nbconvert_exporter": "python",
   "pygments_lexer": "ipython3",
   "version": "3.11.4"
  }
 },
 "nbformat": 4,
 "nbformat_minor": 5
}
