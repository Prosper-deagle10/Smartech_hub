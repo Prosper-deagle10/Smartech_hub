{
 "cells": [
  {
   "cell_type": "code",
   "execution_count": 1,
   "id": "52fdf7da",
   "metadata": {},
   "outputs": [],
   "source": [
    "from tkinter import *\n",
    "import tkinter as tk\n",
    "from tkinter import ttk\n",
    "master= Tk()\n",
    "master.title(\" CALCULATOR \")\n",
    "master.config(background = \"white\")\n",
    "\n",
    "def display_value(value):\n",
    "    entry.insert(END,value)\n",
    "def compute_result():\n",
    "    result = round(eval(entry.get()),8)\n",
    "    entry.delete(0,END)\n",
    "    entry.insert(END, result)\n",
    "def allclear():\n",
    "    entry.delete(0,END)\n",
    "\n",
    "frame1 = Frame(master, bd = 6, relief = \"raised\", bg = \"blue\")\n",
    "frame1.grid(row = 2,column = 0)\n",
    "entry= Entry(master, bd = 6, relief = \"sunken\")\n",
    "entry.grid(row = 0, column = 0, columnspan = 2)\n",
    "\n",
    "ttk.Button(master, text = \"Clear\", command = allclear).grid(row = 4, column = 0, columnspan = 2, pady = 1, padx = 3, ipady = 1, ipadx = 40)\n",
    "ttk.Button(frame1, text = \"1\", command = lambda: display_value(1)).grid(row = 0, column =0, pady=2,padx=3)\n",
    "ttk.Button(frame1, text = \"2\",command = lambda: display_value(2)).grid(row = 0, column = 1, pady=2,padx=3)\n",
    "ttk.Button(frame1, text = \"3\",command = lambda: display_value(3)).grid(row = 0, column = 2, pady=2,padx=3)\n",
    "ttk.Button(frame1, text = \"4\",command = lambda: display_value(4)).grid(row = 0, column = 3, pady=2,padx=3)\n",
    "\n",
    "ttk.Button(frame1, text = \"5\", command = lambda: display_value(5)).grid(row =2, column = 0, pady=2,padx=3)\n",
    "ttk.Button(frame1, text = \"6\",command = lambda: display_value(6)).grid(row = 2,column = 1, pady=2,padx=3)\n",
    "ttk.Button(frame1,text = \"7\",command = lambda: display_value(7)).grid(row = 2,column = 2, pady=2,padx=3)\n",
    "ttk.Button(frame1, text = \"8\",command = lambda: display_value(8)).grid(row = 2,column = 3, pady=2,padx=3)\n",
    "                                         \n",
    "ttk.Button(frame1,text = \"9\", command = lambda: display_value(9)).grid(row=3, column=0, pady=2,padx=3)\n",
    "ttk.Button(frame1,text =\"0\",command = lambda: display_value(0)).grid(row =3,column= 1, pady=2,padx=3)\n",
    "ttk.Button(frame1, text = \"+\", command = lambda: display_value(\"+\")).grid(row = 3, column = 2, pady=2,padx=3)\n",
    "ttk.Button(frame1, text = \"-\", command = lambda: display_value(\"-\")).grid(row = 3, column =3, pady=2,padx=3)\n",
    "                                         \n",
    "ttk.Button(frame1, text= \"*\", command = lambda: display_value(\"*\")).grid(row = 4, column = 0, pady=2,padx=3)\n",
    "ttk.Button(frame1, text = \"/\", command = lambda: display_value(\"/\")).grid(row = 4, column = 1, pady=2,padx=3)\n",
    "ttk.Button(frame1,text= \"=\", command = compute_result).grid(row = 4, column =3, pady=2,padx=3)\n",
    "ttk.Button(frame1, text = \".\", command = lambda: display_value(\".\")).grid(row = 4, column = 2, pady =2, padx =3)   \n",
    "master.mainloop()"
   ]
  },
  {
   "cell_type": "code",
   "execution_count": 3,
   "id": "8ead0b22",
   "metadata": {},
   "outputs": [
    {
     "name": "stderr",
     "output_type": "stream",
     "text": [
      "Exception in Tkinter callback\n",
      "Traceback (most recent call last):\n",
      "  File \"C:\\Users\\ACER\\anaconda3\\Lib\\tkinter\\__init__.py\", line 1948, in __call__\n",
      "    return self.func(*args)\n",
      "           ^^^^^^^^^^^^^^^^\n",
      "  File \"C:\\Users\\ACER\\AppData\\Local\\Temp\\ipykernel_8856\\4167155213.py\", line 7, in display_text\n",
      "    letters = (abc)\n",
      "               ^^^\n",
      "NameError: name 'abc' is not defined\n",
      "Exception in Tkinter callback\n",
      "Traceback (most recent call last):\n",
      "  File \"C:\\Users\\ACER\\anaconda3\\Lib\\tkinter\\__init__.py\", line 1948, in __call__\n",
      "    return self.func(*args)\n",
      "           ^^^^^^^^^^^^^^^^\n",
      "  File \"C:\\Users\\ACER\\AppData\\Local\\Temp\\ipykernel_8856\\4167155213.py\", line 7, in display_text\n",
      "    letters = (abc)\n",
      "               ^^^\n",
      "NameError: name 'abc' is not defined\n"
     ]
    }
   ],
   "source": [
    "import tkinter as tk\n",
    "import tkinter as ttk\n",
    "\n",
    "def display_text():\n",
    "    # Define the number and letters\n",
    "    number = 1\n",
    "    letters = (abc)\n",
    "\n",
    "    # Set the text in the Entry widget\n",
    "    entry.delete(0, tk.END)  # Clear any existing text\n",
    "    entry.insert(0, f\"{number} {letters}\")\n",
    "\n",
    "# Create the main window\n",
    "root = tk.Tk()\n",
    "root.title(\"Display Number and Letters on a single button\")\n",
    "\n",
    "# Create an Entry widget\n",
    "entry = tk.Entry(root)\n",
    "entry.pack()\n",
    "\n",
    "# Create a Button to display the text\n",
    "ttk.button = tk.Button(root, text=\"1abc\", command=display_text).pack()\n",
    "\n",
    "# Start the Tkinter main loop\n",
    "root.mainloop()"
   ]
  },
  {
   "cell_type": "code",
   "execution_count": null,
   "id": "40ca0f1a",
   "metadata": {},
   "outputs": [],
   "source": []
  }
 ],
 "metadata": {
  "kernelspec": {
   "display_name": "Python 3 (ipykernel)",
   "language": "python",
   "name": "python3"
  },
  "language_info": {
   "codemirror_mode": {
    "name": "ipython",
    "version": 3
   },
   "file_extension": ".py",
   "mimetype": "text/x-python",
   "name": "python",
   "nbconvert_exporter": "python",
   "pygments_lexer": "ipython3",
   "version": "3.11.4"
  }
 },
 "nbformat": 4,
 "nbformat_minor": 5
}
