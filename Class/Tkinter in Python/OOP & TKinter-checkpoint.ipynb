{
 "cells": [
  {
   "cell_type": "code",
   "execution_count": 1,
   "id": "6d1e95de",
   "metadata": {},
   "outputs": [
    {
     "name": "stdout",
     "output_type": "stream",
     "text": [
      "144.0\n",
      "0.0\n",
      "24.0\n",
      "1.0\n"
     ]
    }
   ],
   "source": [
    "from tkinter import *\n",
    "def add_numbers():\n",
    "    compute = float(entry1.get()) + float(entry2.get())\n",
    "    print(f\"{compute}\")\n",
    "    \n",
    "def sub_numbers():\n",
    "    compute = float(entry1.get()) - float(entry2.get())\n",
    "    print(f\"{compute}\")\n",
    "        \n",
    "def mul_numbers():\n",
    "    compute = float(entry1.get()) * float(entry2.get())\n",
    "    print(f\"{compute}\")\n",
    "    \n",
    "def div_numbers():\n",
    "    compute = float(entry1.get()) / float(entry2.get())\n",
    "    print(f\"{compute}\")\n",
    "    \n",
    "root =Tk()\n",
    "        \n",
    "frame1 = Frame(root)\n",
    "frame1.pack()\n",
    "\n",
    "frame2 = Frame(root)\n",
    "frame2.pack()\n",
    "\n",
    "\n",
    "Label(frame1,text= \"Number One\").pack(side=\"left\")\n",
    "entry1= Entry(frame1)\n",
    "entry1.pack()\n",
    "\n",
    "Label(frame2, text= \"Number One\").pack(side=\"left\")\n",
    "entry2= Entry(frame2)\n",
    "entry2.pack()\n",
    "\n",
    "Button(root, text = \"ADD\", command = add_numbers).pack(side=\"right\")\n",
    "\n",
    "Button(root, text = \"SUBTRACT\", command = sub_numbers).pack(side=\"right\")\n",
    "\n",
    "Button(root, text = \"MULTIPLY\", command = mul_numbers).pack(side=\"right\")\n",
    "\n",
    "Button(root, text = \"DIVIDE\", command = div_numbers).pack(side=\"right\")\n",
    "\n",
    "root.mainloop()\n"
   ]
  },
  {
   "cell_type": "markdown",
   "id": "c34a8980",
   "metadata": {},
   "source": [
    "# The components of Object-Oriented Programming are:\n",
    " ## Encapsulation, Abstraction, Inheritance, Polymorphism\n",
    "   ### Method overriding "
   ]
  },
  {
   "cell_type": "markdown",
   "id": "12355df4",
   "metadata": {},
   "source": [
    "# Encapsulation means to enclose data by containing it within an object.\n",
    "# In OOP, encapsulation forms a barrier around data to protect it from the rest of the code. \n",
    "# You can perform encapsulation by binding the data and its functions into a class. This action conceals the private details of a class and only exposes the functionality essential for interfacing with it. When a class doesn't allow direct access to its private data, it's well-encapsulated.\n",
    "\n"
   ]
  },
  {
   "cell_type": "code",
   "execution_count": 18,
   "id": "5ec8fcb3",
   "metadata": {},
   "outputs": [],
   "source": [
    "class School:\n",
    "    def __init__(self, name, locatipn):\n",
    "        self.name = name  \n",
    "        self.age = location\n",
    "\n",
    "    def get_location(self): \n",
    "        return self.location"
   ]
  },
  {
   "cell_type": "markdown",
   "id": "4de29c3d",
   "metadata": {},
   "source": [
    "# Inheritance:\n",
    "# Inheritance allows us to define a class that inherits all the methods and attributes from another class.\n",
    "\n"
   ]
  },
  {
   "cell_type": "code",
   "execution_count": 17,
   "id": "84ddaa36",
   "metadata": {},
   "outputs": [],
   "source": [
    "class Car:\n",
    "    def __init__(self, name,colour):\n",
    "        self.name = name\n",
    "        self.colour=colour\n",
    "\n",
    "    def moves(self):\n",
    "        pass\n",
    "\n",
    "class Motor(Car):\n",
    "    def moves(self):\n",
    "        return \"Lexus!\""
   ]
  },
  {
   "cell_type": "markdown",
   "id": "48c04a1d",
   "metadata": {},
   "source": [
    "# Abstraction helps isolate the impact of changes made to the code so if an error occurs, the change only affects the implementation details of a class and not the outside code.\n"
   ]
  },
  {
   "cell_type": "code",
   "execution_count": null,
   "id": "d2341e94",
   "metadata": {},
   "outputs": [],
   "source": []
  },
  {
   "cell_type": "markdown",
   "id": "384885cd",
   "metadata": {},
   "source": [
    "# Polymorphism refers to creating objects with shared behaviors. In OOP, polymorphism allows for the uniform treatment of classes in a hierarchy. When you write code for objects at the root of the hierarchy, any objects created by a child class within the hierarchy have the same functions. Depending on the type of object, it may execute different behaviors.\n",
    "\n"
   ]
  },
  {
   "cell_type": "code",
   "execution_count": 21,
   "id": "405b5736",
   "metadata": {},
   "outputs": [],
   "source": [
    "class Religion:\n",
    "    def Church(self):\n",
    "        pass\n",
    "\n",
    "class Mosue(Religion):\n",
    "    def __init__(self, name):\n",
    "        self.name=name\n",
    "\n",
    "    def Church(self):\n",
    "        print(f\"I am going to church\")"
   ]
  },
  {
   "cell_type": "code",
   "execution_count": null,
   "id": "33329590",
   "metadata": {},
   "outputs": [],
   "source": []
  }
 ],
 "metadata": {
  "kernelspec": {
   "display_name": "Python 3 (ipykernel)",
   "language": "python",
   "name": "python3"
  },
  "language_info": {
   "codemirror_mode": {
    "name": "ipython",
    "version": 3
   },
   "file_extension": ".py",
   "mimetype": "text/x-python",
   "name": "python",
   "nbconvert_exporter": "python",
   "pygments_lexer": "ipython3",
   "version": "3.11.4"
  }
 },
 "nbformat": 4,
 "nbformat_minor": 5
}
