{
 "cells": [
  {
   "cell_type": "code",
   "execution_count": 1,
   "id": "52fdf7da",
   "metadata": {},
   "outputs": [],
   "source": [
    "from tkinter import *\n",
    "import tkinter as tk\n",
    "from tkinter import ttk\n",
    "master= Tk()\n",
    "master.title(\" CALCULATOR \")\n",
    "master.config(background = \"red\")\n",
    "\n",
    "def display_value(value):\n",
    "    entry.insert(END,value)\n",
    "def compute_result():\n",
    "    result = round(eval(entry.get()),8)\n",
    "    entry.delete(0,END)\n",
    "    entry.insert(END, result)\n",
    "def allclear():\n",
    "    entry.delete(0,END)\n",
    "\n",
    "frame1 = Frame(master, bd = 6, relief = \"raised\", bg = \"blue\")\n",
    "frame1.grid(row = 2,column = 0)\n",
    "entry= Entry(master, bd = 6, relief = \"sunken\")\n",
    "entry.grid(row = 0, column = 0, columnspan = 2)\n",
    "\n",
    "ttk.Button(master, text = \"Clear\", command = allclear).grid(row = 4, column = 0, columnspan = 2, pady = 1, padx = 3, ipady = 1, ipadx = 40)\n",
    "ttk.Button(frame1, text = \"1\", command = lambda: display_value(1)).grid(row = 0, column =0, pady=2,padx=3)\n",
    "ttk.Button(frame1, text = \"2\",command = lambda: display_value(2)).grid(row = 0, column = 1, pady=2,padx=3)\n",
    "ttk.Button(frame1, text = \"3\",command = lambda: display_value(3)).grid(row = 0, column = 2, pady=2,padx=3)\n",
    "ttk.Button(frame1, text = \"4\",command = lambda: display_value(4)).grid(row = 0, column = 3, pady=2,padx=3)\n",
    "\n",
    "ttk.Button(frame1, text = \"5\", command = lambda: display_value(5)).grid(row =2, column = 0, pady=2,padx=3)\n",
    "ttk.Button(frame1, text = \"6\",command = lambda: display_value(6)).grid(row = 2,column = 1, pady=2,padx=3)\n",
    "ttk.Button(frame1,text = \"7\",command = lambda: display_value(7)).grid(row = 2,column = 2, pady=2,padx=3)\n",
    "ttk.Button(frame1, text = \"8\",command = lambda: display_value(8)).grid(row = 2,column = 3, pady=2,padx=3)\n",
    "                                         \n",
    "ttk.Button(frame1,text = \"9\", command = lambda: display_value(9)).grid(row=3, column=0, pady=2,padx=3)\n",
    "ttk.Button(frame1,text =\"0\",command = lambda: display_value(0)).grid(row =3,column= 1, pady=2,padx=3)\n",
    "ttk.Button(frame1, text = \"+\", command = lambda: display_value(\"+\")).grid(row = 3, column = 2, pady=2,padx=3)\n",
    "ttk.Button(frame1, text = \"-\", command = lambda: display_value(\"-\")).grid(row = 3, column =3, pady=2,padx=3)\n",
    "                                         \n",
    "ttk.Button(frame1, text= \"*\", command = lambda: display_value(\"*\")).grid(row = 4, column = 0, pady=2,padx=3)\n",
    "ttk.Button(frame1, text = \"/\", command = lambda: display_value(\"/\")).grid(row = 4, column = 1, pady=2,padx=3)\n",
    "ttk.Button(frame1,text= \"=\", command = compute_result).grid(row = 4, column =3, pady=2,padx=3)\n",
    "ttk.Button(frame1, text = \".\", command = lambda: display_value(\".\")).grid(row = 4, column = 2, pady =2, padx =3)   \n",
    "master.mainloop()"
   ]
  },
  {
   "cell_type": "code",
   "execution_count": 3,
   "id": "8ead0b22",
   "metadata": {},
   "outputs": [
    {
     "name": "stderr",
     "output_type": "stream",
     "text": [
      "Exception in Tkinter callback\n",
      "Traceback (most recent call last):\n",
      "  File \"C:\\Users\\ACER\\anaconda3\\Lib\\tkinter\\__init__.py\", line 1948, in __call__\n",
      "    return self.func(*args)\n",
      "           ^^^^^^^^^^^^^^^^\n",
      "  File \"C:\\Users\\ACER\\AppData\\Local\\Temp\\ipykernel_8856\\4167155213.py\", line 7, in display_text\n",
      "    letters = (abc)\n",
      "               ^^^\n",
      "NameError: name 'abc' is not defined\n",
      "Exception in Tkinter callback\n",
      "Traceback (most recent call last):\n",
      "  File \"C:\\Users\\ACER\\anaconda3\\Lib\\tkinter\\__init__.py\", line 1948, in __call__\n",
      "    return self.func(*args)\n",
      "           ^^^^^^^^^^^^^^^^\n",
      "  File \"C:\\Users\\ACER\\AppData\\Local\\Temp\\ipykernel_8856\\4167155213.py\", line 7, in display_text\n",
      "    letters = (abc)\n",
      "               ^^^\n",
      "NameError: name 'abc' is not defined\n"
     ]
    }
   ],
   "source": [
    "import tkinter as tk\n",
    "import tkinter as ttk\n",
    "\n",
    "def display_text():\n",
    "    # Define the number and letters\n",
    "    number = 1\n",
    "    letters = (abc)\n",
    "\n",
    "    # Set the text in the Entry widget\n",
    "    entry.delete(0, tk.END)  # Clear any existing text\n",
    "    entry.insert(0, f\"{number} {letters}\")\n",
    "\n",
    "# Create the main window\n",
    "root = tk.Tk()\n",
    "root.title(\"Display Number and Letters on a single button\")\n",
    "\n",
    "# Create an Entry widget\n",
    "entry = tk.Entry(root)\n",
    "entry.pack()\n",
    "\n",
    "# Create a Button to display the text\n",
    "ttk.button = tk.Button(root, text=\"1abc\", command=display_text).pack()\n",
    "\n",
    "# Start the Tkinter main loop\n",
    "root.mainloop()"
   ]
  },
  {
   "cell_type": "markdown",
   "id": "8cfc053b",
   "metadata": {},
   "source": [
    "# Mini projects"
   ]
  },
  {
   "cell_type": "markdown",
   "id": "5e61384d",
   "metadata": {},
   "source": [
    "## Project 1"
   ]
  },
  {
   "cell_type": "code",
   "execution_count": 11,
   "id": "8832b5d0",
   "metadata": {},
   "outputs": [
    {
     "ename": "TclError",
     "evalue": "can't invoke \"listbox\" command: application has been destroyed",
     "output_type": "error",
     "traceback": [
      "\u001b[1;31m---------------------------------------------------------------------------\u001b[0m",
      "\u001b[1;31mTclError\u001b[0m                                  Traceback (most recent call last)",
      "Cell \u001b[1;32mIn[11], line 20\u001b[0m\n\u001b[0;32m     18\u001b[0m entry \u001b[38;5;241m=\u001b[39m Entry(master, width \u001b[38;5;241m=\u001b[39m \u001b[38;5;241m40\u001b[39m)\n\u001b[0;32m     19\u001b[0m entry\u001b[38;5;241m.\u001b[39mpack(pady \u001b[38;5;241m=\u001b[39m \u001b[38;5;241m10\u001b[39m)\n\u001b[1;32m---> 20\u001b[0m listbox \u001b[38;5;241m=\u001b[39m tk\u001b[38;5;241m.\u001b[39mListbox(root, selectmode\u001b[38;5;241m=\u001b[39mtk\u001b[38;5;241m.\u001b[39mSINGLE)\n\u001b[0;32m     21\u001b[0m listbox\u001b[38;5;241m.\u001b[39mpack(pady\u001b[38;5;241m=\u001b[39m\u001b[38;5;241m10\u001b[39m)\n\u001b[0;32m     23\u001b[0m master\u001b[38;5;241m.\u001b[39mmainloop()\n",
      "File \u001b[1;32m~\\anaconda3\\Lib\\tkinter\\__init__.py:3228\u001b[0m, in \u001b[0;36mListbox.__init__\u001b[1;34m(self, master, cnf, **kw)\u001b[0m\n\u001b[0;32m   3220\u001b[0m \u001b[38;5;28;01mdef\u001b[39;00m \u001b[38;5;21m__init__\u001b[39m(\u001b[38;5;28mself\u001b[39m, master\u001b[38;5;241m=\u001b[39m\u001b[38;5;28;01mNone\u001b[39;00m, cnf\u001b[38;5;241m=\u001b[39m{}, \u001b[38;5;241m*\u001b[39m\u001b[38;5;241m*\u001b[39mkw):\n\u001b[0;32m   3221\u001b[0m \u001b[38;5;250m    \u001b[39m\u001b[38;5;124;03m\"\"\"Construct a listbox widget with the parent MASTER.\u001b[39;00m\n\u001b[0;32m   3222\u001b[0m \n\u001b[0;32m   3223\u001b[0m \u001b[38;5;124;03m    Valid resource names: background, bd, bg, borderwidth, cursor,\u001b[39;00m\n\u001b[1;32m   (...)\u001b[0m\n\u001b[0;32m   3226\u001b[0m \u001b[38;5;124;03m    selectborderwidth, selectforeground, selectmode, setgrid, takefocus,\u001b[39;00m\n\u001b[0;32m   3227\u001b[0m \u001b[38;5;124;03m    width, xscrollcommand, yscrollcommand, listvariable.\"\"\"\u001b[39;00m\n\u001b[1;32m-> 3228\u001b[0m     Widget\u001b[38;5;241m.\u001b[39m\u001b[38;5;21m__init__\u001b[39m(\u001b[38;5;28mself\u001b[39m, master, \u001b[38;5;124m'\u001b[39m\u001b[38;5;124mlistbox\u001b[39m\u001b[38;5;124m'\u001b[39m, cnf, kw)\n",
      "File \u001b[1;32m~\\anaconda3\\Lib\\tkinter\\__init__.py:2628\u001b[0m, in \u001b[0;36mBaseWidget.__init__\u001b[1;34m(self, master, widgetName, cnf, kw, extra)\u001b[0m\n\u001b[0;32m   2626\u001b[0m \u001b[38;5;28;01mfor\u001b[39;00m k, v \u001b[38;5;129;01min\u001b[39;00m classes:\n\u001b[0;32m   2627\u001b[0m     \u001b[38;5;28;01mdel\u001b[39;00m cnf[k]\n\u001b[1;32m-> 2628\u001b[0m \u001b[38;5;28mself\u001b[39m\u001b[38;5;241m.\u001b[39mtk\u001b[38;5;241m.\u001b[39mcall(\n\u001b[0;32m   2629\u001b[0m     (widgetName, \u001b[38;5;28mself\u001b[39m\u001b[38;5;241m.\u001b[39m_w) \u001b[38;5;241m+\u001b[39m extra \u001b[38;5;241m+\u001b[39m \u001b[38;5;28mself\u001b[39m\u001b[38;5;241m.\u001b[39m_options(cnf))\n\u001b[0;32m   2630\u001b[0m \u001b[38;5;28;01mfor\u001b[39;00m k, v \u001b[38;5;129;01min\u001b[39;00m classes:\n\u001b[0;32m   2631\u001b[0m     k\u001b[38;5;241m.\u001b[39mconfigure(\u001b[38;5;28mself\u001b[39m, v)\n",
      "\u001b[1;31mTclError\u001b[0m: can't invoke \"listbox\" command: application has been destroyed"
     ]
    }
   ],
   "source": [
    "from tkinter import *\n",
    "import tkinter as tk\n",
    "\n",
    "master = Tk()\n",
    "master.title(\" To-do-list \")\n",
    "master.config(bg = \"pink\")\n",
    "\n",
    "def add_task():\n",
    "    task = float(input(\"Enter a task: \"))\n",
    "    entry.insert(END, task)\n",
    "    if task:\n",
    "        listbox.insert(tk.END, task)\n",
    "        entry.delete(0, tk.END)\n",
    "def remove_task():\n",
    "    selected_task_index = listbox.curselection()\n",
    "    if selected_task_index:\n",
    "        listbox.delete(selected_task_index)\n",
    "entry = Entry(master, width = 40)\n",
    "entry.pack(pady = 10)\n",
    "\n",
    "master.mainloop()"
   ]
  },
  {
   "cell_type": "code",
   "execution_count": 12,
   "id": "1a104cf2",
   "metadata": {},
   "outputs": [],
   "source": [
    "import tkinter as tk\n",
    "\n",
    "def add_task():\n",
    "    task = entry.get()\n",
    "    if task:\n",
    "        listbox.insert(tk.END, task)\n",
    "        entry.delete(0, tk.END)\n",
    "\n",
    "def remove_task():\n",
    "    selected_task_index = listbox.curselection()\n",
    "    if selected_task_index:\n",
    "        listbox.delete(selected_task_index)\n",
    "\n",
    "# Create the main window\n",
    "root = tk.Tk()\n",
    "root.title(\"To-Do List\")\n",
    "\n",
    "# Create and configure the listbox\n",
    "listbox = Listbox(root, selectmode=tk.SINGLE)\n",
    "listbox.pack(pady=10)\n",
    "\n",
    "# Create and configure the entry field\n",
    "entry = tk.Entry(root, width=40)\n",
    "entry.pack(pady=10)\n",
    "\n",
    "# Create \"Add\" and \"Remove\" buttons\n",
    "add_button = tk.Button(root, text=\"Add Task\", command=add_task)\n",
    "remove_button = tk.Button(root, text=\"Remove Task\", command=remove_task)\n",
    "\n",
    "add_button.pack()\n",
    "remove_button.pack()\n",
    "\n",
    "# Start the Tkinter main loop\n",
    "root.mainloop()\n"
   ]
  },
  {
   "cell_type": "code",
   "execution_count": null,
   "id": "40ca0f1a",
   "metadata": {},
   "outputs": [],
   "source": []
  }
 ],
 "metadata": {
  "kernelspec": {
   "display_name": "Python 3 (ipykernel)",
   "language": "python",
   "name": "python3"
  },
  "language_info": {
   "codemirror_mode": {
    "name": "ipython",
    "version": 3
   },
   "file_extension": ".py",
   "mimetype": "text/x-python",
   "name": "python",
   "nbconvert_exporter": "python",
   "pygments_lexer": "ipython3",
   "version": "3.11.4"
  }
 },
 "nbformat": 4,
 "nbformat_minor": 5
}
