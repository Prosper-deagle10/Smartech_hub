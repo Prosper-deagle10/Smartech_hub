{
 "cells": [
  {
   "cell_type": "code",
   "execution_count": 4,
   "id": "2c567272",
   "metadata": {},
   "outputs": [],
   "source": [
    "#RadioButton creation\n",
    "\n",
    "import tkinter as tk\n",
    " \n",
    "master = tk.Tk()\n",
    "master.title(\" Radio Button \")\n",
    " \n",
    "var = tk.StringVar()\n",
    "radiobutton = tk.Label(master, bg='pink', text='empty')\n",
    "radiobutton.pack()\n",
    " \n",
    "def print_selection():\n",
    "    radiobutton.config(text='you have selected ' + var.get())\n",
    "r1 = tk.Radiobutton(master, text='Option A', variable=var, value='A', command=print_selection)\n",
    "r1.pack()\n",
    "r2 = tk.Radiobutton(master, text='Option B', variable=var, value='B', command=print_selection)\n",
    "r2.pack()\n",
    "r3 = tk.Radiobutton(master, text='Option C', variable=var, value='C', command=print_selection)\n",
    "r3.pack()\n",
    " \n",
    "master.mainloop()\n"
   ]
  },
  {
   "cell_type": "code",
   "execution_count": 3,
   "id": "9ef01aa2",
   "metadata": {},
   "outputs": [],
   "source": [
    "# Checkbox creation\n",
    "\n",
    "from tkinter import *\n",
    "import tkinter as tk\n",
    "master = tk.Tk()\n",
    "checkbox= tk.Label(master, bg = \"light blue\", text = \"empty\")\n",
    "checkbox.pack()\n",
    "def print_selection():\n",
    "    checkbox.config(text='you have selected ' + var.get())\n",
    "var1 = IntVar()\n",
    "Checkbutton(master, text=\"Male\", variable=var1, command=print_selection).pack()\n",
    "\n",
    "var2 = IntVar()\n",
    "Checkbutton(master, text=\"Female\", variable=var2, command=print_selection).pack()\n",
    "\n",
    "var3 = IntVar()\n",
    "Checkbutton(master, text=\"Other\", variable=var3, command=print_selection).pack()\n",
    "\n",
    "master.mainloop()"
   ]
  },
  {
   "cell_type": "code",
   "execution_count": 24,
   "id": "e10d4605",
   "metadata": {},
   "outputs": [
    {
     "name": "stdout",
     "output_type": "stream",
     "text": [
      "First Name: Mike\n",
      "Last Name: Happy\n"
     ]
    }
   ],
   "source": [
    "# Pady.\n",
    "\n",
    "from tkinter import *\n",
    "def show_entry_fields():\n",
    "    print(\"First Name: %s\\nLast Name: %s\" % (e1.get(), e2.get()))\n",
    "master = Tk()\n",
    "Label(master, text=\"First Name\").grid(row=0)\n",
    "Label(master, text=\"Last Name\").grid(row=1)\n",
    "e1 = Entry(master)\n",
    "e1.grid(row=0, column=1)\n",
    "e2 = Entry(master)\n",
    "e2.grid(row=1, column=1)\n",
    "Button(master, text='Quit', command=quit).grid(row=3, column=0, pady=4)\n",
    "Button(master, text='Show', command=show_entry_fields).grid(row=3, column=1,pady=4)\n",
    "mainloop()\n"
   ]
  },
  {
   "cell_type": "code",
   "execution_count": 5,
   "id": "cbe1e3aa",
   "metadata": {},
   "outputs": [],
   "source": [
    "from tkinter import *\n",
    " \n",
    "window = Tk()\n",
    "window.title(\"Padding and font style in Tkinter\")\n",
    "window.geometry(\"500x500\")\n",
    "window.config(background = \"green\")\n",
    " \n",
    "label_1 = Label(window, text = \"font size and style\",bg = \"yellow\", fg = \"white\",font = (\"Algerian\", 30))\n",
    "label_1.pack(padx = (100, 0))\n",
    " \n",
    "window.mainloop()"
   ]
  },
  {
   "cell_type": "code",
   "execution_count": 22,
   "id": "da8b6fff",
   "metadata": {},
   "outputs": [
    {
     "name": "stderr",
     "output_type": "stream",
     "text": [
      "Exception in Tkinter callback\n",
      "Traceback (most recent call last):\n",
      "  File \"C:\\Users\\ACER\\anaconda3\\Lib\\tkinter\\__init__.py\", line 1948, in __call__\n",
      "    return self.func(*args)\n",
      "           ^^^^^^^^^^^^^^^^\n",
      "  File \"C:\\Users\\ACER\\AppData\\Local\\Temp\\ipykernel_5668\\332147008.py\", line 22, in <lambda>\n",
      "    ttk.Button(frame2, text = \"1\", command = lambda: display_value(1)).grid(row = 0, column =0, ipady=2,ipadx=3, pady = 2, padx = 3)\n",
      "                                                     ^^^^^^^^^^^^^^^^\n",
      "  File \"C:\\Users\\ACER\\AppData\\Local\\Temp\\ipykernel_5668\\332147008.py\", line 12, in display_value\n",
      "    entry.insert(END,value)\n",
      "    ^^^^^^^^^^^^\n",
      "AttributeError: 'NoneType' object has no attribute 'insert'\n"
     ]
    }
   ],
   "source": [
    "# Nokia 3310 phone creation\n",
    "\n",
    "from tkinter import *\n",
    "import tkinter as tk\n",
    "import tkinter as ttk\n",
    "\n",
    "parent = tk.Tk()\n",
    "parent.title(\" NOKIA 3310 \")\n",
    "parent.config(background = \"pink\")\n",
    "\n",
    "def display_value(value):\n",
    "    entry.insert(END,value)\n",
    "    \n",
    "frame1 = Frame(parent)\n",
    "frame1.grid(row = 1, column = 2, columnspan = 2)\n",
    "frame2 = Frame(parent)\n",
    "frame2.grid(row = 3, column = 2, columnspan = 2)\n",
    "\n",
    "Label(frame1, text = \"NOkIA\", bg = \"black\", fg = \"white\", font = (\"arial\", 10)).grid(row = 0, column = 2, columnspan = 2, pady = 1, padx = 3, ipadx = 10)\n",
    "entry = Entry(parent).grid(row = 2, column = 2, columnspan = 2, pady = 10, padx = 30, ipady = 30, ipadx = 40)\n",
    "\n",
    "ttk.Button(frame2, text = \"1\", command = lambda: display_value(1)).grid(row = 0, column =0, ipady=2,ipadx=3, pady = 2, padx = 3)\n",
    "ttk.Button(frame2, text = \"2\",command = lambda: display_value(2)).grid(row = 0, column = 1, ipady=2,ipadx=3, pady = 2, padx = 3)\n",
    "ttk.Button(frame2, text = \"3\",command = lambda: display_value(3)).grid(row = 0, column = 2, ipady=2,ipadx=3, pady = 2, padx =3)\n",
    "\n",
    "\n",
    "parent.mainloop()"
   ]
  },
  {
   "cell_type": "code",
   "execution_count": null,
   "id": "6112d41a",
   "metadata": {},
   "outputs": [],
   "source": []
  }
 ],
 "metadata": {
  "kernelspec": {
   "display_name": "Python 3 (ipykernel)",
   "language": "python",
   "name": "python3"
  },
  "language_info": {
   "codemirror_mode": {
    "name": "ipython",
    "version": 3
   },
   "file_extension": ".py",
   "mimetype": "text/x-python",
   "name": "python",
   "nbconvert_exporter": "python",
   "pygments_lexer": "ipython3",
   "version": "3.11.4"
  }
 },
 "nbformat": 4,
 "nbformat_minor": 5
}
