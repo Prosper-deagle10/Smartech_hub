{
 "cells": [
  {
   "cell_type": "markdown",
   "id": "74848318",
   "metadata": {},
   "source": [
    "# TKINTER\n",
    "\n",
    "## Tkinter is a package used in creating desktop application."
   ]
  },
  {
   "cell_type": "code",
   "execution_count": 3,
   "id": "3ac1cd03",
   "metadata": {},
   "outputs": [
    {
     "data": {
      "text/plain": [
       "['ACTIVE',\n",
       " 'ALL',\n",
       " 'ANCHOR',\n",
       " 'ARC',\n",
       " 'BASELINE',\n",
       " 'BEVEL',\n",
       " 'BOTH',\n",
       " 'BOTTOM',\n",
       " 'BROWSE',\n",
       " 'BUTT',\n",
       " 'BaseWidget',\n",
       " 'BitmapImage',\n",
       " 'BooleanVar',\n",
       " 'Button',\n",
       " 'CASCADE',\n",
       " 'CENTER',\n",
       " 'CHAR',\n",
       " 'CHECKBUTTON',\n",
       " 'CHORD',\n",
       " 'COMMAND',\n",
       " 'CURRENT',\n",
       " 'CallWrapper',\n",
       " 'Canvas',\n",
       " 'Checkbutton',\n",
       " 'DISABLED',\n",
       " 'DOTBOX',\n",
       " 'DoubleVar',\n",
       " 'E',\n",
       " 'END',\n",
       " 'EW',\n",
       " 'EXCEPTION',\n",
       " 'EXTENDED',\n",
       " 'Entry',\n",
       " 'Event',\n",
       " 'EventType',\n",
       " 'FALSE',\n",
       " 'FIRST',\n",
       " 'FLAT',\n",
       " 'Frame',\n",
       " 'GROOVE',\n",
       " 'Grid',\n",
       " 'HIDDEN',\n",
       " 'HORIZONTAL',\n",
       " 'INSERT',\n",
       " 'INSIDE',\n",
       " 'Image',\n",
       " 'In',\n",
       " 'IntVar',\n",
       " 'LAST',\n",
       " 'LEFT',\n",
       " 'Label',\n",
       " 'LabelFrame',\n",
       " 'Listbox',\n",
       " 'MITER',\n",
       " 'MOVETO',\n",
       " 'MULTIPLE',\n",
       " 'Menu',\n",
       " 'Menubutton',\n",
       " 'Message',\n",
       " 'Misc',\n",
       " 'N',\n",
       " 'NE',\n",
       " 'NO',\n",
       " 'NONE',\n",
       " 'NORMAL',\n",
       " 'NS',\n",
       " 'NSEW',\n",
       " 'NUMERIC',\n",
       " 'NW',\n",
       " 'NoDefaultRoot',\n",
       " 'OFF',\n",
       " 'ON',\n",
       " 'OUTSIDE',\n",
       " 'OptionMenu',\n",
       " 'Out',\n",
       " 'PAGES',\n",
       " 'PIESLICE',\n",
       " 'PROJECTING',\n",
       " 'Pack',\n",
       " 'PanedWindow',\n",
       " 'PhotoImage',\n",
       " 'Place',\n",
       " 'RADIOBUTTON',\n",
       " 'RAISED',\n",
       " 'READABLE',\n",
       " 'RIDGE',\n",
       " 'RIGHT',\n",
       " 'ROUND',\n",
       " 'Radiobutton',\n",
       " 'S',\n",
       " 'SCROLL',\n",
       " 'SE',\n",
       " 'SEL',\n",
       " 'SEL_FIRST',\n",
       " 'SEL_LAST',\n",
       " 'SEPARATOR',\n",
       " 'SINGLE',\n",
       " 'SOLID',\n",
       " 'SUNKEN',\n",
       " 'SW',\n",
       " 'Scale',\n",
       " 'Scrollbar',\n",
       " 'Spinbox',\n",
       " 'StringVar',\n",
       " 'TOP',\n",
       " 'TRUE',\n",
       " 'Tcl',\n",
       " 'TclError',\n",
       " 'TclVersion',\n",
       " 'Text',\n",
       " 'Tk',\n",
       " 'TkVersion',\n",
       " 'Toplevel',\n",
       " 'UNDERLINE',\n",
       " 'UNITS',\n",
       " 'VERTICAL',\n",
       " 'Variable',\n",
       " 'W',\n",
       " 'WORD',\n",
       " 'WRITABLE',\n",
       " 'Widget',\n",
       " 'Wm',\n",
       " 'X',\n",
       " 'XView',\n",
       " 'Y',\n",
       " 'YES',\n",
       " 'YView',\n",
       " '_',\n",
       " '_1',\n",
       " '_2',\n",
       " '__',\n",
       " '___',\n",
       " '__builtin__',\n",
       " '__builtins__',\n",
       " '__doc__',\n",
       " '__loader__',\n",
       " '__name__',\n",
       " '__package__',\n",
       " '__spec__',\n",
       " '_dh',\n",
       " '_i',\n",
       " '_i1',\n",
       " '_i2',\n",
       " '_i3',\n",
       " '_ih',\n",
       " '_ii',\n",
       " '_iii',\n",
       " '_oh',\n",
       " 'exit',\n",
       " 'get_ipython',\n",
       " 'getboolean',\n",
       " 'getdouble',\n",
       " 'getint',\n",
       " 'image_names',\n",
       " 'image_types',\n",
       " 'mainloop',\n",
       " 'open',\n",
       " 'quit']"
      ]
     },
     "execution_count": 3,
     "metadata": {},
     "output_type": "execute_result"
    }
   ],
   "source": [
    "# How to use tkinter\n",
    "\n",
    "from tkinter import * \n",
    "dir ()"
   ]
  },
  {
   "cell_type": "code",
   "execution_count": 16,
   "id": "6edddb75",
   "metadata": {},
   "outputs": [
    {
     "ename": "KeyboardInterrupt",
     "evalue": "",
     "output_type": "error",
     "traceback": [
      "\u001b[1;31m---------------------------------------------------------------------------\u001b[0m",
      "\u001b[1;31mKeyboardInterrupt\u001b[0m                         Traceback (most recent call last)",
      "Cell \u001b[1;32mIn[16], line 12\u001b[0m\n\u001b[0;32m      9\u001b[0m Label(root, text\u001b[38;5;241m=\u001b[39m\u001b[38;5;124m\"\u001b[39m\u001b[38;5;124mNumber two\u001b[39m\u001b[38;5;124m\"\u001b[39m)\u001b[38;5;241m.\u001b[39mpack(side\u001b[38;5;241m=\u001b[39m\u001b[38;5;124m\"\u001b[39m\u001b[38;5;124mleft\u001b[39m\u001b[38;5;124m\"\u001b[39m)\n\u001b[0;32m     11\u001b[0m Entry(root)\u001b[38;5;241m.\u001b[39mpack()\n\u001b[1;32m---> 12\u001b[0m root\u001b[38;5;241m.\u001b[39mmainloop()\n",
      "File \u001b[1;32m~\\anaconda3\\Lib\\tkinter\\__init__.py:1485\u001b[0m, in \u001b[0;36mMisc.mainloop\u001b[1;34m(self, n)\u001b[0m\n\u001b[0;32m   1483\u001b[0m \u001b[38;5;28;01mdef\u001b[39;00m \u001b[38;5;21mmainloop\u001b[39m(\u001b[38;5;28mself\u001b[39m, n\u001b[38;5;241m=\u001b[39m\u001b[38;5;241m0\u001b[39m):\n\u001b[0;32m   1484\u001b[0m \u001b[38;5;250m    \u001b[39m\u001b[38;5;124;03m\"\"\"Call the mainloop of Tk.\"\"\"\u001b[39;00m\n\u001b[1;32m-> 1485\u001b[0m     \u001b[38;5;28mself\u001b[39m\u001b[38;5;241m.\u001b[39mtk\u001b[38;5;241m.\u001b[39mmainloop(n)\n",
      "\u001b[1;31mKeyboardInterrupt\u001b[0m: "
     ]
    }
   ],
   "source": [
    "from tkinter import *\n",
    "root = Tk()\n",
    "\n",
    "Label(root, text=\"Number one\").pack(side=\"left\")\n",
    "\n",
    "# An Entry is where we can have a single line. while a text has multiple line\n",
    "\n",
    "Entry(root).pack()\n",
    "Label(root, text=\"Number two\").pack(side=\"left\")\n",
    "\n",
    "Entry(root).pack()\n",
    "root.mainloop()"
   ]
  },
  {
   "cell_type": "code",
   "execution_count": 6,
   "id": "2e3f505f",
   "metadata": {},
   "outputs": [
    {
     "name": "stdout",
     "output_type": "stream",
     "text": [
      "Entry 1\n",
      "Entry 2\n",
      "Entry 1\n",
      "Entry 2\n",
      "Entry 1\n",
      "Entry 2\n"
     ]
    },
    {
     "ename": "KeyboardInterrupt",
     "evalue": "",
     "output_type": "error",
     "traceback": [
      "\u001b[1;31m---------------------------------------------------------------------------\u001b[0m",
      "\u001b[1;31mKeyboardInterrupt\u001b[0m                         Traceback (most recent call last)",
      "Cell \u001b[1;32mIn[6], line 22\u001b[0m\n\u001b[0;32m     18\u001b[0m Entry(frame2)\u001b[38;5;241m.\u001b[39mpack()\n\u001b[0;32m     21\u001b[0m Button(text \u001b[38;5;241m=\u001b[39m \u001b[38;5;124m\"\u001b[39m\u001b[38;5;124mAdd\u001b[39m\u001b[38;5;124m\"\u001b[39m, command \u001b[38;5;241m=\u001b[39m compute)\u001b[38;5;241m.\u001b[39mpack()\n\u001b[1;32m---> 22\u001b[0m root\u001b[38;5;241m.\u001b[39mmainloop()\n",
      "File \u001b[1;32m~\\anaconda3\\Lib\\tkinter\\__init__.py:1485\u001b[0m, in \u001b[0;36mMisc.mainloop\u001b[1;34m(self, n)\u001b[0m\n\u001b[0;32m   1483\u001b[0m \u001b[38;5;28;01mdef\u001b[39;00m \u001b[38;5;21mmainloop\u001b[39m(\u001b[38;5;28mself\u001b[39m, n\u001b[38;5;241m=\u001b[39m\u001b[38;5;241m0\u001b[39m):\n\u001b[0;32m   1484\u001b[0m \u001b[38;5;250m    \u001b[39m\u001b[38;5;124;03m\"\"\"Call the mainloop of Tk.\"\"\"\u001b[39;00m\n\u001b[1;32m-> 1485\u001b[0m     \u001b[38;5;28mself\u001b[39m\u001b[38;5;241m.\u001b[39mtk\u001b[38;5;241m.\u001b[39mmainloop(n)\n",
      "File \u001b[1;32m~\\anaconda3\\Lib\\tkinter\\__init__.py:1943\u001b[0m, in \u001b[0;36mCallWrapper.__call__\u001b[1;34m(self, *args)\u001b[0m\n\u001b[0;32m   1940\u001b[0m     \u001b[38;5;28mself\u001b[39m\u001b[38;5;241m.\u001b[39msubst \u001b[38;5;241m=\u001b[39m subst\n\u001b[0;32m   1941\u001b[0m     \u001b[38;5;28mself\u001b[39m\u001b[38;5;241m.\u001b[39mwidget \u001b[38;5;241m=\u001b[39m widget\n\u001b[1;32m-> 1943\u001b[0m \u001b[38;5;28;01mdef\u001b[39;00m \u001b[38;5;21m__call__\u001b[39m(\u001b[38;5;28mself\u001b[39m, \u001b[38;5;241m*\u001b[39margs):\n\u001b[0;32m   1944\u001b[0m \u001b[38;5;250m    \u001b[39m\u001b[38;5;124;03m\"\"\"Apply first function SUBST to arguments, than FUNC.\"\"\"\u001b[39;00m\n\u001b[0;32m   1945\u001b[0m     \u001b[38;5;28;01mtry\u001b[39;00m:\n",
      "\u001b[1;31mKeyboardInterrupt\u001b[0m: "
     ]
    }
   ],
   "source": [
    "def compute():\n",
    "    print(\"Entry 1\")\n",
    "    print(\"Entry 2\")\n",
    "from tkinter import *\n",
    "root = Tk()\n",
    "frame1 = Frame(root)\n",
    "frame1.pack()\n",
    "\n",
    "frame2=Frame(root)\n",
    "frame2.pack()\n",
    "\n",
    "Label(frame1, text = \"Number One\").pack(side=\"left\")\n",
    "Entry1 =Entry(frame1)\n",
    "Entry(frame1).pack()\n",
    "\n",
    "Label(frame2, text = \"Number Two\").pack(side=\"left\")\n",
    "Entry2 =Entry(frame2)\n",
    "Entry(frame2).pack()\n",
    "\n",
    "\n",
    "Button(text = \"Add\", command = compute).pack()\n",
    "root.mainloop()\n"
   ]
  },
  {
   "cell_type": "code",
   "execution_count": null,
   "id": "6223f5c4",
   "metadata": {},
   "outputs": [
    {
     "name": "stdout",
     "output_type": "stream",
     "text": [
      "2.0\n",
      "50.0\n",
      "5.0\n",
      "15.0\n"
     ]
    }
   ],
   "source": [
    "from tkinter import *\n",
    "def add_numbers():\n",
    "    compute = float(entry1.get()) + float(entry2.get())\n",
    "    print(f\"{compute}\")\n",
    "    \n",
    "def sub_numbers():\n",
    "    compute = float(entry1.get()) - float(entry2.get())\n",
    "    print(f\"{compute}\")\n",
    "        \n",
    "def mul_numbers():\n",
    "    compute = float(entry1.get()) * float(entry2.get())\n",
    "    print(f\"{compute}\")\n",
    "    \n",
    "def div_numbers():\n",
    "    compute = float(entry1.get()) / float(entry2.get())\n",
    "    print(f\"{compute}\")\n",
    "    \n",
    "root =Tk()\n",
    "        \n",
    "frame1 = Frame(root)\n",
    "frame1.pack()\n",
    "\n",
    "frame2 = Frame(root)\n",
    "frame2.pack()\n",
    "\n",
    "\n",
    "Label(frame1,text= \"Number One\").pack(side=\"left\")\n",
    "entry1= Entry(frame1)\n",
    "entry1.pack()\n",
    "\n",
    "Label(frame2, text= \"Number One\").pack(side=\"left\")\n",
    "entry2= Entry(frame2)\n",
    "entry2.pack()\n",
    "\n",
    "Button(root, text = \"ADD\", command = add_numbers).pack(side=\"right\")\n",
    "\n",
    "Button(root, text = \"SUBTRACT\", command = sub_numbers).pack(side=\"right\")\n",
    "\n",
    "Button(root, text = \"MULTIPLY\", command = mul_numbers).pack(side=\"right\")\n",
    "\n",
    "Button(root, text = \"DIVIDE\", command = div_numbers).pack(side=\"right\")\n",
    "\n",
    "root.mainloop()\n"
   ]
  },
  {
   "cell_type": "code",
   "execution_count": 45,
   "id": "8eedfd2a",
   "metadata": {},
   "outputs": [
    {
     "ename": "NameError",
     "evalue": "name 'add' is not defined",
     "output_type": "error",
     "traceback": [
      "\u001b[1;31m---------------------------------------------------------------------------\u001b[0m",
      "\u001b[1;31mNameError\u001b[0m                                 Traceback (most recent call last)",
      "Cell \u001b[1;32mIn[45], line 29\u001b[0m\n\u001b[0;32m     26\u001b[0m entry2\u001b[38;5;241m=\u001b[39m Entry(frame2)\n\u001b[0;32m     27\u001b[0m entry2\u001b[38;5;241m.\u001b[39mpack()\n\u001b[1;32m---> 29\u001b[0m Button(root, text \u001b[38;5;241m=\u001b[39m \u001b[38;5;124m\"\u001b[39m\u001b[38;5;124mADD\u001b[39m\u001b[38;5;124m\"\u001b[39m, command \u001b[38;5;241m=\u001b[39m add)\u001b[38;5;241m.\u001b[39mpack(side\u001b[38;5;241m=\u001b[39m\u001b[38;5;124m\"\u001b[39m\u001b[38;5;124mright\u001b[39m\u001b[38;5;124m\"\u001b[39m)\n\u001b[0;32m     32\u001b[0m root\u001b[38;5;241m.\u001b[39mmainloop()\n",
      "\u001b[1;31mNameError\u001b[0m: name 'add' is not defined"
     ]
    }
   ],
   "source": [
    "from tkinter import *\n",
    "class OOP:\n",
    "    def __init__(self,a,b):\n",
    "        self.a = a\n",
    "        self.b = b\n",
    "        \n",
    "    def __add__(self,other):\n",
    "        add = a + b\n",
    "        print(add)\n",
    "    \n",
    "    \n",
    "root =Tk()\n",
    "        \n",
    "frame1 = Frame(root)\n",
    "frame1.pack()\n",
    "\n",
    "frame2 = Frame(root)\n",
    "frame2.pack()\n",
    "\n",
    "\n",
    "Label(frame1,text= \"Number One\").pack(side=\"left\")\n",
    "entry1= Entry(frame1)\n",
    "entry1.pack()\n",
    "\n",
    "Label(frame2, text= \"Number One\").pack(side=\"left\")\n",
    "entry2= Entry(frame2)\n",
    "entry2.pack()\n",
    "\n",
    "Button(root, text = \"ADD\", command = add).pack(side=\"right\")\n",
    "\n",
    "\n",
    "root.mainloop()\n"
   ]
  },
  {
   "cell_type": "code",
   "execution_count": 29,
   "id": "a894a14b",
   "metadata": {},
   "outputs": [],
   "source": [
    "a=OOP(10,5)\n",
    "b=OOP(12,4)"
   ]
  },
  {
   "cell_type": "code",
   "execution_count": 30,
   "id": "bd147c22",
   "metadata": {},
   "outputs": [
    {
     "name": "stdout",
     "output_type": "stream",
     "text": [
      "10 + 12\n"
     ]
    }
   ],
   "source": [
    "print(a + b)"
   ]
  },
  {
   "cell_type": "code",
   "execution_count": 27,
   "id": "1247d775",
   "metadata": {},
   "outputs": [
    {
     "data": {
      "text/plain": [
       "'10 + 12'"
      ]
     },
     "execution_count": 27,
     "metadata": {},
     "output_type": "execute_result"
    }
   ],
   "source": [
    "a+b"
   ]
  },
  {
   "cell_type": "code",
   "execution_count": 33,
   "id": "d87cf746",
   "metadata": {},
   "outputs": [
    {
     "data": {
      "text/plain": [
       "5"
      ]
     },
     "execution_count": 33,
     "metadata": {},
     "output_type": "execute_result"
    }
   ],
   "source": [
    "a.b"
   ]
  },
  {
   "cell_type": "code",
   "execution_count": null,
   "id": "da6cb61d",
   "metadata": {},
   "outputs": [],
   "source": []
  }
 ],
 "metadata": {
  "kernelspec": {
   "display_name": "Python 3 (ipykernel)",
   "language": "python",
   "name": "python3"
  },
  "language_info": {
   "codemirror_mode": {
    "name": "ipython",
    "version": 3
   },
   "file_extension": ".py",
   "mimetype": "text/x-python",
   "name": "python",
   "nbconvert_exporter": "python",
   "pygments_lexer": "ipython3",
   "version": "3.11.4"
  }
 },
 "nbformat": 4,
 "nbformat_minor": 5
}
