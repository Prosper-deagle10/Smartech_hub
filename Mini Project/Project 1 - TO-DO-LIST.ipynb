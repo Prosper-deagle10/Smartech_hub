{
 "cells": [
  {
   "cell_type": "code",
   "execution_count": null,
   "id": "96d00e0f",
   "metadata": {},
   "outputs": [],
   "source": [
    "from tkinter import *\n",
    "import tkinter as tk\n",
    "\n",
    "master = Tk()\n",
    "master.title(\" TO-DO-LIST \")\n",
    "master.config(bg = \"pink\")\n",
    "\n",
    "frame1 = Frame(master, bg = \"black\", bd = 8, relief = \"sunken\")\n",
    "frame1.grid(row = 2, column = 1)\n",
    "def add_task():\n",
    "    task = entry.get() \n",
    "    listbox.insert(END, task)\n",
    "    entry.delete(0, END)\n",
    "\n",
    "def mark_completed():\n",
    "    selected_task_index = listbox.curselection()\n",
    "    completed_task = listbox.get(selected_task_index)\n",
    "    listbox.delete(selected_task_index)\n",
    "    completed_listbox.insert(END, completed_task)\n",
    "\n",
    "def delete_task():\n",
    "    selected_task_index = listbox.curselection()\n",
    "    listbox.delete(selected_task_index)\n",
    "    \n",
    "def delete_complete_task():\n",
    "    selected_task_index = completed_listbox.curselection()\n",
    "    completed_listbox.delete(selected_task_index)\n",
    "    \n",
    "    \n",
    "        \n",
    "        \n",
    "Label(master, text=\"Smartech To-do-list\", bg = \"grey\", fg = \"white\",font = (\"Algerian\",20)).grid(row=0, column = 1, columnspan =2)\n",
    "Label(master, text=\"Today's Task\", bg = \"black\", fg = \"white\",font = (\"Algerian\",20)).grid(row=3, column = 1, columnspan =2)\n",
    "Label(master, text=\"Completed Tasks\", bg = \"grey\", fg = \"white\",font = (\"Algerian\",20)).grid(row=5, column = 1, columnspan =2)        \n",
    "entry = Entry(master, width = 50, bd =8, relief = \"sunken\")\n",
    "entry.grid(row = 1, column = 1)\n",
    "\n",
    "listbox = Listbox(master, bg = \"white\", bd = 6, relief = \"sunken\")\n",
    "listbox.grid(row =4, column=1, columnspan = 2, ipadx = 60, ipady = 10)\n",
    "\n",
    "completed_listbox = Listbox(master, bg = \"white\", bd = 6, relief = \"raised\")\n",
    "completed_listbox.grid(row=6, column=1, columnspan = 2, ipadx=60, ipady = 10)\n",
    "\n",
    "Button(frame1, text=\"Add Task\", command=add_task, fg = \"black\", relief = \"raised\", bd = 6).grid(row=2, column=0, padx=2, pady=3)\n",
    "Button(frame1, text=\"Mark Completed\", command=mark_completed, fg = \"green\", relief = \"raised\", bd = 6).grid(row=2, column=1, padx=2, pady=3)\n",
    "Button(frame1, text=\"Delete Task\", command=delete_task, fg = \"red\", relief = \"raised\", bd = 6).grid(row=2, column=2, padx=2, pady=3)\n",
    "\n",
    "Button(frame1, text=\"Del Completed Task\", command=delete_complete_task, fg = \"orange\", relief = \"raised\", bd = 6).grid(row=2, column=3, padx=2, pady=3)\n",
    "\n",
    "\n",
    "master.mainloop()"
   ]
  }
 ],
 "metadata": {
  "kernelspec": {
   "display_name": "Python 3 (ipykernel)",
   "language": "python",
   "name": "python3"
  },
  "language_info": {
   "codemirror_mode": {
    "name": "ipython",
    "version": 3
   },
   "file_extension": ".py",
   "mimetype": "text/x-python",
   "name": "python",
   "nbconvert_exporter": "python",
   "pygments_lexer": "ipython3",
   "version": "3.11.4"
  }
 },
 "nbformat": 4,
 "nbformat_minor": 5
}
